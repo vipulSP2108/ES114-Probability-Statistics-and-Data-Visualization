{
  "nbformat": 4,
  "nbformat_minor": 0,
  "metadata": {
    "colab": {
      "provenance": []
    },
    "kernelspec": {
      "name": "python3",
      "display_name": "Python 3"
    },
    "language_info": {
      "name": "python"
    }
  },
  "cells": [
    {
      "cell_type": "markdown",
      "source": [
        "# This Tutorial focuses on SciPy. \n",
        "\n",
        "SciPy - Scientific Python is a free opensource scientific computation library. It provides utility functions for optimization, statistics and signal processing.\n",
        "\n",
        "For references, check its [documentation](https://docs.scipy.org/doc/scipy/tutorial/index.html).\n"
      ],
      "metadata": {
        "id": "etpGzDyqjzjd"
      }
    },
    {
      "cell_type": "markdown",
      "source": [
        "#Question1. \n",
        "Calculate the L1 & L2 norm for a random 3*3 generated matrix"
      ],
      "metadata": {
        "id": "DSv2P0ig5QGl"
      }
    },
    {
      "cell_type": "code",
      "source": [
        "import numpy as np\n",
        "from scipy import linalg\n",
        "\n",
        "print('3*3 matrix')\n",
        "matx=np.random.randint(10, size=(3,3))\n",
        "print(matx)\n",
        "\n",
        "L1= linalg.norm(matx,ord=1)\n",
        "L2= linalg.norm(matx,ord=2)\n",
        "\n",
        "print(f'\\nL1\\n{L1}\\n\\nL2\\n{L2}')"
      ],
      "metadata": {
        "id": "tQ-rErgHwbLp",
        "colab": {
          "base_uri": "https://localhost:8080/"
        },
        "outputId": "5de1aa7b-0467-4bec-b40e-aac4b23809e9"
      },
      "execution_count": null,
      "outputs": [
        {
          "output_type": "stream",
          "name": "stdout",
          "text": [
            "3*3 matrix\n",
            "[[5 3 1]\n",
            " [3 8 8]\n",
            " [5 4 4]]\n",
            "\n",
            "L1\n",
            "15.0\n",
            "\n",
            "L2\n",
            "14.40641993271969\n"
          ]
        }
      ]
    },
    {
      "cell_type": "markdown",
      "source": [
        "#Question2.\n",
        "Find the value of a & b using scipy's least-square solution function for the relation $y = a + bx^3$ using the following data points:\n",
        "\n",
        "    x = np.array([1, 3, 4, 5, 6, 7, 9])\n",
        "    y = np.array([0.3, 1.4, 1.7, 2.4, 3.5, 6.7, 9.4])\n",
        "\n",
        "Also, plot the graph containing the x & y points and the final function"
      ],
      "metadata": {
        "id": "HuBHGGiD7cjM"
      }
    },
    {
      "cell_type": "code",
      "source": [
        "import numpy as np\n",
        "from scipy.optimize import leastsq\n",
        "import matplotlib.pyplot as plt\n",
        "\n",
        "x = np.array([1, 3, 4, 5, 6, 7, 9])\n",
        "y = np.array([0.3, 1.4, 1.7, 2.4, 3.5, 6.7, 9.4])\n",
        "plt.plot(x,y,'*',label='data points')"
      ],
      "metadata": {
        "id": "qOP7TRPMweWi",
        "colab": {
          "base_uri": "https://localhost:8080/",
          "height": 149
        },
        "outputId": "014e79ba-1d7b-45fb-df67-2322abda0855"
      },
      "execution_count": null,
      "outputs": [
        {
          "output_type": "error",
          "ename": "SyntaxError",
          "evalue": "ignored",
          "traceback": [
            "\u001b[0;36m  File \u001b[0;32m\"<ipython-input-128-d693189d4fa5>\"\u001b[0;36m, line \u001b[0;32m10\u001b[0m\n\u001b[0;31m    X=x[:np.newaxis]**[0:3]\u001b[0m\n\u001b[0m                        ^\u001b[0m\n\u001b[0;31mSyntaxError\u001b[0m\u001b[0;31m:\u001b[0m invalid syntax\n"
          ]
        }
      ]
    },
    {
      "cell_type": "code",
      "source": [],
      "metadata": {
        "id": "k5dWEFuFDPR9"
      },
      "execution_count": null,
      "outputs": []
    },
    {
      "cell_type": "markdown",
      "source": [
        "#Question 3.\n",
        " Use scipy.io function to read in a .mat file, extract the data from the file and use it to fit the function (y = a+bx)? Create a .mat file containing the following data (Hint: Use scipy.io)\n",
        "\n",
        "    x_data = [1, 2, 3, 4, 5]\n",
        "    y_data = [3, 5, 7, 9, 11]\n"
      ],
      "metadata": {
        "id": "kbskXWWf878m"
      }
    },
    {
      "cell_type": "code",
      "source": [
        "import scipy.io as sio\n",
        "import numpy as np\n",
        "\n",
        "x_data = [1, 2, 3, 4, 5]\n",
        "y_data = [3, 5, 7, 9, 11]\n",
        "\n",
        "data=sio.loadmat('a.mat')"
      ],
      "metadata": {
        "id": "Ftf52OZpwjN6",
        "colab": {
          "base_uri": "https://localhost:8080/",
          "height": 437
        },
        "outputId": "45b895b6-3445-49e1-86fb-d39900828330"
      },
      "execution_count": null,
      "outputs": [
        {
          "output_type": "error",
          "ename": "FileNotFoundError",
          "evalue": "ignored",
          "traceback": [
            "\u001b[0;31m---------------------------------------------------------------------------\u001b[0m",
            "\u001b[0;31mFileNotFoundError\u001b[0m                         Traceback (most recent call last)",
            "\u001b[0;32m/usr/local/lib/python3.8/dist-packages/scipy/io/matlab/mio.py\u001b[0m in \u001b[0;36m_open_file\u001b[0;34m(file_like, appendmat, mode)\u001b[0m\n\u001b[1;32m     38\u001b[0m     \u001b[0;32mtry\u001b[0m\u001b[0;34m:\u001b[0m\u001b[0;34m\u001b[0m\u001b[0;34m\u001b[0m\u001b[0m\n\u001b[0;32m---> 39\u001b[0;31m         \u001b[0;32mreturn\u001b[0m \u001b[0mopen\u001b[0m\u001b[0;34m(\u001b[0m\u001b[0mfile_like\u001b[0m\u001b[0;34m,\u001b[0m \u001b[0mmode\u001b[0m\u001b[0;34m)\u001b[0m\u001b[0;34m,\u001b[0m \u001b[0;32mTrue\u001b[0m\u001b[0;34m\u001b[0m\u001b[0;34m\u001b[0m\u001b[0m\n\u001b[0m\u001b[1;32m     40\u001b[0m     \u001b[0;32mexcept\u001b[0m \u001b[0mIOError\u001b[0m \u001b[0;32mas\u001b[0m \u001b[0me\u001b[0m\u001b[0;34m:\u001b[0m\u001b[0;34m\u001b[0m\u001b[0;34m\u001b[0m\u001b[0m\n",
            "\u001b[0;31mFileNotFoundError\u001b[0m: [Errno 2] No such file or directory: 'a.mat'",
            "\nDuring handling of the above exception, another exception occurred:\n",
            "\u001b[0;31mFileNotFoundError\u001b[0m                         Traceback (most recent call last)",
            "\u001b[0;32m<ipython-input-126-e13ca494b805>\u001b[0m in \u001b[0;36m<module>\u001b[0;34m\u001b[0m\n\u001b[1;32m      5\u001b[0m \u001b[0my_data\u001b[0m \u001b[0;34m=\u001b[0m \u001b[0;34m[\u001b[0m\u001b[0;36m3\u001b[0m\u001b[0;34m,\u001b[0m \u001b[0;36m5\u001b[0m\u001b[0;34m,\u001b[0m \u001b[0;36m7\u001b[0m\u001b[0;34m,\u001b[0m \u001b[0;36m9\u001b[0m\u001b[0;34m,\u001b[0m \u001b[0;36m11\u001b[0m\u001b[0;34m]\u001b[0m\u001b[0;34m\u001b[0m\u001b[0;34m\u001b[0m\u001b[0m\n\u001b[1;32m      6\u001b[0m \u001b[0;34m\u001b[0m\u001b[0m\n\u001b[0;32m----> 7\u001b[0;31m \u001b[0mdata\u001b[0m\u001b[0;34m=\u001b[0m\u001b[0msio\u001b[0m\u001b[0;34m.\u001b[0m\u001b[0mloadmat\u001b[0m\u001b[0;34m(\u001b[0m\u001b[0;34m'a.mat'\u001b[0m\u001b[0;34m)\u001b[0m\u001b[0;34m\u001b[0m\u001b[0;34m\u001b[0m\u001b[0m\n\u001b[0m\u001b[1;32m      8\u001b[0m \u001b[0;34m\u001b[0m\u001b[0m\n\u001b[1;32m      9\u001b[0m \u001b[0mx_data\u001b[0m\u001b[0;34m=\u001b[0m \u001b[0mdata\u001b[0m\u001b[0;34m[\u001b[0m\u001b[0;34m'x_data'\u001b[0m\u001b[0;34m]\u001b[0m\u001b[0;34m\u001b[0m\u001b[0;34m\u001b[0m\u001b[0m\n",
            "\u001b[0;32m/usr/local/lib/python3.8/dist-packages/scipy/io/matlab/mio.py\u001b[0m in \u001b[0;36mloadmat\u001b[0;34m(file_name, mdict, appendmat, **kwargs)\u001b[0m\n\u001b[1;32m    222\u001b[0m     \"\"\"\n\u001b[1;32m    223\u001b[0m     \u001b[0mvariable_names\u001b[0m \u001b[0;34m=\u001b[0m \u001b[0mkwargs\u001b[0m\u001b[0;34m.\u001b[0m\u001b[0mpop\u001b[0m\u001b[0;34m(\u001b[0m\u001b[0;34m'variable_names'\u001b[0m\u001b[0;34m,\u001b[0m \u001b[0;32mNone\u001b[0m\u001b[0;34m)\u001b[0m\u001b[0;34m\u001b[0m\u001b[0;34m\u001b[0m\u001b[0m\n\u001b[0;32m--> 224\u001b[0;31m     \u001b[0;32mwith\u001b[0m \u001b[0m_open_file_context\u001b[0m\u001b[0;34m(\u001b[0m\u001b[0mfile_name\u001b[0m\u001b[0;34m,\u001b[0m \u001b[0mappendmat\u001b[0m\u001b[0;34m)\u001b[0m \u001b[0;32mas\u001b[0m \u001b[0mf\u001b[0m\u001b[0;34m:\u001b[0m\u001b[0;34m\u001b[0m\u001b[0;34m\u001b[0m\u001b[0m\n\u001b[0m\u001b[1;32m    225\u001b[0m         \u001b[0mMR\u001b[0m\u001b[0;34m,\u001b[0m \u001b[0m_\u001b[0m \u001b[0;34m=\u001b[0m \u001b[0mmat_reader_factory\u001b[0m\u001b[0;34m(\u001b[0m\u001b[0mf\u001b[0m\u001b[0;34m,\u001b[0m \u001b[0;34m**\u001b[0m\u001b[0mkwargs\u001b[0m\u001b[0;34m)\u001b[0m\u001b[0;34m\u001b[0m\u001b[0;34m\u001b[0m\u001b[0m\n\u001b[1;32m    226\u001b[0m         \u001b[0mmatfile_dict\u001b[0m \u001b[0;34m=\u001b[0m \u001b[0mMR\u001b[0m\u001b[0;34m.\u001b[0m\u001b[0mget_variables\u001b[0m\u001b[0;34m(\u001b[0m\u001b[0mvariable_names\u001b[0m\u001b[0;34m)\u001b[0m\u001b[0;34m\u001b[0m\u001b[0;34m\u001b[0m\u001b[0m\n",
            "\u001b[0;32m/usr/lib/python3.8/contextlib.py\u001b[0m in \u001b[0;36m__enter__\u001b[0;34m(self)\u001b[0m\n\u001b[1;32m    111\u001b[0m         \u001b[0;32mdel\u001b[0m \u001b[0mself\u001b[0m\u001b[0;34m.\u001b[0m\u001b[0margs\u001b[0m\u001b[0;34m,\u001b[0m \u001b[0mself\u001b[0m\u001b[0;34m.\u001b[0m\u001b[0mkwds\u001b[0m\u001b[0;34m,\u001b[0m \u001b[0mself\u001b[0m\u001b[0;34m.\u001b[0m\u001b[0mfunc\u001b[0m\u001b[0;34m\u001b[0m\u001b[0;34m\u001b[0m\u001b[0m\n\u001b[1;32m    112\u001b[0m         \u001b[0;32mtry\u001b[0m\u001b[0;34m:\u001b[0m\u001b[0;34m\u001b[0m\u001b[0;34m\u001b[0m\u001b[0m\n\u001b[0;32m--> 113\u001b[0;31m             \u001b[0;32mreturn\u001b[0m \u001b[0mnext\u001b[0m\u001b[0;34m(\u001b[0m\u001b[0mself\u001b[0m\u001b[0;34m.\u001b[0m\u001b[0mgen\u001b[0m\u001b[0;34m)\u001b[0m\u001b[0;34m\u001b[0m\u001b[0;34m\u001b[0m\u001b[0m\n\u001b[0m\u001b[1;32m    114\u001b[0m         \u001b[0;32mexcept\u001b[0m \u001b[0mStopIteration\u001b[0m\u001b[0;34m:\u001b[0m\u001b[0;34m\u001b[0m\u001b[0;34m\u001b[0m\u001b[0m\n\u001b[1;32m    115\u001b[0m             \u001b[0;32mraise\u001b[0m \u001b[0mRuntimeError\u001b[0m\u001b[0;34m(\u001b[0m\u001b[0;34m\"generator didn't yield\"\u001b[0m\u001b[0;34m)\u001b[0m \u001b[0;32mfrom\u001b[0m \u001b[0;32mNone\u001b[0m\u001b[0;34m\u001b[0m\u001b[0;34m\u001b[0m\u001b[0m\n",
            "\u001b[0;32m/usr/local/lib/python3.8/dist-packages/scipy/io/matlab/mio.py\u001b[0m in \u001b[0;36m_open_file_context\u001b[0;34m(file_like, appendmat, mode)\u001b[0m\n\u001b[1;32m     15\u001b[0m \u001b[0;34m@\u001b[0m\u001b[0mcontextmanager\u001b[0m\u001b[0;34m\u001b[0m\u001b[0;34m\u001b[0m\u001b[0m\n\u001b[1;32m     16\u001b[0m \u001b[0;32mdef\u001b[0m \u001b[0m_open_file_context\u001b[0m\u001b[0;34m(\u001b[0m\u001b[0mfile_like\u001b[0m\u001b[0;34m,\u001b[0m \u001b[0mappendmat\u001b[0m\u001b[0;34m,\u001b[0m \u001b[0mmode\u001b[0m\u001b[0;34m=\u001b[0m\u001b[0;34m'rb'\u001b[0m\u001b[0;34m)\u001b[0m\u001b[0;34m:\u001b[0m\u001b[0;34m\u001b[0m\u001b[0;34m\u001b[0m\u001b[0m\n\u001b[0;32m---> 17\u001b[0;31m     \u001b[0mf\u001b[0m\u001b[0;34m,\u001b[0m \u001b[0mopened\u001b[0m \u001b[0;34m=\u001b[0m \u001b[0m_open_file\u001b[0m\u001b[0;34m(\u001b[0m\u001b[0mfile_like\u001b[0m\u001b[0;34m,\u001b[0m \u001b[0mappendmat\u001b[0m\u001b[0;34m,\u001b[0m \u001b[0mmode\u001b[0m\u001b[0;34m)\u001b[0m\u001b[0;34m\u001b[0m\u001b[0;34m\u001b[0m\u001b[0m\n\u001b[0m\u001b[1;32m     18\u001b[0m     \u001b[0;32mtry\u001b[0m\u001b[0;34m:\u001b[0m\u001b[0;34m\u001b[0m\u001b[0;34m\u001b[0m\u001b[0m\n\u001b[1;32m     19\u001b[0m         \u001b[0;32myield\u001b[0m \u001b[0mf\u001b[0m\u001b[0;34m\u001b[0m\u001b[0;34m\u001b[0m\u001b[0m\n",
            "\u001b[0;32m/usr/local/lib/python3.8/dist-packages/scipy/io/matlab/mio.py\u001b[0m in \u001b[0;36m_open_file\u001b[0;34m(file_like, appendmat, mode)\u001b[0m\n\u001b[1;32m     43\u001b[0m             \u001b[0;32mif\u001b[0m \u001b[0mappendmat\u001b[0m \u001b[0;32mand\u001b[0m \u001b[0;32mnot\u001b[0m \u001b[0mfile_like\u001b[0m\u001b[0;34m.\u001b[0m\u001b[0mendswith\u001b[0m\u001b[0;34m(\u001b[0m\u001b[0;34m'.mat'\u001b[0m\u001b[0;34m)\u001b[0m\u001b[0;34m:\u001b[0m\u001b[0;34m\u001b[0m\u001b[0;34m\u001b[0m\u001b[0m\n\u001b[1;32m     44\u001b[0m                 \u001b[0mfile_like\u001b[0m \u001b[0;34m+=\u001b[0m \u001b[0;34m'.mat'\u001b[0m\u001b[0;34m\u001b[0m\u001b[0;34m\u001b[0m\u001b[0m\n\u001b[0;32m---> 45\u001b[0;31m             \u001b[0;32mreturn\u001b[0m \u001b[0mopen\u001b[0m\u001b[0;34m(\u001b[0m\u001b[0mfile_like\u001b[0m\u001b[0;34m,\u001b[0m \u001b[0mmode\u001b[0m\u001b[0;34m)\u001b[0m\u001b[0;34m,\u001b[0m \u001b[0;32mTrue\u001b[0m\u001b[0;34m\u001b[0m\u001b[0;34m\u001b[0m\u001b[0m\n\u001b[0m\u001b[1;32m     46\u001b[0m         \u001b[0;32melse\u001b[0m\u001b[0;34m:\u001b[0m\u001b[0;34m\u001b[0m\u001b[0;34m\u001b[0m\u001b[0m\n\u001b[1;32m     47\u001b[0m             raise IOError(\n",
            "\u001b[0;31mFileNotFoundError\u001b[0m: [Errno 2] No such file or directory: 'a.mat'"
          ]
        }
      ]
    },
    {
      "cell_type": "markdown",
      "source": [
        "# Question 4.\n",
        "Solve the set of linear equations using scipy.\n",
        "$$\n",
        "x + y + z = 9\n",
        "$$\n",
        "$$\n",
        "2x – y + z = 5\n",
        "$$\n",
        "$$\n",
        "4x + y – z = 7\n",
        "$$"
      ],
      "metadata": {
        "id": "lpeFZfcIyx1i"
      }
    },
    {
      "cell_type": "code",
      "source": [
        "import numpy as np\n",
        "from scipy import linalg\n",
        "\n",
        "a=np.array([[1,1,1],[2,-1,1],[4,1,-1]])\n",
        "b=np.array([9,5,7])\n",
        "soln=linalg.solve(a,b)\n",
        "\n",
        "print(f'Solution of the set of linear equations x+y+z=9, 2x-y+z=5, 4x+y-z=7 is {soln}')\n",
        "print(f'where,\\nvalue of x is {soln[0]}\\nvalue of y is {soln[1]}\\nvalue of z is {soln[2]}')"
      ],
      "metadata": {
        "id": "glOMqquhwmCz",
        "colab": {
          "base_uri": "https://localhost:8080/"
        },
        "outputId": "2890128f-1da3-4b9c-8218-b664e024d5a5"
      },
      "execution_count": null,
      "outputs": [
        {
          "output_type": "stream",
          "name": "stdout",
          "text": [
            "Solution of the set of linear equations x+y+z=9, 2x-y+z=5, 4x+y-z=7 is [2. 3. 4.]\n",
            "where,\n",
            "value of x is 2.0\n",
            "value of y is 3.0\n",
            "value of z is 4.0\n"
          ]
        }
      ]
    },
    {
      "cell_type": "markdown",
      "source": [
        "#Question 5.\n",
        "Using numpy, create an array consisting of the numbers from 1 to 20 and use scipy to generate its fast fourier transformation.\n",
        "Also find its inverse transformation."
      ],
      "metadata": {
        "id": "x8VgW-ho_4KZ"
      }
    },
    {
      "cell_type": "code",
      "source": [
        "import numpy as np\n",
        "from scipy.fftpack import fft,ifft\n",
        "\n",
        "arr=np.array(range(1,21))\n",
        "\n",
        "fast_fourier_transformation=fft(arr)\n",
        "inverse_fast_fourier_transformation=ifft(arr)\n",
        "\n",
        "print(f'Fast Fourier Transformation\\n{fast_fourier_transformation}\\n\\nInverse Fast Fourier Transformation\\n{inverse_fast_fourier_transformation}')"
      ],
      "metadata": {
        "id": "7Jq8UdZgL18x",
        "colab": {
          "base_uri": "https://localhost:8080/"
        },
        "outputId": "e8d3967c-7c01-4faf-92f9-a98224af805e"
      },
      "execution_count": null,
      "outputs": [
        {
          "output_type": "stream",
          "name": "stdout",
          "text": [
            "Fast Fourier Transformation\n",
            "[210. -0.j         -10.+63.13751515j -10.+30.77683537j -10.+19.62610506j\n",
            " -10.+13.7638192j  -10.+10.j         -10. +7.26542528j -10. +5.09525449j\n",
            " -10. +3.24919696j -10. +1.5838444j  -10. -0.j         -10. -1.5838444j\n",
            " -10. -3.24919696j -10. -5.09525449j -10. -7.26542528j -10.-10.j\n",
            " -10.-13.7638192j  -10.-19.62610506j -10.-30.77683537j -10.-63.13751515j]\n",
            "\n",
            "Inverse Fast Fourier Transformation\n",
            "[10.5-0.j         -0.5-3.15687576j -0.5-1.53884177j -0.5-0.98130525j\n",
            " -0.5-0.68819096j -0.5-0.5j        -0.5-0.36327126j -0.5-0.25476272j\n",
            " -0.5-0.16245985j -0.5-0.07919222j -0.5-0.j         -0.5+0.07919222j\n",
            " -0.5+0.16245985j -0.5+0.25476272j -0.5+0.36327126j -0.5+0.5j\n",
            " -0.5+0.68819096j -0.5+0.98130525j -0.5+1.53884177j -0.5+3.15687576j]\n"
          ]
        }
      ]
    },
    {
      "cell_type": "markdown",
      "source": [
        "#Question 6\n",
        "\n",
        "Similar to the previous question, but now, generate FFT of a 2D array.\n",
        "\n",
        "Create a random integer array of size 4*5 and use scipy to find its Fast Fourier transformation and also find the inverse of the resulting array (FFT)."
      ],
      "metadata": {
        "id": "0ocZmPlnBKbH"
      }
    },
    {
      "cell_type": "code",
      "source": [
        "import numpy as np\n",
        "from scipy.fftpack import fft2, ifft2\n",
        "\n",
        "matx=np.random.randint(10,size=4*5)\n",
        "matx.resize(4,3)\n",
        "print(f'matrix is\\n{matx}')\n",
        "\n",
        "fast_fourier_transformation=fft2(matx)\n",
        "inverse_fast_fourier_transformation=ifft2(matx)\n",
        "print(f'\\nFast Fourier Transformation of given 2D matrix\\n{fast_fourier_transformation}\\n\\nInverse Fast Fourier Transformation of given 2D matrix\\n{inverse_fast_fourier_transformation}')\n",
        "\n",
        "fast_fourier_transformation.resize(3,3)\n",
        "# print(fast_fourier_transformation)\n",
        "inverse_of_fast_fourier_transformation_resulting_array=np.linalg.inv(fast_fourier_transformation)\n",
        "print(f'\\nInverse of Fast Fourier Transformation Resulting Array\\n{inverse_of_fast_fourier_transformation_resulting_array}')"
      ],
      "metadata": {
        "id": "VDeILiA2jYwh",
        "colab": {
          "base_uri": "https://localhost:8080/"
        },
        "outputId": "98ff1f23-0567-4114-e281-e1176f03da9b"
      },
      "execution_count": null,
      "outputs": [
        {
          "output_type": "stream",
          "name": "stdout",
          "text": [
            "matrix is\n",
            "[[4 6 4]\n",
            " [6 2 7]\n",
            " [0 1 7]\n",
            " [3 1 4]]\n",
            "\n",
            "Fast Fourier Transformation of given 2D matrix\n",
            "[[45.         -0.j         -3.        +10.39230485j\n",
            "  -3.        -10.39230485j]\n",
            " [ 6.         -7.j          4.73205081 -7.92820323j\n",
            "   1.26794919 +5.92820323j]\n",
            " [-1.         -0.j         -7.         -3.46410162j\n",
            "  -7.         +3.46410162j]\n",
            " [ 6.         +7.j          1.26794919 -5.92820323j\n",
            "   4.73205081 +7.92820323j]]\n",
            "\n",
            "Inverse Fast Fourier Transformation of given 2D matrix\n",
            "[[ 3.75      -0.j         -0.25      -0.8660254j  -0.25      +0.8660254j ]\n",
            " [ 0.5       +0.58333333j  0.39433757+0.6606836j   0.10566243-0.49401694j]\n",
            " [-0.08333333-0.j         -0.58333333+0.28867513j -0.58333333-0.28867513j]\n",
            " [ 0.5       -0.58333333j  0.10566243+0.49401694j  0.39433757-0.6606836j ]]\n",
            "\n",
            "Inverse of Fast Fourier Transformation Resulting Array\n",
            "[[ 0.01854969+0.00380357j  0.02640639+0.00148645j  0.00357951-0.00476539j]\n",
            " [-0.01187658-0.00329456j  0.02026279+0.05180215j -0.05025425+0.02071819j]\n",
            " [ 0.00267187+0.00995081j  0.02594839-0.04920086j -0.06848161-0.02905763j]]\n"
          ]
        }
      ]
    },
    {
      "cell_type": "markdown",
      "source": [
        "#Question 7.\n",
        "Create a sine wave with a frequency of 50Hz and apply FFT on it. Plot the result using matplotlib. "
      ],
      "metadata": {
        "id": "ptZ47g_-ihEq"
      }
    },
    {
      "cell_type": "code",
      "source": [
        "import numpy as np\n",
        "from scipy.fftpack import fft,ifft\n",
        "import matplotlib.pyplot as plt\n",
        "\n",
        "amp=1\n",
        "freq=50\n",
        "time=np.arange(0, 0.1-(1/(50*freq)), 1/(50*freq))\n",
        "sin=amp*np.sin(2*np.pi*freq*time)\n",
        "\n",
        "print('Plot of Sine Wave')\n",
        "plt.plot(time,sin)\n",
        "plt.title('Sine Wave')\n",
        "plt.xlabel('Time')\n",
        "plt.ylabel('Amaplitude')\n",
        "plt.show()\n",
        "\n",
        "print('Plot of FFT of Sine Wave')\n",
        "fast_fourier_transformation=fft(sin)\n",
        "plt.plot(np.arange(len(fast_fourier_transformation)),np.abs(fast_fourier_transformation))\n",
        "plt.title('Fast Fourier Transformation of Sine Wave')\n",
        "plt.show()"
      ],
      "metadata": {
        "id": "XI9daGXSja6I",
        "colab": {
          "base_uri": "https://localhost:8080/",
          "height": 613
        },
        "outputId": "840959b1-846d-4eac-fd4d-8c7d208f0c1a"
      },
      "execution_count": null,
      "outputs": [
        {
          "output_type": "stream",
          "name": "stdout",
          "text": [
            "Plot of Sine Wave\n"
          ]
        },
        {
          "output_type": "display_data",
          "data": {
            "text/plain": [
              "<Figure size 432x288 with 1 Axes>"
            ],
            "image/png": "[encoded data removed]"
          },
          "metadata": {
            "needs_background": "light"
          }
        },
        {
          "output_type": "stream",
          "name": "stdout",
          "text": [
            "Plot of FFT of Sine Wave\n"
          ]
        },
        {
          "output_type": "display_data",
          "data": {
            "text/plain": [
              "<Figure size 432x288 with 1 Axes>"
            ],
            "image/png": "[encoded data removed]"
          },
          "metadata": {
            "needs_background": "light"
          }
        }
      ]
    },
    {
      "cell_type": "code",
      "source": [],
      "metadata": {
        "id": "LJ9inqBcoSl9"
      },
      "execution_count": null,
      "outputs": []
    }
  ]
}