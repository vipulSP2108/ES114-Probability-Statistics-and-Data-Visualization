{
  "nbformat": 4,
  "nbformat_minor": 0,
  "metadata": {
    "colab": {
      "provenance": [],
      "collapsed_sections": [
        "X0NgieNcEqhg",
        "3JeEAMgGJmM6",
        "VqfQIHqlK_R0",
        "shFuQpkgRM4l",
        "ZfWyPFtMTHag"
      ]
    },
    "kernelspec": {
      "name": "python3",
      "display_name": "Python 3"
    },
    "language_info": {
      "name": "python"
    }
  },
  "cells": [
    {
      "cell_type": "markdown",
      "source": [
        "## Question 1"
      ],
      "metadata": {
        "id": "X0NgieNcEqhg"
      }
    },
    {
      "cell_type": "markdown",
      "source": [
        "Think of at least three kinds of your favorite pizza. Store these pizza names in a list, and then use a for loop to print the name of each pizza.\n",
        "\n",
        "* Modify your for loop to print a sentence using the name of the pizza, instead of printing just the name of the pizza. For each pizza, you should have one line of output containing a simple statement like I like pepperoni pizza.\n",
        "\n",
        "* Add a line at the end of your program, outside the for loop, that states how much you like pizza. The output should consist of three or more lines about the kinds of pizza you like and then an additional sentence, such as I really love pizza!"
      ],
      "metadata": {
        "id": "A-8kgsOJMQcO"
      }
    },
    {
      "cell_type": "code",
      "execution_count": null,
      "metadata": {
        "id": "kbvU1S88EQh2",
        "colab": {
          "base_uri": "https://localhost:8080/"
        },
        "outputId": "218fb45e-0f42-4646-f193-780dd6401cd6"
      },
      "outputs": [
        {
          "output_type": "stream",
          "name": "stdout",
          "text": [
            "pepperoni pizza\n",
            "cheese pizza\n",
            "tomatoes pizza\n",
            "\n",
            "I Love pepperoni pizza\n",
            "I Love cheese pizza\n",
            "I Love tomatoes pizza\n",
            "\n",
            "I am very much attractive towards foods that are fatty, sweet, rich and complex.\n",
            "Pizza has all of these components. Cheese is fatty, meat toppings tend to be\n",
            "rich and the sauce is sweet.\n",
            "Kinds of pizza I like to eat are;\n",
            "pepperoni pizza\n",
            "cheese pizza\n",
            "tomatoes pizza\n",
            "I really love to eat pizza!\n"
          ]
        }
      ],
      "source": [
        "#printing only pizza name\n",
        "pizza=[\"pepperoni pizza\",\"cheese pizza\",\"tomatoes pizza\"]\n",
        "for i in pizza:\n",
        "  print(i)\n",
        "\n",
        "print()\n",
        "#printing pizza name with some sentence\n",
        "pizza=[\"pepperoni pizza\",\"cheese pizza\",\"tomatoes pizza\"]\n",
        "for i in pizza:\n",
        "  print(\"I Love \"+ i)\n",
        "\n",
        "print()\n",
        "#printing some extra lines at last\n",
        "pizza=[\"pepperoni pizza\",\"cheese pizza\",\"tomatoes pizza\"]\n",
        "print(\"I am very much attractive towards foods that are fatty, sweet, rich and complex.\\nPizza has all of these components. Cheese is fatty, meat toppings tend to be\\nrich and the sauce is sweet.\\nKinds of pizza I like to eat are;\")\n",
        "for i in pizza:\n",
        "  print(i)\n",
        "print(\"I really love to eat pizza!\")\n"
      ]
    },
    {
      "cell_type": "markdown",
      "source": [
        "Now, make a copy of the list of pizzas, and call it friend_pizzas . Then, do the following:\n",
        "\n",
        "* Add a new pizza to the original list.\n",
        "\n",
        "* Add a different pizza to the list friend_pizzas.\n",
        "\n",
        "* Prove that you have two separate lists. Print the message My favorite pizzas are:, and then use a for loop to print the first list. Print the message My\n",
        "friend’s favorite pizzas are:, and then use a for loop to print the second list.Make sure each new pizza is stored in the appropriate list."
      ],
      "metadata": {
        "id": "x4wbQqIEWexA"
      }
    },
    {
      "cell_type": "code",
      "source": [
        "# pizza=[\"pepperoni pizza\",\"cheese pizza\",\"tomatoes pizza\"]\n",
        "friend_pizzas=pizza.copy()\n",
        "pizza.append(\"Chicago pizza\")\n",
        "friend_pizzas.append(\"New York-Style pizza\")\n",
        "\n",
        "pizza.sort() # sorted so that it will give false on [a,b] and [b,a]\n",
        "friend_pizzas.sort()\n",
        "print(pizza==friend_pizzas)\n",
        "print()\n",
        "\n",
        "print(\"My favorite pizzas are:\")\n",
        "for i in pizza:\n",
        "  print(i)\n",
        "print()\n",
        "\n",
        "print(\"My friend’s favorite pizzas are:\")\n",
        "for i in friend_pizzas:\n",
        "  print(i)\n",
        "print()"
      ],
      "metadata": {
        "id": "1UclKGo4Wfyy",
        "colab": {
          "base_uri": "https://localhost:8080/"
        },
        "outputId": "c45c1096-94a0-4645-c3f1-9f60f6104eea"
      },
      "execution_count": null,
      "outputs": [
        {
          "output_type": "stream",
          "name": "stdout",
          "text": [
            "False\n",
            "\n",
            "My favorite pizzas are:\n",
            "Chicago pizza\n",
            "cheese pizza\n",
            "pepperoni pizza\n",
            "tomatoes pizza\n",
            "\n",
            "My friend’s favorite pizzas are:\n",
            "New York-Style pizza\n",
            "cheese pizza\n",
            "pepperoni pizza\n",
            "tomatoes pizza\n",
            "\n"
          ]
        }
      ]
    },
    {
      "cell_type": "markdown",
      "source": [
        "## Question 2"
      ],
      "metadata": {
        "id": "3JeEAMgGJmM6"
      }
    },
    {
      "cell_type": "markdown",
      "source": [
        "Do the following to create a program that simulates\n",
        "how websites ensure that everyone has a unique username.\n",
        "\n",
        "* Make a list of five or more usernames called current_users .\n",
        "\n",
        "* Make another list of five usernames called new_users . Make sure one or two of the new usernames are also in the current_users list.\n",
        "\n",
        "* Loop through the new_users list to see if each new username has already been used. If it has, print a message that the person will need to enter a new username. If a username has not been used, print a message saying that the username is available.\n",
        "\n",
        "* Make sure your comparison is case insensitive. If 'John' has been used, 'JOHN' should not be accepted."
      ],
      "metadata": {
        "id": "t_DEthILMUjt"
      }
    },
    {
      "cell_type": "code",
      "source": [
        "current_users=[\"sidhi\",\"unnati\",\"Sai\",\"anshu\",\"TukTuk\"]\n",
        "current=[]\n",
        "new_users=[\"AAI\",\"ANSHU\",\"Papa\",\"mama\",\"tuktuk\"]\n",
        "for i in current_users:\n",
        "  current.append(i.lower())\n",
        "\n",
        "for i in new_users:\n",
        "  if i.lower() in current:\n",
        "    print(\"Enter a New Username, This is Used.\")\n",
        "  else:\n",
        "    print(\"This Username is Available.\")\n",
        "\n"
      ],
      "metadata": {
        "id": "YYBOp1CKKmpz",
        "colab": {
          "base_uri": "https://localhost:8080/"
        },
        "outputId": "9c89cc8e-e14f-47ee-a57b-e0b59c4a233f"
      },
      "execution_count": null,
      "outputs": [
        {
          "output_type": "stream",
          "name": "stdout",
          "text": [
            "This Username is Available.\n",
            "Enter a New Username, This is Used.\n",
            "This Username is Available.\n",
            "This Username is Available.\n",
            "Enter a New Username, This is Used.\n"
          ]
        }
      ]
    },
    {
      "cell_type": "markdown",
      "source": [
        "Ordinal numbers indicate their position in a list, such as 1st or 2nd. Most ordinal numbers end in th, except 1, 2, and 3.\n",
        "\n",
        "* Store the numbers 1 through 9 in a list.\n",
        "\n",
        "* Loop through the list.\n",
        "\n",
        "* Use an if - elif - else chain inside the loop to print the proper ordinal ending for each number. Your output should read \"1st 2nd 3rd 4th 5th 6th 7th\n",
        "8th 9th\", and each result should be on a separate line."
      ],
      "metadata": {
        "id": "Qqhy_qVAKugi"
      }
    },
    {
      "cell_type": "code",
      "source": [
        "number=[1,2,3,4,5,6,7,8,9]\n",
        "for i in number:\n",
        "  if i==1:\n",
        "    print(str(i)+\"st\")\n",
        "  elif i==2:\n",
        "    print(str(i)+\"nd\")\n",
        "  elif i==3:\n",
        "    print(str(i)+\"rd\")\n",
        "  elif i==0:\n",
        "    print(\"ZERO\")\n",
        "  elif i<0:\n",
        "    print(\"INVALID\")\n",
        "  else:\n",
        "    print(str(i)+\"th\")\n"
      ],
      "metadata": {
        "id": "Wlmp2YTNK2sP",
        "colab": {
          "base_uri": "https://localhost:8080/"
        },
        "outputId": "aac5f282-81b9-4a7d-9918-fbebe6c774ed"
      },
      "execution_count": null,
      "outputs": [
        {
          "output_type": "stream",
          "name": "stdout",
          "text": [
            "1st\n",
            "2nd\n",
            "3rd\n",
            "4th\n",
            "5th\n",
            "6th\n",
            "7th\n",
            "8th\n",
            "9th\n"
          ]
        }
      ]
    },
    {
      "cell_type": "markdown",
      "source": [
        "## Question 3"
      ],
      "metadata": {
        "id": "VqfQIHqlK_R0"
      }
    },
    {
      "cell_type": "markdown",
      "source": [
        "Use a dictionary to store information about a person you know. Store their first name, last name, age, and the city in which they live. You should have keys such as first_name , last_name , age , and city . Print each piece of information stored in your dictionary."
      ],
      "metadata": {
        "id": "Xbv7Et09MXOV"
      }
    },
    {
      "cell_type": "code",
      "source": [
        "Papa={\"first_name\":\"Sunil\" , \"last_name\":\"Patil\" , \"age\":\"49\" , \"city\":\"Jalgoan,India\"}\n",
        "for information in Papa:\n",
        "  print(f'{information} : {Papa[information]}')"
      ],
      "metadata": {
        "id": "wwZPuePAMKTN",
        "colab": {
          "base_uri": "https://localhost:8080/"
        },
        "outputId": "441b5c4c-fe17-41f7-fc92-d45a2ce35586"
      },
      "execution_count": null,
      "outputs": [
        {
          "output_type": "stream",
          "name": "stdout",
          "text": [
            "first_name : Sunil\n",
            "last_name : Patil\n",
            "age : 49\n",
            "city : Jalgoan,India\n"
          ]
        }
      ]
    },
    {
      "cell_type": "markdown",
      "source": [],
      "metadata": {
        "id": "f30zj0XYmRdG"
      }
    },
    {
      "cell_type": "markdown",
      "source": [
        "Make two new dictionaries representing different people (ex: characters from your favourite show 'shows people'), and store all three dictionaries in a list called people . Loop through your list of people. As you loop through the list, print everything you know about each person."
      ],
      "metadata": {
        "id": "lmGmQ50qMy_-"
      }
    },
    {
      "cell_type": "code",
      "source": [
        "Charlie={\"first_name\":\"Charlie\" , \"last_name\":\"Chaplin\" , \"age\":\"died at the age of 73.\" , \"city\":\"Staunton, USA\"}\n",
        "William={\"first_name\":\"William\" , \"last_name\":\"Haines\" , \"age\":\"died at age of 89\" , \"city\":\"London, England\"}\n",
        "people=[Papa,Charlie,William]\n",
        "for i in people:\n",
        "  for information in i:\n",
        "    print(f'{information} : {i[information]}')\n",
        "  print()"
      ],
      "metadata": {
        "id": "weO2IT2EM0ib",
        "colab": {
          "base_uri": "https://localhost:8080/"
        },
        "outputId": "8b093561-9bd8-44a3-fbf2-39690ffb9617"
      },
      "execution_count": null,
      "outputs": [
        {
          "output_type": "stream",
          "name": "stdout",
          "text": [
            "first_name : Sunil\n",
            "last_name : Patil\n",
            "age : 49\n",
            "city : Jalgoan,India\n",
            "\n",
            "first_name : Charlie\n",
            "last_name : Chaplin\n",
            "age : died at the age of 73.\n",
            "city : Staunton, USA\n",
            "\n",
            "first_name : William\n",
            "last_name : Haines\n",
            "age : died at age of 89\n",
            "city : London, England\n",
            "\n"
          ]
        }
      ]
    },
    {
      "cell_type": "markdown",
      "source": [
        "Use a dictionary to store people’s favorite numbers.\n",
        "Think of five names, and use them as keys in your dictionary. Think of a favorite number for each person, and store each as a value in your dictionary. Print each person’s name and their favorite number."
      ],
      "metadata": {
        "id": "bRqISzkGRiF9"
      }
    },
    {
      "cell_type": "code",
      "source": [
        "favnum={\"VIPUL\":[7],\"AAYUSH\":[21],\"NITIN\":[2],\"KESHAV\":[11],\"NIKHIL\":[13]}\n",
        "for data in favnum:\n",
        "  a=favnum[data]\n",
        "  a=str(a)\n",
        "  a=a.replace(\"[\",\"\")\n",
        "  a=a.replace(\"]\",\"\")\n",
        "  print(f\"{data}'s favorite number is {a}\")\n"
      ],
      "metadata": {
        "id": "7kHllYeoRoz8",
        "colab": {
          "base_uri": "https://localhost:8080/"
        },
        "outputId": "b63d7980-de3f-4b67-c711-99deeb79b3ac"
      },
      "execution_count": null,
      "outputs": [
        {
          "output_type": "stream",
          "name": "stdout",
          "text": [
            "VIPUL's favorite number is 7\n",
            "AAYUSH's favorite number is 21\n",
            "NITIN's favorite number is 2\n",
            "KESHAV's favorite number is 11\n",
            "NIKHIL's favorite number is 13\n"
          ]
        }
      ]
    },
    {
      "cell_type": "markdown",
      "source": [
        "Now, modify your previous program so that each person can have more than one favorite number. Then print each person’s name along with their favorite numbers."
      ],
      "metadata": {
        "id": "zgb8g4thRpOa"
      }
    },
    {
      "cell_type": "code",
      "source": [
        "#favnum={\"VIPUL\":[7],\"AAYUSH\":[21],\"NITIN\":[2],\"KESHAV\":[11],\"NIKHIL\":[13]}\n",
        "favnum[\"VIPUL\"].append(2)\n",
        "favnum[\"AAYUSH\"].append(1)\n",
        "favnum[\"NITIN\"].append(7)\n",
        "favnum[\"KESHAV\"].append(8)\n",
        "favnum[\"NIKHIL\"].append(1)\n",
        "\n",
        "#### For taking input from user\n",
        "# for name, number in favnum.items():\n",
        "#   a=input()\n",
        "#   number.append(a)\n",
        "\n",
        "for data in favnum:\n",
        "  a=favnum[data]\n",
        "  a=str(a)\n",
        "  a=a.replace(\"[\",\"\")\n",
        "  a=a.replace(\"]\",\"\")      \n",
        "  a=a.replace(\"'\",\"\")  # this will be use i\n",
        "  print(f\"{data}'s faorite number is {a}\")\n"
      ],
      "metadata": {
        "id": "0r5p7wFWR3j0",
        "colab": {
          "base_uri": "https://localhost:8080/"
        },
        "outputId": "6c5ac5ce-11ca-4510-f91d-73ad8205dd04"
      },
      "execution_count": null,
      "outputs": [
        {
          "output_type": "stream",
          "name": "stdout",
          "text": [
            "VIPUL's faorite number is 7, 2\n",
            "AAYUSH's faorite number is 21, 1\n",
            "NITIN's faorite number is 2, 7\n",
            "KESHAV's faorite number is 11, 8\n",
            "NIKHIL's faorite number is 13, 1\n"
          ]
        }
      ]
    },
    {
      "cell_type": "markdown",
      "source": [
        "## Question 4"
      ],
      "metadata": {
        "id": "shFuQpkgRM4l"
      }
    },
    {
      "cell_type": "markdown",
      "source": [
        "A movie theater charges different ticket prices depending on a person’s age. If a person is under the age of 3, the ticket is free; if they are\n",
        "between 3 and 12, the ticket is \\$10; and if they are over age 12, the ticket is \\$15. Write a loop in which you ask users their age, and then tell them the cost of their movie ticket. (Here you have to take user input using \"input()\" method)"
      ],
      "metadata": {
        "id": "l4Kfst0yRPh8"
      }
    },
    {
      "cell_type": "code",
      "source": [
        "# for ending loop input negative value or 0\n",
        "while True:\n",
        "  age=int(input())\n",
        "  if 0<age<3:\n",
        "    print(\"Free\")\n",
        "  elif 3<=age<=12:\n",
        "    print(\"Pay $10\")\n",
        "  elif age<=0:\n",
        "    break\n",
        "  else:\n",
        "    print(\"Pay $15\")"
      ],
      "metadata": {
        "id": "flZgV6_xROWr",
        "colab": {
          "base_uri": "https://localhost:8080/"
        },
        "outputId": "0c5852b5-cf44-45de-df8a-368397aea6e4"
      },
      "execution_count": null,
      "outputs": [
        {
          "name": "stdout",
          "output_type": "stream",
          "text": [
            "12\n",
            "Pay $10\n",
            "11\n",
            "Pay $10\n",
            "3\n",
            "Pay $10\n",
            "1\n",
            "Free\n",
            "3\n",
            "Pay $10\n",
            "2\n",
            "Free\n",
            "0\n"
          ]
        }
      ]
    },
    {
      "cell_type": "markdown",
      "source": [
        "Write a program that polls users about their dream vacation. Write a prompt similar to \"If you could visit one place in the world, where would you go?\" Include a block of code that prints the results of the poll. (Here you have to take user input using \"input()\" method)"
      ],
      "metadata": {
        "id": "lA0R4O7ZSZ8K"
      }
    },
    {
      "cell_type": "code",
      "source": [
        "### FOR INFINITE LOOP (print end for getting result and ending loop)\n",
        "dict={}\n",
        "while True:\n",
        "  print('\"If you could visit one place in the world, where would you go?\"')\n",
        "  name=input()\n",
        "  name=name.upper()\n",
        "  if name == \"END\":\n",
        "    break\n",
        "  elif name in dict:\n",
        "    dict[name]=dict[name]+1\n",
        "  elif name not in dict:\n",
        "    dict.update({name:1})\n",
        "\n",
        "tot=0\n",
        "winner=[]\n",
        "print(\"\\nResult of poll is \\ntotal no of people participated are:\",end=\" \")\n",
        "a=dict.values()\n",
        "maxnum=max(a)\n",
        "for i in dict:\n",
        "  tot=tot+dict[i]\n",
        "  if dict[i]==maxnum:\n",
        "    winner.append(i.upper())    \n",
        "print(tot)\n",
        "\n",
        "print(\"\")\n",
        "for items in winner:\n",
        "  print(\"WINNER of poll is\",items)\n",
        "\n",
        "\n",
        "print(\"\")\n",
        "if tot==0:\n",
        "  tot=1\n",
        "else:\n",
        "  tot=tot\n",
        "for i in dict:\n",
        " print(f\"{i} : number of voters are {dict[i]} \\nand total percentage is {(dict[i]*10/tot)*10} %\\n\")\n",
        "\n",
        "\n",
        "### FOR 3 CITIES ONLY \n",
        "# print('\"If you could visit one place in the world, where would you go?\"\\n a \\n b \\n c\\n And end, to end the poll')\n",
        "# a1=0\n",
        "# b1=0\n",
        "# c1=0\n",
        "# while True:\n",
        "#   i=input()\n",
        "#   if i.lower()==\"a\":\n",
        "#     a1=a1+1\n",
        "#   elif i.lower()==\"b\":\n",
        "#     b1=b1+1\n",
        "#   elif i.lower()==\"c\":\n",
        "#     c1=c1+1\n",
        "#   elif i.lower()==\"end\":\n",
        "#     break\n",
        "#   else:\n",
        "#     print(\"Invalid Input. Select from list\")\n",
        "\n",
        "# print(\"winner of poll is \")\n",
        "# if a1>=b1 and a1>=c1:\n",
        "#   print(\"a\")\n",
        "# if b1>=a1 and b1>=c1:\n",
        "#   print(\"b\")\n",
        "# if a1<=b1 and a1<=c1:\n",
        "#   print(\"c\")\n",
        "# print()\n",
        "\n",
        "# tot=a1+b1+c1\n",
        "# print(\"total number of people participated are\",tot)\n",
        "# if tot==0:\n",
        "#   tot=1\n",
        "# else:\n",
        "#   tot=tot\n",
        "\n",
        "# print(\"a\",(a1*10/tot)*10,\"%\")\n",
        "# print(\"b\",(b1*10/tot)*10,\"%\")\n",
        "# print(\"c\",(c1*10/tot)*10,\"%\")"
      ],
      "metadata": {
        "id": "oDwD6k3lSeqh",
        "colab": {
          "base_uri": "https://localhost:8080/"
        },
        "outputId": "aec7383d-3e18-4eae-f2c6-14715d8985e9"
      },
      "execution_count": null,
      "outputs": [
        {
          "output_type": "stream",
          "name": "stdout",
          "text": [
            "\"If you could visit one place in the world, where would you go?\"\n",
            "Mumbai\n",
            "\"If you could visit one place in the world, where would you go?\"\n",
            "delhi\n",
            "\"If you could visit one place in the world, where would you go?\"\n",
            "MUMBAI\n",
            "\"If you could visit one place in the world, where would you go?\"\n",
            "channai\n",
            "\"If you could visit one place in the world, where would you go?\"\n",
            "kolkata\n",
            "\"If you could visit one place in the world, where would you go?\"\n",
            "delhi\n",
            "\"If you could visit one place in the world, where would you go?\"\n",
            "mumbai\n",
            "\"If you could visit one place in the world, where would you go?\"\n",
            "end\n",
            "\n",
            "Result of poll is \n",
            "total no of people participated are: 7\n",
            "\n",
            "WINNER of poll is MUMBAI\n",
            "\n",
            "MUMBAI : number of voters are 3 \n",
            "and total percentage is 42.857142857142854 %\n",
            "\n",
            "DELHI : number of voters are 2 \n",
            "and total percentage is 28.571428571428573 %\n",
            "\n",
            "CHANNAI : number of voters are 1 \n",
            "and total percentage is 14.285714285714286 %\n",
            "\n",
            "KOLKATA : number of voters are 1 \n",
            "and total percentage is 14.285714285714286 %\n",
            "\n"
          ]
        }
      ]
    },
    {
      "cell_type": "markdown",
      "source": [
        "## Question 5"
      ],
      "metadata": {
        "id": "ZfWyPFtMTHag"
      }
    },
    {
      "cell_type": "markdown",
      "source": [
        "Open a blank file in your text editor and write a few lines summarizing what you’ve learned about Python so far. Start each line with the phrase \"In Python you can...\" (In colab you can upload your text file using the Files option in left, select it and then right click and upload text file). Write a program that reads the file and prints what you wrote two times: print the contents once by reading in the entire file, and once by storing the lines in a list and then looping over each line."
      ],
      "metadata": {
        "id": "vh_bO9CjTJ5F"
      }
    },
    {
      "cell_type": "code",
      "source": [
        "f=open(\"I can write code.txt\")\n",
        "content=f.read()\n",
        "print(content)\n",
        "\n",
        "list=content.split(\". \")\n",
        "for i in list:\n",
        "  print(i)"
      ],
      "metadata": {
        "id": "UeDjFbUgTJQ0",
        "colab": {
          "base_uri": "https://localhost:8080/"
        },
        "outputId": "5077cd93-5d9f-4f30-e4fc-a9683eb0155e"
      },
      "execution_count": null,
      "outputs": [
        {
          "output_type": "stream",
          "name": "stdout",
          "text": [
            "In python we can print what we want. In python we can do mathematical operations. In python can write basic code, which can make the machine interact with us. In python we can define variables without specifying its datatype. In python you can plot graphs using the matplotlib library.\n",
            "In python we can print what we want\n",
            "In python we can do mathematical operations\n",
            "In python can write basic code, which can make the machine interact with us\n",
            "In python we can define variables without specifying its datatype\n",
            "In python you can plot graphs using the matplotlib library.\n"
          ]
        }
      ]
    },
    {
      "cell_type": "markdown",
      "source": [
        "Write a while loop that prompts users for their name. Collect all the names that are entered, and then write these names to a file called guest_book.txt. Make sure each entry appears on a new line in the file."
      ],
      "metadata": {
        "id": "IqPpmm6LUDz9"
      }
    },
    {
      "cell_type": "code",
      "source": [
        "# print end for ending loop\n",
        "file=open(\"guest_book.txt\",\"w\")\n",
        "\n",
        "listx=[]\n",
        "while True:\n",
        "  username=input(\"Enter your name: \")\n",
        "  if username.lower()==\"end\" or \"\":\n",
        "    break\n",
        "  else:\n",
        "    listx.append(username)\n",
        "    # file.write(username+\"\\n\")\n",
        "text=listx[0]\n",
        "count=1\n",
        "while count<len(listx):\n",
        "  text=text+\"\\n\"+listx[count]\n",
        "  count=count+1\n",
        "file.write(text)\n",
        "file.close()"
      ],
      "metadata": {
        "id": "d23mVd66UGBO",
        "colab": {
          "base_uri": "https://localhost:8080/"
        },
        "outputId": "c44bb6d1-2f13-42c5-bcff-eb16a2bf5922"
      },
      "execution_count": null,
      "outputs": [
        {
          "name": "stdout",
          "output_type": "stream",
          "text": [
            "Enter your name: vipul\n",
            "Enter your name: papa\n",
            "Enter your name: aai\n",
            "Enter your name: end\n"
          ]
        }
      ]
    },
    {
      "cell_type": "markdown",
      "source": [
        "Write a while loop that takes two number as input and add them, even if they make a mistake and\n",
        "enter text instead of a number. (Hint: you have to use try and except)"
      ],
      "metadata": {
        "id": "6PBA_ZEjUtbB"
      }
    },
    {
      "cell_type": "code",
      "source": [
        "# print end to end loop\n",
        "while True:\n",
        "  num1=input(\"Enter 1st number \")\n",
        "  num2=input(\"Enter 2nd number \")\n",
        "  if num1!=\"end\" and num2 != \"end\":\n",
        "   try :\n",
        "     num1=int(num1)\n",
        "     num2=int(num2)\n",
        "     print(num1+num2)\n",
        "   except:\n",
        "     print(f\"{num1} {num2}\")\n",
        "  else:\n",
        "      break"
      ],
      "metadata": {
        "id": "r2K_12jJU7mS",
        "colab": {
          "base_uri": "https://localhost:8080/"
        },
        "outputId": "674ae71e-e059-4fee-b2a2-acc5fd600ffd"
      },
      "execution_count": null,
      "outputs": [
        {
          "name": "stdout",
          "output_type": "stream",
          "text": [
            "Enter 1st number 7\n",
            "Enter 2nd number 4\n",
            "11\n",
            "Enter 1st number one\n",
            "Enter 2nd number two\n",
            "one two\n",
            "Enter 1st number 3\n",
            "Enter 2nd number end\n"
          ]
        }
      ]
    }
  ]
}