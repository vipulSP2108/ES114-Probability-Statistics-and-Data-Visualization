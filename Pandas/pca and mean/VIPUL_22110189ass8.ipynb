{
  "nbformat": 4,
  "nbformat_minor": 0,
  "metadata": {
    "colab": {
      "provenance": []
    },
    "kernelspec": {
      "name": "python3",
      "display_name": "Python 3"
    },
    "language_info": {
      "name": "python"
    }
  },
  "cells": [
    {
      "cell_type": "markdown",
      "source": [
        "# making of fuction for PCA"
      ],
      "metadata": {
        "id": "AtBRoBrb3Jah"
      }
    },
    {
      "cell_type": "code",
      "source": [
        "def pca(data ,n):\n",
        "  means = data.mean(axis=0)\n",
        "  sigma = np.std(data,axis=0,ddof=1)\n",
        "\n",
        "  stddata = (data-means)/sigma\n",
        "\n",
        "  covmatx = np.cov(stddata, rowvar = False)\n",
        "\n",
        "  eigenvalues, eigenvectors = np.linalg.eig(covmatx)\n",
        "\n",
        "  order = np.argsort(eigenvalues)[::-1]\n",
        "\n",
        "  sortvect = eigenvectors[:, order]\n",
        "\n",
        "  if n != 0:\n",
        "    vectorsubset = sortvect[:, :n]\n",
        "\n",
        "  transformed = np.matmul(stddata,vectorsubset)\n",
        "  return transformed\n",
        "\n",
        "# M2\n",
        "\n",
        "\n",
        "def pcam2(X, n):\n",
        "    means = X.mean(axis=0)\n",
        "    center = X - means\n",
        "\n",
        "    covmatx = np.cov(center.T)\n",
        "\n",
        "    eigenvalues, eigenvectors = np.linalg.eig(covmatx)\n",
        "\n",
        "    order = np.argsort(eigenvalues)[::-1]\n",
        "    eigenvalues = eigenvalues[order]\n",
        "    sortvect = eigenvectors[:, order]\n",
        "\n",
        "    if n != 0:\n",
        "        vectorsubset = sortvect[:, :n]\n",
        "\n",
        "    transformed = np.dot(center, vectorsubset)\n",
        "    transformed *= -1\n",
        "    \n",
        "    return transformed"
      ],
      "metadata": {
        "id": "dcEAvGDoyvip"
      },
      "execution_count": 83,
      "outputs": []
    },
    {
      "cell_type": "code",
      "source": [
        "import pandas as pd\n",
        "from matplotlib import pyplot as plt\n",
        "import numpy as np\n",
        "from sklearn.cluster import KMeans\n",
        "from sklearn.preprocessing import StandardScaler\n",
        "from sklearn.preprocessing import MinMaxScaler"
      ],
      "metadata": {
        "id": "Ql6hEWCBYxpI"
      },
      "execution_count": 84,
      "outputs": []
    },
    {
      "cell_type": "markdown",
      "source": [
        "# 1. MAKING DATA SET"
      ],
      "metadata": {
        "id": "gZ_gqZali8MH"
      }
    },
    {
      "cell_type": "code",
      "source": [
        "dfc = pd.DataFrame(np.random.randint(0, 10, size=(1000, 5)), columns=['Col1', 'Col2', 'Col3', 'Col4', 'Col5'])\n",
        "dfc\n",
        "# dfc.describe()"
      ],
      "metadata": {
        "colab": {
          "base_uri": "https://localhost:8080/",
          "height": 433
        },
        "id": "Da1gEaF_jACg",
        "outputId": "b5d96f71-e926-4b7c-c888-c5b0e2a77278"
      },
      "execution_count": 85,
      "outputs": [
        {
          "output_type": "execute_result",
          "data": {
            "text/plain": [
              "     Col1  Col2  Col3  Col4  Col5\n",
              "0       3     5     9     3     6\n",
              "1       1     0     3     9     8\n",
              "2       3     9     4     2     4\n",
              "3       4     0     1     3     6\n",
              "4       1     4     8     6     3\n",
              "..    ...   ...   ...   ...   ...\n",
              "995     8     8     4     8     1\n",
              "996     1     7     2     7     3\n",
              "997     6     7     5     2     2\n",
              "998     5     6     3     5     0\n",
              "999     3     5     3     4     4\n",
              "\n",
              "[1000 rows x 5 columns]"
            ],
            "text/html": [
              "\n",
              "  <div id=\"df-96c6e0cd-962c-43f6-b94b-cf7c916a2fa5\">\n",
              "    <div class=\"colab-df-container\">\n",
              "      <div>\n",
              "<style scoped>\n",
              "    .dataframe tbody tr th:only-of-type {\n",
              "        vertical-align: middle;\n",
              "    }\n",
              "\n",
              "    .dataframe tbody tr th {\n",
              "        vertical-align: top;\n",
              "    }\n",
              "\n",
              "    .dataframe thead th {\n",
              "        text-align: right;\n",
              "    }\n",
              "</style>\n",
              "<table border=\"1\" class=\"dataframe\">\n",
              "  <thead>\n",
              "    <tr style=\"text-align: right;\">\n",
              "      <th></th>\n",
              "      <th>Col1</th>\n",
              "      <th>Col2</th>\n",
              "      <th>Col3</th>\n",
              "      <th>Col4</th>\n",
              "      <th>Col5</th>\n",
              "    </tr>\n",
              "  </thead>\n",
              "  <tbody>\n",
              "    <tr>\n",
              "      <th>0</th>\n",
              "      <td>3</td>\n",
              "      <td>5</td>\n",
              "      <td>9</td>\n",
              "      <td>3</td>\n",
              "      <td>6</td>\n",
              "    </tr>\n",
              "    <tr>\n",
              "      <th>1</th>\n",
              "      <td>1</td>\n",
              "      <td>0</td>\n",
              "      <td>3</td>\n",
              "      <td>9</td>\n",
              "      <td>8</td>\n",
              "    </tr>\n",
              "    <tr>\n",
              "      <th>2</th>\n",
              "      <td>3</td>\n",
              "      <td>9</td>\n",
              "      <td>4</td>\n",
              "      <td>2</td>\n",
              "      <td>4</td>\n",
              "    </tr>\n",
              "    <tr>\n",
              "      <th>3</th>\n",
              "      <td>4</td>\n",
              "      <td>0</td>\n",
              "      <td>1</td>\n",
              "      <td>3</td>\n",
              "      <td>6</td>\n",
              "    </tr>\n",
              "    <tr>\n",
              "      <th>4</th>\n",
              "      <td>1</td>\n",
              "      <td>4</td>\n",
              "      <td>8</td>\n",
              "      <td>6</td>\n",
              "      <td>3</td>\n",
              "    </tr>\n",
              "    <tr>\n",
              "      <th>...</th>\n",
              "      <td>...</td>\n",
              "      <td>...</td>\n",
              "      <td>...</td>\n",
              "      <td>...</td>\n",
              "      <td>...</td>\n",
              "    </tr>\n",
              "    <tr>\n",
              "      <th>995</th>\n",
              "      <td>8</td>\n",
              "      <td>8</td>\n",
              "      <td>4</td>\n",
              "      <td>8</td>\n",
              "      <td>1</td>\n",
              "    </tr>\n",
              "    <tr>\n",
              "      <th>996</th>\n",
              "      <td>1</td>\n",
              "      <td>7</td>\n",
              "      <td>2</td>\n",
              "      <td>7</td>\n",
              "      <td>3</td>\n",
              "    </tr>\n",
              "    <tr>\n",
              "      <th>997</th>\n",
              "      <td>6</td>\n",
              "      <td>7</td>\n",
              "      <td>5</td>\n",
              "      <td>2</td>\n",
              "      <td>2</td>\n",
              "    </tr>\n",
              "    <tr>\n",
              "      <th>998</th>\n",
              "      <td>5</td>\n",
              "      <td>6</td>\n",
              "      <td>3</td>\n",
              "      <td>5</td>\n",
              "      <td>0</td>\n",
              "    </tr>\n",
              "    <tr>\n",
              "      <th>999</th>\n",
              "      <td>3</td>\n",
              "      <td>5</td>\n",
              "      <td>3</td>\n",
              "      <td>4</td>\n",
              "      <td>4</td>\n",
              "    </tr>\n",
              "  </tbody>\n",
              "</table>\n",
              "<p>1000 rows × 5 columns</p>\n",
              "</div>\n",
              "      <button class=\"colab-df-convert\" onclick=\"convertToInteractive('df-96c6e0cd-962c-43f6-b94b-cf7c916a2fa5')\"\n",
              "              title=\"Convert this dataframe to an interactive table.\"\n",
              "              style=\"display:none;\">\n",
              "        \n",
              "  <svg xmlns=\"http://www.w3.org/2000/svg\" height=\"24px\"viewBox=\"0 0 24 24\"\n",
              "       width=\"24px\">\n",
              "    <path d=\"M0 0h24v24H0V0z\" fill=\"none\"/>\n",
              "    <path d=\"M18.56 5.44l.94 2.06.94-2.06 2.06-.94-2.06-.94-.94-2.06-.94 2.06-2.06.94zm-11 1L8.5 8.5l.94-2.06 2.06-.94-2.06-.94L8.5 2.5l-.94 2.06-2.06.94zm10 10l.94 2.06.94-2.06 2.06-.94-2.06-.94-.94-2.06-.94 2.06-2.06.94z\"/><path d=\"M17.41 7.96l-1.37-1.37c-.4-.4-.92-.59-1.43-.59-.52 0-1.04.2-1.43.59L10.3 9.45l-7.72 7.72c-.78.78-.78 2.05 0 2.83L4 21.41c.39.39.9.59 1.41.59.51 0 1.02-.2 1.41-.59l7.78-7.78 2.81-2.81c.8-.78.8-2.07 0-2.86zM5.41 20L4 18.59l7.72-7.72 1.47 1.35L5.41 20z\"/>\n",
              "  </svg>\n",
              "      </button>\n",
              "      \n",
              "  <style>\n",
              "    .colab-df-container {\n",
              "      display:flex;\n",
              "      flex-wrap:wrap;\n",
              "      gap: 12px;\n",
              "    }\n",
              "\n",
              "    .colab-df-convert {\n",
              "      background-color: #E8F0FE;\n",
              "      border: none;\n",
              "      border-radius: 50%;\n",
              "      cursor: pointer;\n",
              "      display: none;\n",
              "      fill: #1967D2;\n",
              "      height: 32px;\n",
              "      padding: 0 0 0 0;\n",
              "      width: 32px;\n",
              "    }\n",
              "\n",
              "    .colab-df-convert:hover {\n",
              "      background-color: #E2EBFA;\n",
              "      box-shadow: 0px 1px 2px rgba(60, 64, 67, 0.3), 0px 1px 3px 1px rgba(60, 64, 67, 0.15);\n",
              "      fill: #174EA6;\n",
              "    }\n",
              "\n",
              "    [theme=dark] .colab-df-convert {\n",
              "      background-color: #3B4455;\n",
              "      fill: #D2E3FC;\n",
              "    }\n",
              "\n",
              "    [theme=dark] .colab-df-convert:hover {\n",
              "      background-color: #434B5C;\n",
              "      box-shadow: 0px 1px 3px 1px rgba(0, 0, 0, 0.15);\n",
              "      filter: drop-shadow(0px 1px 2px rgba(0, 0, 0, 0.3));\n",
              "      fill: #FFFFFF;\n",
              "    }\n",
              "  </style>\n",
              "\n",
              "      <script>\n",
              "        const buttonEl =\n",
              "          document.querySelector('#df-96c6e0cd-962c-43f6-b94b-cf7c916a2fa5 button.colab-df-convert');\n",
              "        buttonEl.style.display =\n",
              "          google.colab.kernel.accessAllowed ? 'block' : 'none';\n",
              "\n",
              "        async function convertToInteractive(key) {\n",
              "          const element = document.querySelector('#df-96c6e0cd-962c-43f6-b94b-cf7c916a2fa5');\n",
              "          const dataTable =\n",
              "            await google.colab.kernel.invokeFunction('convertToInteractive',\n",
              "                                                     [key], {});\n",
              "          if (!dataTable) return;\n",
              "\n",
              "          const docLinkHtml = 'Like what you see? Visit the ' +\n",
              "            '<a target=\"_blank\" href=https://colab.research.google.com/notebooks/data_table.ipynb>data table notebook</a>'\n",
              "            + ' to learn more about interactive tables.';\n",
              "          element.innerHTML = '';\n",
              "          dataTable['output_type'] = 'display_data';\n",
              "          await google.colab.output.renderOutput(dataTable, element);\n",
              "          const docLink = document.createElement('div');\n",
              "          docLink.innerHTML = docLinkHtml;\n",
              "          element.appendChild(docLink);\n",
              "        }\n",
              "      </script>\n",
              "    </div>\n",
              "  </div>\n",
              "  "
            ]
          },
          "metadata": {},
          "execution_count": 85
        }
      ]
    },
    {
      "cell_type": "markdown",
      "source": [
        "# 1. TAKING DATA SET"
      ],
      "metadata": {
        "id": "CKTk3aFCi2wf"
      }
    },
    {
      "cell_type": "code",
      "source": [
        "dfold = pd.read_csv('/content/2011_rankings.csv')\n",
        "dfold.head()"
      ],
      "metadata": {
        "colab": {
          "base_uri": "https://localhost:8080/",
          "height": 447
        },
        "id": "HqzYlvAhbyzY",
        "outputId": "4f14e529-4674-42c4-f37e-fb913590d7d6"
      },
      "execution_count": 86,
      "outputs": [
        {
          "output_type": "execute_result",
          "data": {
            "text/plain": [
              "   rank_order  rank                                   name  scores_overall  \\\n",
              "0           1     1                     Harvard University            96.1   \n",
              "1           2     2     California Institute of Technology            96.0   \n",
              "2           3     3  Massachusetts Institute of Technology            95.6   \n",
              "3           4     4                    Stanford University            94.3   \n",
              "4           5     5                   Princeton University            94.2   \n",
              "\n",
              "   scores_overall_rank  scores_teaching  scores_teaching_rank  \\\n",
              "0                    1             99.7                     1   \n",
              "1                    2             97.7                     4   \n",
              "2                    3             97.8                     3   \n",
              "3                    4             98.3                     2   \n",
              "4                    5             90.9                     6   \n",
              "\n",
              "  scores_international_outlook  scores_international_outlook_rank  \\\n",
              "0                         72.4                                 49   \n",
              "1                         54.6                                 93   \n",
              "2                         82.3                                 36   \n",
              "3                         29.5                                156   \n",
              "4                         70.3                                 53   \n",
              "\n",
              "  scores_industry_income  scores_industry_income_rank  scores_research  \\\n",
              "0                   34.5                          105             98.7   \n",
              "1                   83.7                           24             98.0   \n",
              "2                   87.5                           21             91.4   \n",
              "3                   64.3                           33             98.1   \n",
              "4                      -                          164             95.4   \n",
              "\n",
              "   scores_research_rank  scores_citations  scores_citations_rank  \\\n",
              "0                     2              98.8                      8   \n",
              "1                     4              99.9                      1   \n",
              "2                    11              99.9                      2   \n",
              "3                     3              99.2                      6   \n",
              "4                     5              99.9                      3   \n",
              "\n",
              "        location                                     aliases  \\\n",
              "0  United States                          Harvard University   \n",
              "1  United States  California Institute of Technology caltech   \n",
              "2  United States       Massachusetts Institute of Technology   \n",
              "3  United States                         Stanford University   \n",
              "4  United States                        Princeton University   \n",
              "\n",
              "                                    subjects_offered  closed  unaccredited  \n",
              "0  Mathematics & Statistics,Civil Engineering,Lan...   False         False  \n",
              "1  Languages, Literature & Linguistics,Economics ...   False         False  \n",
              "2  Mathematics & Statistics,Languages, Literature...   False         False  \n",
              "3  Physics & Astronomy,Computer Science,Politics ...   False         False  \n",
              "4  Languages, Literature & Linguistics,Biological...   False         False  "
            ],
            "text/html": [
              "\n",
              "  <div id=\"df-e5f5020b-1774-4f70-ab30-7dbfc7d6d59b\">\n",
              "    <div class=\"colab-df-container\">\n",
              "      <div>\n",
              "<style scoped>\n",
              "    .dataframe tbody tr th:only-of-type {\n",
              "        vertical-align: middle;\n",
              "    }\n",
              "\n",
              "    .dataframe tbody tr th {\n",
              "        vertical-align: top;\n",
              "    }\n",
              "\n",
              "    .dataframe thead th {\n",
              "        text-align: right;\n",
              "    }\n",
              "</style>\n",
              "<table border=\"1\" class=\"dataframe\">\n",
              "  <thead>\n",
              "    <tr style=\"text-align: right;\">\n",
              "      <th></th>\n",
              "      <th>rank_order</th>\n",
              "      <th>rank</th>\n",
              "      <th>name</th>\n",
              "      <th>scores_overall</th>\n",
              "      <th>scores_overall_rank</th>\n",
              "      <th>scores_teaching</th>\n",
              "      <th>scores_teaching_rank</th>\n",
              "      <th>scores_international_outlook</th>\n",
              "      <th>scores_international_outlook_rank</th>\n",
              "      <th>scores_industry_income</th>\n",
              "      <th>scores_industry_income_rank</th>\n",
              "      <th>scores_research</th>\n",
              "      <th>scores_research_rank</th>\n",
              "      <th>scores_citations</th>\n",
              "      <th>scores_citations_rank</th>\n",
              "      <th>location</th>\n",
              "      <th>aliases</th>\n",
              "      <th>subjects_offered</th>\n",
              "      <th>closed</th>\n",
              "      <th>unaccredited</th>\n",
              "    </tr>\n",
              "  </thead>\n",
              "  <tbody>\n",
              "    <tr>\n",
              "      <th>0</th>\n",
              "      <td>1</td>\n",
              "      <td>1</td>\n",
              "      <td>Harvard University</td>\n",
              "      <td>96.1</td>\n",
              "      <td>1</td>\n",
              "      <td>99.7</td>\n",
              "      <td>1</td>\n",
              "      <td>72.4</td>\n",
              "      <td>49</td>\n",
              "      <td>34.5</td>\n",
              "      <td>105</td>\n",
              "      <td>98.7</td>\n",
              "      <td>2</td>\n",
              "      <td>98.8</td>\n",
              "      <td>8</td>\n",
              "      <td>United States</td>\n",
              "      <td>Harvard University</td>\n",
              "      <td>Mathematics &amp; Statistics,Civil Engineering,Lan...</td>\n",
              "      <td>False</td>\n",
              "      <td>False</td>\n",
              "    </tr>\n",
              "    <tr>\n",
              "      <th>1</th>\n",
              "      <td>2</td>\n",
              "      <td>2</td>\n",
              "      <td>California Institute of Technology</td>\n",
              "      <td>96.0</td>\n",
              "      <td>2</td>\n",
              "      <td>97.7</td>\n",
              "      <td>4</td>\n",
              "      <td>54.6</td>\n",
              "      <td>93</td>\n",
              "      <td>83.7</td>\n",
              "      <td>24</td>\n",
              "      <td>98.0</td>\n",
              "      <td>4</td>\n",
              "      <td>99.9</td>\n",
              "      <td>1</td>\n",
              "      <td>United States</td>\n",
              "      <td>California Institute of Technology caltech</td>\n",
              "      <td>Languages, Literature &amp; Linguistics,Economics ...</td>\n",
              "      <td>False</td>\n",
              "      <td>False</td>\n",
              "    </tr>\n",
              "    <tr>\n",
              "      <th>2</th>\n",
              "      <td>3</td>\n",
              "      <td>3</td>\n",
              "      <td>Massachusetts Institute of Technology</td>\n",
              "      <td>95.6</td>\n",
              "      <td>3</td>\n",
              "      <td>97.8</td>\n",
              "      <td>3</td>\n",
              "      <td>82.3</td>\n",
              "      <td>36</td>\n",
              "      <td>87.5</td>\n",
              "      <td>21</td>\n",
              "      <td>91.4</td>\n",
              "      <td>11</td>\n",
              "      <td>99.9</td>\n",
              "      <td>2</td>\n",
              "      <td>United States</td>\n",
              "      <td>Massachusetts Institute of Technology</td>\n",
              "      <td>Mathematics &amp; Statistics,Languages, Literature...</td>\n",
              "      <td>False</td>\n",
              "      <td>False</td>\n",
              "    </tr>\n",
              "    <tr>\n",
              "      <th>3</th>\n",
              "      <td>4</td>\n",
              "      <td>4</td>\n",
              "      <td>Stanford University</td>\n",
              "      <td>94.3</td>\n",
              "      <td>4</td>\n",
              "      <td>98.3</td>\n",
              "      <td>2</td>\n",
              "      <td>29.5</td>\n",
              "      <td>156</td>\n",
              "      <td>64.3</td>\n",
              "      <td>33</td>\n",
              "      <td>98.1</td>\n",
              "      <td>3</td>\n",
              "      <td>99.2</td>\n",
              "      <td>6</td>\n",
              "      <td>United States</td>\n",
              "      <td>Stanford University</td>\n",
              "      <td>Physics &amp; Astronomy,Computer Science,Politics ...</td>\n",
              "      <td>False</td>\n",
              "      <td>False</td>\n",
              "    </tr>\n",
              "    <tr>\n",
              "      <th>4</th>\n",
              "      <td>5</td>\n",
              "      <td>5</td>\n",
              "      <td>Princeton University</td>\n",
              "      <td>94.2</td>\n",
              "      <td>5</td>\n",
              "      <td>90.9</td>\n",
              "      <td>6</td>\n",
              "      <td>70.3</td>\n",
              "      <td>53</td>\n",
              "      <td>-</td>\n",
              "      <td>164</td>\n",
              "      <td>95.4</td>\n",
              "      <td>5</td>\n",
              "      <td>99.9</td>\n",
              "      <td>3</td>\n",
              "      <td>United States</td>\n",
              "      <td>Princeton University</td>\n",
              "      <td>Languages, Literature &amp; Linguistics,Biological...</td>\n",
              "      <td>False</td>\n",
              "      <td>False</td>\n",
              "    </tr>\n",
              "  </tbody>\n",
              "</table>\n",
              "</div>\n",
              "      <button class=\"colab-df-convert\" onclick=\"convertToInteractive('df-e5f5020b-1774-4f70-ab30-7dbfc7d6d59b')\"\n",
              "              title=\"Convert this dataframe to an interactive table.\"\n",
              "              style=\"display:none;\">\n",
              "        \n",
              "  <svg xmlns=\"http://www.w3.org/2000/svg\" height=\"24px\"viewBox=\"0 0 24 24\"\n",
              "       width=\"24px\">\n",
              "    <path d=\"M0 0h24v24H0V0z\" fill=\"none\"/>\n",
              "    <path d=\"M18.56 5.44l.94 2.06.94-2.06 2.06-.94-2.06-.94-.94-2.06-.94 2.06-2.06.94zm-11 1L8.5 8.5l.94-2.06 2.06-.94-2.06-.94L8.5 2.5l-.94 2.06-2.06.94zm10 10l.94 2.06.94-2.06 2.06-.94-2.06-.94-.94-2.06-.94 2.06-2.06.94z\"/><path d=\"M17.41 7.96l-1.37-1.37c-.4-.4-.92-.59-1.43-.59-.52 0-1.04.2-1.43.59L10.3 9.45l-7.72 7.72c-.78.78-.78 2.05 0 2.83L4 21.41c.39.39.9.59 1.41.59.51 0 1.02-.2 1.41-.59l7.78-7.78 2.81-2.81c.8-.78.8-2.07 0-2.86zM5.41 20L4 18.59l7.72-7.72 1.47 1.35L5.41 20z\"/>\n",
              "  </svg>\n",
              "      </button>\n",
              "      \n",
              "  <style>\n",
              "    .colab-df-container {\n",
              "      display:flex;\n",
              "      flex-wrap:wrap;\n",
              "      gap: 12px;\n",
              "    }\n",
              "\n",
              "    .colab-df-convert {\n",
              "      background-color: #E8F0FE;\n",
              "      border: none;\n",
              "      border-radius: 50%;\n",
              "      cursor: pointer;\n",
              "      display: none;\n",
              "      fill: #1967D2;\n",
              "      height: 32px;\n",
              "      padding: 0 0 0 0;\n",
              "      width: 32px;\n",
              "    }\n",
              "\n",
              "    .colab-df-convert:hover {\n",
              "      background-color: #E2EBFA;\n",
              "      box-shadow: 0px 1px 2px rgba(60, 64, 67, 0.3), 0px 1px 3px 1px rgba(60, 64, 67, 0.15);\n",
              "      fill: #174EA6;\n",
              "    }\n",
              "\n",
              "    [theme=dark] .colab-df-convert {\n",
              "      background-color: #3B4455;\n",
              "      fill: #D2E3FC;\n",
              "    }\n",
              "\n",
              "    [theme=dark] .colab-df-convert:hover {\n",
              "      background-color: #434B5C;\n",
              "      box-shadow: 0px 1px 3px 1px rgba(0, 0, 0, 0.15);\n",
              "      filter: drop-shadow(0px 1px 2px rgba(0, 0, 0, 0.3));\n",
              "      fill: #FFFFFF;\n",
              "    }\n",
              "  </style>\n",
              "\n",
              "      <script>\n",
              "        const buttonEl =\n",
              "          document.querySelector('#df-e5f5020b-1774-4f70-ab30-7dbfc7d6d59b button.colab-df-convert');\n",
              "        buttonEl.style.display =\n",
              "          google.colab.kernel.accessAllowed ? 'block' : 'none';\n",
              "\n",
              "        async function convertToInteractive(key) {\n",
              "          const element = document.querySelector('#df-e5f5020b-1774-4f70-ab30-7dbfc7d6d59b');\n",
              "          const dataTable =\n",
              "            await google.colab.kernel.invokeFunction('convertToInteractive',\n",
              "                                                     [key], {});\n",
              "          if (!dataTable) return;\n",
              "\n",
              "          const docLinkHtml = 'Like what you see? Visit the ' +\n",
              "            '<a target=\"_blank\" href=https://colab.research.google.com/notebooks/data_table.ipynb>data table notebook</a>'\n",
              "            + ' to learn more about interactive tables.';\n",
              "          element.innerHTML = '';\n",
              "          dataTable['output_type'] = 'display_data';\n",
              "          await google.colab.output.renderOutput(dataTable, element);\n",
              "          const docLink = document.createElement('div');\n",
              "          docLink.innerHTML = docLinkHtml;\n",
              "          element.appendChild(docLink);\n",
              "        }\n",
              "      </script>\n",
              "    </div>\n",
              "  </div>\n",
              "  "
            ]
          },
          "metadata": {},
          "execution_count": 86
        }
      ]
    },
    {
      "cell_type": "markdown",
      "source": [
        "sorting and making data in a way that it can be used"
      ],
      "metadata": {
        "id": "qZGqBQJzjIbN"
      }
    },
    {
      "cell_type": "code",
      "source": [
        "df = dfold[['scores_overall_rank','scores_citations_rank','scores_research_rank','scores_industry_income_rank','scores_international_outlook_rank']]\n",
        "\n",
        "df['scores_overall_rank'] = df['scores_overall_rank'].replace(' ',0)\n",
        "df['scores_overall_rank'] = df['scores_overall_rank'].replace('*',0)\n",
        "scale = MinMaxScaler()\n",
        "scale.fit(df[['scores_overall_rank']])\n",
        "df['scores_overall_rank'] = scale.transform(df[['scores_overall_rank']])\n",
        "\n",
        "df['scores_citations_rank'] = df['scores_citations_rank'].replace(' ',0)\n",
        "df['scores_citations_rank'] = df['scores_citations_rank'].replace('*',0)\n",
        "scale = MinMaxScaler()\n",
        "scale.fit(df[['scores_citations_rank']])\n",
        "df['scores_citations_rank'] = scale.transform(df[['scores_citations_rank']])\n",
        "\n",
        "df['scores_research_rank'] = df['scores_research_rank'].replace(' ',0)\n",
        "df['scores_research_rank'] = df['scores_research_rank'].replace('*',0)\n",
        "scale = MinMaxScaler()\n",
        "scale.fit(df[['scores_research_rank']])\n",
        "df['scores_research_rank'] = scale.transform(df[['scores_research_rank']])\n",
        "\n",
        "df['scores_industry_income_rank'] = df['scores_industry_income_rank'].replace(' ',0)\n",
        "df['scores_industry_income_rank'] = df['scores_industry_income_rank'].replace('*',0)\n",
        "scale = MinMaxScaler()\n",
        "scale.fit(df[['scores_industry_income_rank']])\n",
        "df['scores_industry_income_rank'] = scale.transform(df[['scores_industry_income_rank']])\n",
        "\n",
        "df['scores_international_outlook_rank'] = df['scores_international_outlook_rank'].replace(' ',0)\n",
        "df['scores_international_outlook_rank'] = df['scores_international_outlook_rank'].replace('*',0)\n",
        "scale = MinMaxScaler()\n",
        "scale.fit(df[['scores_international_outlook_rank']])\n",
        "df['scores_international_outlook_rank'] = scale.transform(df[['scores_international_outlook_rank']])\n",
        "df"
      ],
      "metadata": {
        "colab": {
          "base_uri": "https://localhost:8080/",
          "height": 1000
        },
        "id": "hFELv_jUfMla",
        "outputId": "8b99d99a-803f-4596-8686-b45c07cb5740"
      },
      "execution_count": 87,
      "outputs": [
        {
          "output_type": "stream",
          "name": "stderr",
          "text": [
            "<ipython-input-87-19974d9a7f1c>:3: SettingWithCopyWarning:\n",
            "\n",
            "\n",
            "A value is trying to be set on a copy of a slice from a DataFrame.\n",
            "Try using .loc[row_indexer,col_indexer] = value instead\n",
            "\n",
            "See the caveats in the documentation: https://pandas.pydata.org/pandas-docs/stable/user_guide/indexing.html#returning-a-view-versus-a-copy\n",
            "\n",
            "<ipython-input-87-19974d9a7f1c>:4: SettingWithCopyWarning:\n",
            "\n",
            "\n",
            "A value is trying to be set on a copy of a slice from a DataFrame.\n",
            "Try using .loc[row_indexer,col_indexer] = value instead\n",
            "\n",
            "See the caveats in the documentation: https://pandas.pydata.org/pandas-docs/stable/user_guide/indexing.html#returning-a-view-versus-a-copy\n",
            "\n",
            "<ipython-input-87-19974d9a7f1c>:7: SettingWithCopyWarning:\n",
            "\n",
            "\n",
            "A value is trying to be set on a copy of a slice from a DataFrame.\n",
            "Try using .loc[row_indexer,col_indexer] = value instead\n",
            "\n",
            "See the caveats in the documentation: https://pandas.pydata.org/pandas-docs/stable/user_guide/indexing.html#returning-a-view-versus-a-copy\n",
            "\n",
            "<ipython-input-87-19974d9a7f1c>:9: SettingWithCopyWarning:\n",
            "\n",
            "\n",
            "A value is trying to be set on a copy of a slice from a DataFrame.\n",
            "Try using .loc[row_indexer,col_indexer] = value instead\n",
            "\n",
            "See the caveats in the documentation: https://pandas.pydata.org/pandas-docs/stable/user_guide/indexing.html#returning-a-view-versus-a-copy\n",
            "\n",
            "<ipython-input-87-19974d9a7f1c>:10: SettingWithCopyWarning:\n",
            "\n",
            "\n",
            "A value is trying to be set on a copy of a slice from a DataFrame.\n",
            "Try using .loc[row_indexer,col_indexer] = value instead\n",
            "\n",
            "See the caveats in the documentation: https://pandas.pydata.org/pandas-docs/stable/user_guide/indexing.html#returning-a-view-versus-a-copy\n",
            "\n",
            "<ipython-input-87-19974d9a7f1c>:13: SettingWithCopyWarning:\n",
            "\n",
            "\n",
            "A value is trying to be set on a copy of a slice from a DataFrame.\n",
            "Try using .loc[row_indexer,col_indexer] = value instead\n",
            "\n",
            "See the caveats in the documentation: https://pandas.pydata.org/pandas-docs/stable/user_guide/indexing.html#returning-a-view-versus-a-copy\n",
            "\n",
            "<ipython-input-87-19974d9a7f1c>:15: SettingWithCopyWarning:\n",
            "\n",
            "\n",
            "A value is trying to be set on a copy of a slice from a DataFrame.\n",
            "Try using .loc[row_indexer,col_indexer] = value instead\n",
            "\n",
            "See the caveats in the documentation: https://pandas.pydata.org/pandas-docs/stable/user_guide/indexing.html#returning-a-view-versus-a-copy\n",
            "\n",
            "<ipython-input-87-19974d9a7f1c>:16: SettingWithCopyWarning:\n",
            "\n",
            "\n",
            "A value is trying to be set on a copy of a slice from a DataFrame.\n",
            "Try using .loc[row_indexer,col_indexer] = value instead\n",
            "\n",
            "See the caveats in the documentation: https://pandas.pydata.org/pandas-docs/stable/user_guide/indexing.html#returning-a-view-versus-a-copy\n",
            "\n",
            "<ipython-input-87-19974d9a7f1c>:19: SettingWithCopyWarning:\n",
            "\n",
            "\n",
            "A value is trying to be set on a copy of a slice from a DataFrame.\n",
            "Try using .loc[row_indexer,col_indexer] = value instead\n",
            "\n",
            "See the caveats in the documentation: https://pandas.pydata.org/pandas-docs/stable/user_guide/indexing.html#returning-a-view-versus-a-copy\n",
            "\n",
            "<ipython-input-87-19974d9a7f1c>:21: SettingWithCopyWarning:\n",
            "\n",
            "\n",
            "A value is trying to be set on a copy of a slice from a DataFrame.\n",
            "Try using .loc[row_indexer,col_indexer] = value instead\n",
            "\n",
            "See the caveats in the documentation: https://pandas.pydata.org/pandas-docs/stable/user_guide/indexing.html#returning-a-view-versus-a-copy\n",
            "\n",
            "<ipython-input-87-19974d9a7f1c>:22: SettingWithCopyWarning:\n",
            "\n",
            "\n",
            "A value is trying to be set on a copy of a slice from a DataFrame.\n",
            "Try using .loc[row_indexer,col_indexer] = value instead\n",
            "\n",
            "See the caveats in the documentation: https://pandas.pydata.org/pandas-docs/stable/user_guide/indexing.html#returning-a-view-versus-a-copy\n",
            "\n",
            "<ipython-input-87-19974d9a7f1c>:25: SettingWithCopyWarning:\n",
            "\n",
            "\n",
            "A value is trying to be set on a copy of a slice from a DataFrame.\n",
            "Try using .loc[row_indexer,col_indexer] = value instead\n",
            "\n",
            "See the caveats in the documentation: https://pandas.pydata.org/pandas-docs/stable/user_guide/indexing.html#returning-a-view-versus-a-copy\n",
            "\n",
            "<ipython-input-87-19974d9a7f1c>:27: SettingWithCopyWarning:\n",
            "\n",
            "\n",
            "A value is trying to be set on a copy of a slice from a DataFrame.\n",
            "Try using .loc[row_indexer,col_indexer] = value instead\n",
            "\n",
            "See the caveats in the documentation: https://pandas.pydata.org/pandas-docs/stable/user_guide/indexing.html#returning-a-view-versus-a-copy\n",
            "\n",
            "<ipython-input-87-19974d9a7f1c>:28: SettingWithCopyWarning:\n",
            "\n",
            "\n",
            "A value is trying to be set on a copy of a slice from a DataFrame.\n",
            "Try using .loc[row_indexer,col_indexer] = value instead\n",
            "\n",
            "See the caveats in the documentation: https://pandas.pydata.org/pandas-docs/stable/user_guide/indexing.html#returning-a-view-versus-a-copy\n",
            "\n",
            "<ipython-input-87-19974d9a7f1c>:31: SettingWithCopyWarning:\n",
            "\n",
            "\n",
            "A value is trying to be set on a copy of a slice from a DataFrame.\n",
            "Try using .loc[row_indexer,col_indexer] = value instead\n",
            "\n",
            "See the caveats in the documentation: https://pandas.pydata.org/pandas-docs/stable/user_guide/indexing.html#returning-a-view-versus-a-copy\n",
            "\n"
          ]
        },
        {
          "output_type": "execute_result",
          "data": {
            "text/plain": [
              "     scores_overall_rank  scores_citations_rank  scores_research_rank  \\\n",
              "0               0.000000               0.035176              0.005025   \n",
              "1               0.005025               0.000000              0.015075   \n",
              "2               0.010050               0.005025              0.050251   \n",
              "3               0.015075               0.025126              0.010050   \n",
              "4               0.020101               0.010050              0.020101   \n",
              "..                   ...                    ...                   ...   \n",
              "195             0.979899               0.412060              0.984925   \n",
              "196             0.984925               0.984925              0.683417   \n",
              "197             0.989950               0.949749              0.844221   \n",
              "198             0.994975               0.718593              0.743719   \n",
              "199             1.000000               0.964824              0.552764   \n",
              "\n",
              "     scores_industry_income_rank  scores_international_outlook_rank  \n",
              "0                       0.522613                           0.241206  \n",
              "1                       0.115578                           0.462312  \n",
              "2                       0.100503                           0.175879  \n",
              "3                       0.160804                           0.778894  \n",
              "4                       0.819095                           0.261307  \n",
              "..                           ...                                ...  \n",
              "195                     0.693467                           0.954774  \n",
              "196                     0.899497                           0.502513  \n",
              "197                     0.150754                           0.773869  \n",
              "198                     0.467337                           0.497487  \n",
              "199                     0.035176                           0.979899  \n",
              "\n",
              "[200 rows x 5 columns]"
            ],
            "text/html": [
              "\n",
              "  <div id=\"df-c3fed3e2-ba34-474b-ae4d-9dc430c2ae7d\">\n",
              "    <div class=\"colab-df-container\">\n",
              "      <div>\n",
              "<style scoped>\n",
              "    .dataframe tbody tr th:only-of-type {\n",
              "        vertical-align: middle;\n",
              "    }\n",
              "\n",
              "    .dataframe tbody tr th {\n",
              "        vertical-align: top;\n",
              "    }\n",
              "\n",
              "    .dataframe thead th {\n",
              "        text-align: right;\n",
              "    }\n",
              "</style>\n",
              "<table border=\"1\" class=\"dataframe\">\n",
              "  <thead>\n",
              "    <tr style=\"text-align: right;\">\n",
              "      <th></th>\n",
              "      <th>scores_overall_rank</th>\n",
              "      <th>scores_citations_rank</th>\n",
              "      <th>scores_research_rank</th>\n",
              "      <th>scores_industry_income_rank</th>\n",
              "      <th>scores_international_outlook_rank</th>\n",
              "    </tr>\n",
              "  </thead>\n",
              "  <tbody>\n",
              "    <tr>\n",
              "      <th>0</th>\n",
              "      <td>0.000000</td>\n",
              "      <td>0.035176</td>\n",
              "      <td>0.005025</td>\n",
              "      <td>0.522613</td>\n",
              "      <td>0.241206</td>\n",
              "    </tr>\n",
              "    <tr>\n",
              "      <th>1</th>\n",
              "      <td>0.005025</td>\n",
              "      <td>0.000000</td>\n",
              "      <td>0.015075</td>\n",
              "      <td>0.115578</td>\n",
              "      <td>0.462312</td>\n",
              "    </tr>\n",
              "    <tr>\n",
              "      <th>2</th>\n",
              "      <td>0.010050</td>\n",
              "      <td>0.005025</td>\n",
              "      <td>0.050251</td>\n",
              "      <td>0.100503</td>\n",
              "      <td>0.175879</td>\n",
              "    </tr>\n",
              "    <tr>\n",
              "      <th>3</th>\n",
              "      <td>0.015075</td>\n",
              "      <td>0.025126</td>\n",
              "      <td>0.010050</td>\n",
              "      <td>0.160804</td>\n",
              "      <td>0.778894</td>\n",
              "    </tr>\n",
              "    <tr>\n",
              "      <th>4</th>\n",
              "      <td>0.020101</td>\n",
              "      <td>0.010050</td>\n",
              "      <td>0.020101</td>\n",
              "      <td>0.819095</td>\n",
              "      <td>0.261307</td>\n",
              "    </tr>\n",
              "    <tr>\n",
              "      <th>...</th>\n",
              "      <td>...</td>\n",
              "      <td>...</td>\n",
              "      <td>...</td>\n",
              "      <td>...</td>\n",
              "      <td>...</td>\n",
              "    </tr>\n",
              "    <tr>\n",
              "      <th>195</th>\n",
              "      <td>0.979899</td>\n",
              "      <td>0.412060</td>\n",
              "      <td>0.984925</td>\n",
              "      <td>0.693467</td>\n",
              "      <td>0.954774</td>\n",
              "    </tr>\n",
              "    <tr>\n",
              "      <th>196</th>\n",
              "      <td>0.984925</td>\n",
              "      <td>0.984925</td>\n",
              "      <td>0.683417</td>\n",
              "      <td>0.899497</td>\n",
              "      <td>0.502513</td>\n",
              "    </tr>\n",
              "    <tr>\n",
              "      <th>197</th>\n",
              "      <td>0.989950</td>\n",
              "      <td>0.949749</td>\n",
              "      <td>0.844221</td>\n",
              "      <td>0.150754</td>\n",
              "      <td>0.773869</td>\n",
              "    </tr>\n",
              "    <tr>\n",
              "      <th>198</th>\n",
              "      <td>0.994975</td>\n",
              "      <td>0.718593</td>\n",
              "      <td>0.743719</td>\n",
              "      <td>0.467337</td>\n",
              "      <td>0.497487</td>\n",
              "    </tr>\n",
              "    <tr>\n",
              "      <th>199</th>\n",
              "      <td>1.000000</td>\n",
              "      <td>0.964824</td>\n",
              "      <td>0.552764</td>\n",
              "      <td>0.035176</td>\n",
              "      <td>0.979899</td>\n",
              "    </tr>\n",
              "  </tbody>\n",
              "</table>\n",
              "<p>200 rows × 5 columns</p>\n",
              "</div>\n",
              "      <button class=\"colab-df-convert\" onclick=\"convertToInteractive('df-c3fed3e2-ba34-474b-ae4d-9dc430c2ae7d')\"\n",
              "              title=\"Convert this dataframe to an interactive table.\"\n",
              "              style=\"display:none;\">\n",
              "        \n",
              "  <svg xmlns=\"http://www.w3.org/2000/svg\" height=\"24px\"viewBox=\"0 0 24 24\"\n",
              "       width=\"24px\">\n",
              "    <path d=\"M0 0h24v24H0V0z\" fill=\"none\"/>\n",
              "    <path d=\"M18.56 5.44l.94 2.06.94-2.06 2.06-.94-2.06-.94-.94-2.06-.94 2.06-2.06.94zm-11 1L8.5 8.5l.94-2.06 2.06-.94-2.06-.94L8.5 2.5l-.94 2.06-2.06.94zm10 10l.94 2.06.94-2.06 2.06-.94-2.06-.94-.94-2.06-.94 2.06-2.06.94z\"/><path d=\"M17.41 7.96l-1.37-1.37c-.4-.4-.92-.59-1.43-.59-.52 0-1.04.2-1.43.59L10.3 9.45l-7.72 7.72c-.78.78-.78 2.05 0 2.83L4 21.41c.39.39.9.59 1.41.59.51 0 1.02-.2 1.41-.59l7.78-7.78 2.81-2.81c.8-.78.8-2.07 0-2.86zM5.41 20L4 18.59l7.72-7.72 1.47 1.35L5.41 20z\"/>\n",
              "  </svg>\n",
              "      </button>\n",
              "      \n",
              "  <style>\n",
              "    .colab-df-container {\n",
              "      display:flex;\n",
              "      flex-wrap:wrap;\n",
              "      gap: 12px;\n",
              "    }\n",
              "\n",
              "    .colab-df-convert {\n",
              "      background-color: #E8F0FE;\n",
              "      border: none;\n",
              "      border-radius: 50%;\n",
              "      cursor: pointer;\n",
              "      display: none;\n",
              "      fill: #1967D2;\n",
              "      height: 32px;\n",
              "      padding: 0 0 0 0;\n",
              "      width: 32px;\n",
              "    }\n",
              "\n",
              "    .colab-df-convert:hover {\n",
              "      background-color: #E2EBFA;\n",
              "      box-shadow: 0px 1px 2px rgba(60, 64, 67, 0.3), 0px 1px 3px 1px rgba(60, 64, 67, 0.15);\n",
              "      fill: #174EA6;\n",
              "    }\n",
              "\n",
              "    [theme=dark] .colab-df-convert {\n",
              "      background-color: #3B4455;\n",
              "      fill: #D2E3FC;\n",
              "    }\n",
              "\n",
              "    [theme=dark] .colab-df-convert:hover {\n",
              "      background-color: #434B5C;\n",
              "      box-shadow: 0px 1px 3px 1px rgba(0, 0, 0, 0.15);\n",
              "      filter: drop-shadow(0px 1px 2px rgba(0, 0, 0, 0.3));\n",
              "      fill: #FFFFFF;\n",
              "    }\n",
              "  </style>\n",
              "\n",
              "      <script>\n",
              "        const buttonEl =\n",
              "          document.querySelector('#df-c3fed3e2-ba34-474b-ae4d-9dc430c2ae7d button.colab-df-convert');\n",
              "        buttonEl.style.display =\n",
              "          google.colab.kernel.accessAllowed ? 'block' : 'none';\n",
              "\n",
              "        async function convertToInteractive(key) {\n",
              "          const element = document.querySelector('#df-c3fed3e2-ba34-474b-ae4d-9dc430c2ae7d');\n",
              "          const dataTable =\n",
              "            await google.colab.kernel.invokeFunction('convertToInteractive',\n",
              "                                                     [key], {});\n",
              "          if (!dataTable) return;\n",
              "\n",
              "          const docLinkHtml = 'Like what you see? Visit the ' +\n",
              "            '<a target=\"_blank\" href=https://colab.research.google.com/notebooks/data_table.ipynb>data table notebook</a>'\n",
              "            + ' to learn more about interactive tables.';\n",
              "          element.innerHTML = '';\n",
              "          dataTable['output_type'] = 'display_data';\n",
              "          await google.colab.output.renderOutput(dataTable, element);\n",
              "          const docLink = document.createElement('div');\n",
              "          docLink.innerHTML = docLinkHtml;\n",
              "          element.appendChild(docLink);\n",
              "        }\n",
              "      </script>\n",
              "    </div>\n",
              "  </div>\n",
              "  "
            ]
          },
          "metadata": {},
          "execution_count": 87
        }
      ]
    },
    {
      "cell_type": "markdown",
      "source": [
        "# PLOT of our DATA SET"
      ],
      "metadata": {
        "id": "VcP6WL8Jq1D0"
      }
    },
    {
      "cell_type": "code",
      "source": [
        "print('Bibliography for 5D plot')\n",
        "'''Ostwal, Prasad. 2019. “Multi-Dimension Plots in Python — From 3D to 6D. - Prasad Ostwal.” Medium. May 28, 2019. https://medium.com/@prasadostwal/multi-dimension-plots-in-python-from-2d-to-6d-9a2bf7b8cc74.'''"
      ],
      "metadata": {
        "colab": {
          "base_uri": "https://localhost:8080/",
          "height": 106
        },
        "id": "baAes6OUq5Ci",
        "outputId": "982d9e65-2a30-4566-e837-09727fec2f6d"
      },
      "execution_count": 88,
      "outputs": [
        {
          "output_type": "stream",
          "name": "stdout",
          "text": [
            "Bibliography for 5D plot\n"
          ]
        },
        {
          "output_type": "execute_result",
          "data": {
            "text/plain": [
              "'Ostwal, Prasad. 2019. “Multi-Dimension Plots in Python — From 3D to 6D. - Prasad Ostwal.” Medium. May 28, 2019. https://medium.com/@prasadostwal/multi-dimension-plots-in-python-from-2d-to-6d-9a2bf7b8cc74.'"
            ],
            "application/vnd.google.colaboratory.intrinsic+json": {
              "type": "string"
            }
          },
          "metadata": {},
          "execution_count": 88
        }
      ]
    },
    {
      "cell_type": "code",
      "source": [
        "import plotly.graph_objs as go\n",
        "from plotly.offline import iplot\n",
        "\n",
        "markersize = df['scores_industry_income_rank']*20\n",
        "markercolor = df['scores_international_outlook_rank']\n",
        "\n",
        "plots = go.Scatter3d(x=df['scores_overall_rank'], y=df['scores_citations_rank'], z=df['scores_research_rank'],\n",
        "    mode='markers',\n",
        "    marker=dict(size=markersize, color=markercolor, colorscale='Blues', opacity=0.8))\n",
        "\n",
        "mylayout = go.Layout(scene=dict(xaxis=dict( title='scores_overall_rank'),\n",
        "                                yaxis=dict( title='scores_citations_rank'),\n",
        "                                zaxis=dict(title='scores_research_rank')))\n",
        "\n",
        "fig = go.Figure(data=[plots], layout=mylayout)\n",
        "\n",
        "iplot(fig)"
      ],
      "metadata": {
        "colab": {
          "base_uri": "https://localhost:8080/",
          "height": 562
        },
        "id": "OLsUpjJyq0xG",
        "outputId": "1aa7f510-e30f-4416-e660-e0162c9a00e1"
      },
      "execution_count": 89,
      "outputs": [
        {
          "output_type": "display_data",
          "data": {
            "text/html": [
              "<html>\n",
              "<head><meta charset=\"utf-8\" /></head>\n",
              "<body>\n",
              "    <div>            <script src=\"https://cdnjs.cloudflare.com/ajax/libs/mathjax/2.7.5/MathJax.js?config=TeX-AMS-MML_SVG\"></script><script type=\"text/javascript\">if (window.MathJax && window.MathJax.Hub && window.MathJax.Hub.Config) {window.MathJax.Hub.Config({SVG: {font: \"STIX-Web\"}});}</script>                <script type=\"text/javascript\">window.PlotlyConfig = {MathJaxConfig: 'local'};</script>\n",
              "        <script src=\"https://cdn.plot.ly/plotly-2.18.2.min.js\"></script>                <div id=\"b1762cf2-05b7-46de-be13-65ded12296cc\" class=\"plotly-graph-div\" style=\"height:525px; width:100%;\"></div>            <script type=\"text/javascript\">                                    window.PLOTLYENV=window.PLOTLYENV || {};                                    if (document.getElementById(\"b1762cf2-05b7-46de-be13-65ded12296cc\")) {                    Plotly.newPlot(                        \"b1762cf2-05b7-46de-be13-65ded12296cc\",                        [{\"marker\":{\"color\":[0.2412060301507538,0.4623115577889447,0.17587939698492464,0.7788944723618091,0.26130653266331655,0.20603015075376885,0.20100502512562815,0.6381909547738693,0.09045226130653267,0.40703517587939697,0.5276381909547738,0.34673366834170855,0.41708542713567837,0.37185929648241206,0.04522613065326633,0.4723618090452261,0.9949748743718593,0.08040201005025126,0.7035175879396984,0.6432160804020101,0.06532663316582915,0.08542713567839197,0.5226130653266331,0.5175879396984925,0.39195979899497485,0.9346733668341708,0.23115577889447236,0.7085427135678392,0.3065326633165829,0.8894472361809045,0.055276381909547735,0.7336683417085427,0.4522613065326633,0.01507537688442211,0.1407035175879397,0.10552763819095479,0.271356783919598,0.4422110552763819,0.19095477386934676,0.27638190954773867,0.020100502512562814,0.5778894472361809,0.964824120603015,0.04020100502512563,0.6030150753768844,0.592964824120603,0.7386934673366834,0.0,0.9899497487437185,0.2964824120603015,0.8793969849246231,0.8592964824120602,0.7939698492462312,0.3969849246231156,0.3869346733668342,0.864321608040201,0.9296482412060302,0.6130653266331658,0.6532663316582914,0.7135678391959799,0.48743718592964824,0.6080402010050251,0.6733668341708543,0.8140703517587939,0.4371859296482412,0.3165829145728643,0.7185929648241206,0.9447236180904522,0.4773869346733668,0.2814070351758794,0.09547738693467338,0.6180904522613065,0.7437185929648241,0.11557788944723618,0.8994974874371859,0.15577889447236182,0.135678391959799,0.4924623115577889,0.6683417085427136,0.23618090452261306,0.2914572864321608,0.21608040201005027,0.3316582914572864,0.8693467336683417,0.3015075376884422,0.005025125628140704,0.18592964824120603,0.06030150753768845,0.4321608040201005,0.8341708542713567,0.11055276381909548,0.2663316582914573,0.9698492462311558,0.1256281407035176,0.07035175879396986,0.6331658291457286,0.8844221105527638,0.6834170854271356,0.7487437185929648,0.6633165829145728,0.15075376884422112,0.8442211055276382,0.14572864321608042,0.5326633165829145,0.8090452261306532,0.36683417085427134,0.1658291457286432,0.6934673366834171,0.914572864321608,0.5879396984924623,0.24623115577889446,0.8190954773869347,0.5376884422110553,0.5829145728643216,0.7889447236180904,0.6884422110552764,0.3417085427135678,0.03015075376884422,0.7688442211055276,0.507537688442211,0.07537688442211056,0.7638190954773869,0.32160804020100503,0.22110552763819097,0.6281407035175879,0.8291457286432161,0.25125628140703515,0.457286432160804,0.9748743718592965,0.9045226130653267,0.9999999999999999,0.5577889447236181,0.9095477386934673,0.7236180904522613,0.28643216080402006,0.16080402010050251,0.3618090452261306,0.9849246231155779,0.7587939698492462,0.4673366834170854,0.7537688442211056,0.8743718592964824,0.4824120603015075,0.8391959798994975,0.035175879396984924,0.22613065326633167,0.9195979899497487,0.19597989949748745,0.1306532663316583,0.17085427135678394,0.542713567839196,0.10050251256281408,0.18090452261306533,0.2562814070351759,0.5979899497487438,0.6582914572864321,0.8542713567839196,0.949748743718593,0.4120603015075377,0.9396984924623115,0.728643216080402,0.8492462311557789,0.8944723618090452,0.8241206030150754,0.40201005025125625,0.6482412060301508,0.6984924623115578,0.5125628140703518,0.6231155778894473,0.6783919597989949,0.7839195979899497,0.4472361809045226,0.9597989949748743,0.025125628140703515,0.21105527638190955,0.3517587939698492,0.5678391959798995,0.12060301507537688,0.5527638190954773,0.5628140703517588,0.4221105527638191,0.3266331658291457,0.8040201005025126,0.35678391959798994,0.37688442211055273,0.05025125628140704,0.5477386934673367,0.010050251256281405,0.42713567839195976,0.7989949748743719,0.9246231155778895,0.38190954773869346,0.5728643216080402,0.3115577889447236,0.3366834170854271,0.9547738693467337,0.5025125628140703,0.7738693467336684,0.4974874371859296,0.9798994974874372],\"colorscale\":[[0.0,\"rgb(247,251,255)\"],[0.125,\"rgb(222,235,247)\"],[0.25,\"rgb(198,219,239)\"],[0.375,\"rgb(158,202,225)\"],[0.5,\"rgb(107,174,214)\"],[0.625,\"rgb(66,146,198)\"],[0.75,\"rgb(33,113,181)\"],[0.875,\"rgb(8,81,156)\"],[1.0,\"rgb(8,48,107)\"]],\"opacity\":0.8,\"size\":[10.452261306532662,2.3115577889447234,2.0100502512562817,3.2160804020100504,16.381909547738694,2.71356783919598,4.221105527638191,17.185929648241206,1.7085427135678395,19.899497487437184,17.386934673366834,17.688442211055275,0.10050251256281408,10.35175879396985,15.376884422110553,3.9195979899497493,18.99497487437186,14.773869346733669,6.532663316582914,4.723618090452261,4.42211055276382,8.542713567839195,10.85427135678392,0.0,16.180904522613066,18.894472361809044,1.6080402010050252,0.5025125628140703,1.9095477386934676,5.125628140703517,6.834170854271356,4.924623115577889,18.090452261306535,7.638190954773869,15.77889447236181,5.7286432160804015,1.1055276381909547,19.69849246231156,15.075376884422111,7.035175879396984,3.316582914572864,11.959798994974875,2.9145728643216087,14.271356783919597,19.2964824120603,11.658291457286431,12.864321608040202,9.246231155778894,12.261306532663315,17.28643216080402,2.21105527638191,18.492462311557787,16.984924623115578,5.628140703517587,14.572864321608039,4.623115577889447,3.1155778894472363,1.206030150753769,12.663316582914572,16.080402010050253,15.175879396984923,7.738693467336684,18.693467336683415,9.447236180904522,14.673366834170853,16.281407035175878,17.78894472361809,17.48743718592965,19.999999999999996,9.748743718592966,1.8090452261306533,19.195979899497488,18.79396984924623,4.824120603015076,19.798994974874372,11.758793969849247,6.130653266331658,16.78391959798995,0.20100502512562812,12.964824120603016,9.849246231155778,4.1206030150753765,8.442211055276381,19.095477386934675,10.65326633165829,8.944723618090451,8.64321608040201,12.060301507537687,10.753768844221106,19.597989949748744,6.432160804020101,9.547738693467336,15.879396984924623,17.085427135678394,5.9296482412060305,15.477386934673367,2.1105527638190957,18.391959798994975,14.974874371859297,13.969849246231156,16.884422110552762,12.361809045226131,11.055276381909547,16.582914572864322,16.683417085427134,16.482412060301506,17.587939698492463,5.025125628140703,6.231155778894472,6.733668341708542,13.668341708542712,3.7185929648241207,11.256281407035175,0.8040201005025126,10.050251256281406,17.889447236180903,12.160804020100501,10.954773869346734,1.306532663316583,6.633165829145728,8.743718592964825,15.979899497487438,1.5075376884422111,13.065326633165828,0.4020100502512563,1.4070351758793973,6.030150753768844,3.6180904522613067,11.557788944723617,2.8140703517587937,13.467336683417086,2.613065326633166,2.4120603015075375,18.190954773869347,7.236180904522612,6.934673366834171,7.939698492462312,18.592964824120603,2.512562814070352,5.527638190954773,13.768844221105528,12.462311557788945,4.522613065326634,19.49748743718593,3.5175879396984926,10.251256281407034,9.949748743718592,8.341708542713567,5.829145728643216,4.020100502512563,0.9045226130653267,13.266331658291456,11.859296482412061,3.8190954773869352,8.241206030150753,15.678391959798994,5.42713567839196,5.226130653266331,15.276381909547737,0.6030150753768844,14.472361809045227,14.170854271356783,9.64824120603015,15.577889447236181,7.537688442211055,8.844221105527637,3.417085427135679,9.14572864321608,19.396984924623116,10.552763819095476,7.3366834170854265,7.135678391959798,14.371859296482413,8.140703517587939,9.045226130653266,12.562814070351758,14.070351758793969,7.437185929648241,12.763819095477388,13.165829145728642,1.0050251256281408,4.3216080402010055,6.331658291457286,11.457286432160805,5.326633165829145,18.29145728643216,8.040201005025125,10.15075376884422,11.35678391959799,7.839195979899497,11.15577889447236,13.366834170854272,14.874371859296483,0.3015075376884422,13.567839195979898,13.869346733668342,17.98994974874372,3.0150753768844223,9.346733668341708,0.7035175879396984]},\"mode\":\"markers\",\"x\":[0.0,0.005025125628140704,0.010050251256281405,0.01507537688442211,0.020100502512562814,0.03015075376884422,0.025125628140703515,0.035175879396984924,0.04020100502512563,0.04522613065326633,0.05025125628140704,0.055276381909547735,0.06030150753768845,0.06532663316582915,0.07035175879396986,0.07537688442211056,0.08040201005025126,0.08542713567839197,0.09045226130653267,0.09547738693467338,0.10050251256281408,0.10552763819095479,0.11055276381909548,0.11557788944723618,0.12060301507537688,0.1256281407035176,0.1306532663316583,0.135678391959799,0.1407035175879397,0.15075376884422112,0.14572864321608042,0.15577889447236182,0.16080402010050251,0.1658291457286432,0.17085427135678394,0.17587939698492464,0.18090452261306533,0.18592964824120603,0.19095477386934676,0.19597989949748745,0.20100502512562815,0.20603015075376885,0.21608040201005027,0.21105527638190955,0.22613065326633167,0.22110552763819097,0.23115577889447236,0.23618090452261306,0.24623115577889446,0.2412060301507538,0.25125628140703515,0.2562814070351759,0.26130653266331655,0.2663316582914573,0.271356783919598,0.27638190954773867,0.2814070351758794,0.28643216080402006,0.2914572864321608,0.2964824120603015,0.3015075376884422,0.3065326633165829,0.3115577889447236,0.3165829145728643,0.32160804020100503,0.3266331658291457,0.3316582914572864,0.3417085427135678,0.34673366834170855,0.3366834170854271,0.3517587939698492,0.35678391959798994,0.36683417085427134,0.3618090452261306,0.37185929648241206,0.37688442211055273,0.38190954773869346,0.3869346733668342,0.39195979899497485,0.3969849246231156,0.40703517587939697,0.40201005025125625,0.4120603015075377,0.41708542713567837,0.4221105527638191,0.42713567839195976,0.4321608040201005,0.4371859296482412,0.4422110552763819,0.457286432160804,0.4522613065326633,0.4472361809045226,0.4623115577889447,0.4673366834170854,0.4824120603015075,0.4723618090452261,0.4773869346733668,0.48743718592964824,0.4924623115577889,0.4974874371859296,0.5025125628140703,0.507537688442211,0.5125628140703518,0.5175879396984925,0.5226130653266331,0.5276381909547738,0.5376884422110553,0.5326633165829145,0.542713567839196,0.5477386934673367,0.5527638190954773,0.5628140703517588,0.5577889447236181,0.5678391959798995,0.5728643216080402,0.5778894472361809,0.5829145728643216,0.5879396984924623,0.592964824120603,0.5979899497487438,0.6030150753768844,0.6080402010050251,0.6130653266331658,0.6231155778894473,0.6281407035175879,0.6180904522613065,0.6331658291457286,0.6381909547738693,0.6432160804020101,0.6482412060301508,0.6532663316582914,0.6633165829145728,0.6582914572864321,0.6683417085427136,0.6733668341708543,0.6783919597989949,0.6834170854271356,0.6884422110552764,0.6934673366834171,0.7035175879396984,0.6984924623115578,0.7085427135678392,0.7135678391959799,0.7185929648241206,0.7236180904522613,0.728643216080402,0.7336683417085427,0.7386934673366834,0.7487437185929648,0.7437185929648241,0.7537688442211056,0.7587939698492462,0.7638190954773869,0.7688442211055276,0.7738693467336684,0.7788944723618091,0.7839195979899497,0.7889447236180904,0.7939698492462312,0.7989949748743719,0.8090452261306532,0.8040201005025126,0.8140703517587939,0.8190954773869347,0.8291457286432161,0.8241206030150754,0.8341708542713567,0.8391959798994975,0.8442211055276382,0.8492462311557789,0.8542713567839196,0.8592964824120602,0.864321608040201,0.8693467336683417,0.8793969849246231,0.8743718592964824,0.8844221105527638,0.8944723618090452,0.8994974874371859,0.8894472361809045,0.9045226130653267,0.9095477386934673,0.914572864321608,0.9195979899497487,0.9246231155778895,0.9296482412060302,0.9346733668341708,0.9396984924623115,0.9447236180904522,0.9597989949748743,0.9547738693467337,0.949748743718593,0.964824120603015,0.9698492462311558,0.9748743718592965,0.9798994974874372,0.9849246231155779,0.9899497487437185,0.9949748743718593,0.9999999999999999],\"y\":[0.035175879396984924,0.0,0.005025125628140704,0.025125628140703515,0.010050251256281405,0.10552763819095479,0.11055276381909548,0.05025125628140704,0.21608040201005027,0.17085427135678394,0.1256281407035176,0.06030150753768845,0.15075376884422112,0.22110552763819097,0.2914572864321608,0.2562814070351759,0.3065326633165829,0.135678391959799,0.11557788944723618,0.08542713567839197,0.07035175879396986,0.3316582914572864,0.07537688442211056,0.14572864321608042,0.10050251256281408,0.7889447236180904,0.28643216080402006,0.06532663316582915,0.04020100502512563,0.2412060301507538,0.3366834170854271,0.19095477386934676,0.457286432160804,0.36683417085427134,0.542713567839196,0.2814070351758794,0.4723618090452261,0.21105527638190955,0.18090452261306533,0.22613065326633167,0.04522613065326633,0.09045226130653267,0.6834170854271356,0.3165829145728643,0.27638190954773867,0.1407035175879397,0.03015075376884422,0.2663316582914573,0.1306532663316583,0.16080402010050251,0.3869346733668342,0.4221105527638191,0.26130653266331655,0.5527638190954773,0.40201005025125625,0.5678391959798995,0.914572864321608,0.8492462311557789,0.17587939698492464,0.2964824120603015,0.3969849246231156,0.41708542713567837,0.20100502512562815,0.38190954773869346,0.5979899497487438,0.5778894472361809,0.271356783919598,0.020100502512562814,0.4422110552763819,0.3266331658291457,0.6482412060301508,0.5577889447236181,0.48743718592964824,0.19597989949748745,0.09547738693467338,0.25125628140703515,0.4773869346733668,0.23618090452261306,0.9246231155778895,0.1658291457286432,0.3115577889447236,0.5477386934673367,0.5175879396984925,0.4824120603015075,0.18592964824120603,0.8793969849246231,0.7437185929648241,0.12060301507537688,0.5728643216080402,0.35678391959798994,0.6231155778894473,0.4623115577889447,0.5628140703517588,0.23115577889447236,0.37185929648241206,0.5226130653266331,0.5326633165829145,0.3517587939698492,0.3417085427135678,0.20603015075376885,0.5025125628140703,0.4321608040201005,0.4673366834170854,0.6281407035175879,0.8140703517587939,0.9547738693467337,0.3015075376884422,0.5879396984924623,0.40703517587939697,0.8291457286432161,0.055276381909547735,0.9296482412060302,0.08040201005025126,0.8090452261306532,0.6884422110552764,0.32160804020100503,0.37688442211055273,0.6683417085427136,0.9346733668341708,0.6030150753768844,0.4472361809045226,0.6532663316582914,0.6331658291457286,0.4371859296482412,0.7386934673366834,0.8442211055276382,0.8944723618090452,0.6180904522613065,0.42713567839195976,0.9798994974874372,0.3618090452261306,0.6432160804020101,0.9698492462311558,0.8241206030150754,0.4522613065326633,0.7487437185929648,0.7688442211055276,0.8743718592964824,0.7638190954773869,0.34673366834170855,0.4974874371859296,0.15577889447236182,0.7587939698492462,0.8391959798994975,0.4924623115577889,0.864321608040201,0.01507537688442211,0.9748743718592965,0.6381909547738693,0.6783919597989949,0.9999999999999999,0.507537688442211,0.6582914572864321,0.8894472361809045,0.24623115577889446,0.6633165829145728,0.7839195979899497,0.8994974874371859,0.6080402010050251,0.6984924623115578,0.39195979899497485,0.5829145728643216,0.7537688442211056,0.9396984924623115,0.7336683417085427,0.7236180904522613,0.7989949748743719,0.8190954773869347,0.7135678391959799,0.8341708542713567,0.5276381909547738,0.5376884422110553,0.5125628140703518,0.9447236180904522,0.8542713567839196,0.6733668341708543,0.7738693467336684,0.7085427135678392,0.6130653266331658,0.8693467336683417,0.9899497487437185,0.9045226130653267,0.592964824120603,0.7939698492462312,0.9597989949748743,0.8844221105527638,0.7035175879396984,0.728643216080402,0.8040201005025126,0.8592964824120602,0.6934673366834171,0.7788944723618091,0.9095477386934673,0.9949748743718593,0.9195979899497487,0.4120603015075377,0.9849246231155779,0.949748743718593,0.7185929648241206,0.964824120603015],\"z\":[0.005025125628140704,0.01507537688442211,0.05025125628140704,0.010050251256281405,0.020100502512562814,0.035175879396984924,0.03015075376884422,0.0,0.025125628140703515,0.055276381909547735,0.04020100502512563,0.07537688442211056,0.06030150753768845,0.07035175879396986,0.08542713567839197,0.06532663316582915,0.08040201005025126,0.1407035175879397,0.09045226130653267,0.10552763819095479,0.17085427135678394,0.09547738693467338,0.11557788944723618,0.1658291457286432,0.19095477386934676,0.04522613065326633,0.15075376884422112,0.25125628140703515,0.19597989949748745,0.1256281407035176,0.135678391959799,0.12060301507537688,0.10050251256281408,0.15577889447236182,0.1306532663316583,0.18090452261306533,0.2814070351758794,0.2412060301507538,0.36683417085427134,0.271356783919598,0.4773869346733668,0.6331658291457286,0.14572864321608042,0.26130653266331655,0.22110552763819097,0.37185929648241206,0.5175879396984925,0.3618090452261306,0.6130653266331658,0.3969849246231156,0.2964824120603015,0.18592964824120603,0.457286432160804,0.17587939698492464,0.3366834170854271,0.16080402010050251,0.11055276381909548,0.21105527638190955,0.4673366834170854,0.5025125628140703,0.6180904522613065,0.3316582914572864,0.728643216080402,0.3165829145728643,0.42713567839195976,0.39195979899497485,0.32160804020100503,0.5276381909547738,0.6884422110552764,0.4371859296482412,0.27638190954773867,0.38190954773869346,0.5979899497487438,0.8894472361809045,0.9296482412060302,0.7185929648241206,0.40703517587939697,0.7738693467336684,0.22613065326633167,0.8140703517587939,0.6984924623115578,0.4321608040201005,0.6633165829145728,0.41708542713567837,0.7537688442211056,0.3517587939698492,0.35678391959798994,0.9195979899497487,0.28643216080402006,0.7889447236180904,0.6733668341708543,0.6482412060301508,0.3115577889447236,0.9095477386934673,0.9045226130653267,0.7839195979899497,0.4623115577889447,0.6080402010050251,0.5628140703517588,0.964824120603015,0.7788944723618091,0.4974874371859296,0.6532663316582914,0.40201005025125625,0.21608040201005027,0.20100502512562815,0.8241206030150754,0.4522613065326633,0.5678391959798995,0.4221105527638191,0.9949748743718593,0.23618090452261306,0.9246231155778895,0.4824120603015075,0.3065326633165829,0.6582914572864321,0.6683417085427136,0.542713567839196,0.24623115577889446,0.6934673366834171,0.7587939698492462,0.4472361809045226,0.6783919597989949,0.8291457286432161,0.3869346733668342,0.3015075376884422,0.3266331658291457,0.5326633165829145,0.5728643216080402,0.23115577889447236,0.6281407035175879,0.8391959798994975,0.2562814070351759,0.2914572864321608,0.8190954773869347,0.5226130653266331,0.5829145728643216,0.5577889447236181,0.4924623115577889,0.8492462311557789,0.8994974874371859,0.9748743718592965,0.4422110552763819,0.592964824120603,0.8793969849246231,0.507537688442211,0.9999999999999999,0.2663316582914573,0.7236180904522613,0.7035175879396984,0.20603015075376885,0.9396984924623115,0.7939698492462312,0.5879396984924623,0.9899497487437185,0.7989949748743719,0.5477386934673367,0.8341708542713567,0.7688442211055276,0.4723618090452261,0.9798994974874372,0.7487437185929648,0.5125628140703518,0.7336683417085427,0.6432160804020101,0.5778894472361809,0.37688442211055273,0.6381909547738693,0.8542713567839196,0.3417085427135678,0.9597989949748743,0.8944723618090452,0.9447236180904522,0.48743718592964824,0.7638190954773869,0.864321608040201,0.7085427135678392,0.8844221105527638,0.9698492462311558,0.7386934673366834,0.4120603015075377,0.8040201005025126,0.8743718592964824,0.8090452261306532,0.6231155778894473,0.8693467336683417,0.949748743718593,0.9547738693467337,0.914572864321608,0.6030150753768844,0.8592964824120602,0.9346733668341708,0.5376884422110553,0.34673366834170855,0.7135678391959799,0.9849246231155779,0.6834170854271356,0.8442211055276382,0.7437185929648241,0.5527638190954773],\"type\":\"scatter3d\"}],                        {\"scene\":{\"xaxis\":{\"title\":{\"text\":\"scores_overall_rank\"}},\"yaxis\":{\"title\":{\"text\":\"scores_citations_rank\"}},\"zaxis\":{\"title\":{\"text\":\"scores_research_rank\"}}},\"template\":{\"data\":{\"barpolar\":[{\"marker\":{\"line\":{\"color\":\"#E5ECF6\",\"width\":0.5},\"pattern\":{\"fillmode\":\"overlay\",\"size\":10,\"solidity\":0.2}},\"type\":\"barpolar\"}],\"bar\":[{\"error_x\":{\"color\":\"#2a3f5f\"},\"error_y\":{\"color\":\"#2a3f5f\"},\"marker\":{\"line\":{\"color\":\"#E5ECF6\",\"width\":0.5},\"pattern\":{\"fillmode\":\"overlay\",\"size\":10,\"solidity\":0.2}},\"type\":\"bar\"}],\"carpet\":[{\"aaxis\":{\"endlinecolor\":\"#2a3f5f\",\"gridcolor\":\"white\",\"linecolor\":\"white\",\"minorgridcolor\":\"white\",\"startlinecolor\":\"#2a3f5f\"},\"baxis\":{\"endlinecolor\":\"#2a3f5f\",\"gridcolor\":\"white\",\"linecolor\":\"white\",\"minorgridcolor\":\"white\",\"startlinecolor\":\"#2a3f5f\"},\"type\":\"carpet\"}],\"choropleth\":[{\"colorbar\":{\"outlinewidth\":0,\"ticks\":\"\"},\"type\":\"choropleth\"}],\"contourcarpet\":[{\"colorbar\":{\"outlinewidth\":0,\"ticks\":\"\"},\"type\":\"contourcarpet\"}],\"contour\":[{\"colorbar\":{\"outlinewidth\":0,\"ticks\":\"\"},\"colorscale\":[[0.0,\"#0d0887\"],[0.1111111111111111,\"#46039f\"],[0.2222222222222222,\"#7201a8\"],[0.3333333333333333,\"#9c179e\"],[0.4444444444444444,\"#bd3786\"],[0.5555555555555556,\"#d8576b\"],[0.6666666666666666,\"#ed7953\"],[0.7777777777777778,\"#fb9f3a\"],[0.8888888888888888,\"#fdca26\"],[1.0,\"#f0f921\"]],\"type\":\"contour\"}],\"heatmapgl\":[{\"colorbar\":{\"outlinewidth\":0,\"ticks\":\"\"},\"colorscale\":[[0.0,\"#0d0887\"],[0.1111111111111111,\"#46039f\"],[0.2222222222222222,\"#7201a8\"],[0.3333333333333333,\"#9c179e\"],[0.4444444444444444,\"#bd3786\"],[0.5555555555555556,\"#d8576b\"],[0.6666666666666666,\"#ed7953\"],[0.7777777777777778,\"#fb9f3a\"],[0.8888888888888888,\"#fdca26\"],[1.0,\"#f0f921\"]],\"type\":\"heatmapgl\"}],\"heatmap\":[{\"colorbar\":{\"outlinewidth\":0,\"ticks\":\"\"},\"colorscale\":[[0.0,\"#0d0887\"],[0.1111111111111111,\"#46039f\"],[0.2222222222222222,\"#7201a8\"],[0.3333333333333333,\"#9c179e\"],[0.4444444444444444,\"#bd3786\"],[0.5555555555555556,\"#d8576b\"],[0.6666666666666666,\"#ed7953\"],[0.7777777777777778,\"#fb9f3a\"],[0.8888888888888888,\"#fdca26\"],[1.0,\"#f0f921\"]],\"type\":\"heatmap\"}],\"histogram2dcontour\":[{\"colorbar\":{\"outlinewidth\":0,\"ticks\":\"\"},\"colorscale\":[[0.0,\"#0d0887\"],[0.1111111111111111,\"#46039f\"],[0.2222222222222222,\"#7201a8\"],[0.3333333333333333,\"#9c179e\"],[0.4444444444444444,\"#bd3786\"],[0.5555555555555556,\"#d8576b\"],[0.6666666666666666,\"#ed7953\"],[0.7777777777777778,\"#fb9f3a\"],[0.8888888888888888,\"#fdca26\"],[1.0,\"#f0f921\"]],\"type\":\"histogram2dcontour\"}],\"histogram2d\":[{\"colorbar\":{\"outlinewidth\":0,\"ticks\":\"\"},\"colorscale\":[[0.0,\"#0d0887\"],[0.1111111111111111,\"#46039f\"],[0.2222222222222222,\"#7201a8\"],[0.3333333333333333,\"#9c179e\"],[0.4444444444444444,\"#bd3786\"],[0.5555555555555556,\"#d8576b\"],[0.6666666666666666,\"#ed7953\"],[0.7777777777777778,\"#fb9f3a\"],[0.8888888888888888,\"#fdca26\"],[1.0,\"#f0f921\"]],\"type\":\"histogram2d\"}],\"histogram\":[{\"marker\":{\"pattern\":{\"fillmode\":\"overlay\",\"size\":10,\"solidity\":0.2}},\"type\":\"histogram\"}],\"mesh3d\":[{\"colorbar\":{\"outlinewidth\":0,\"ticks\":\"\"},\"type\":\"mesh3d\"}],\"parcoords\":[{\"line\":{\"colorbar\":{\"outlinewidth\":0,\"ticks\":\"\"}},\"type\":\"parcoords\"}],\"pie\":[{\"automargin\":true,\"type\":\"pie\"}],\"scatter3d\":[{\"line\":{\"colorbar\":{\"outlinewidth\":0,\"ticks\":\"\"}},\"marker\":{\"colorbar\":{\"outlinewidth\":0,\"ticks\":\"\"}},\"type\":\"scatter3d\"}],\"scattercarpet\":[{\"marker\":{\"colorbar\":{\"outlinewidth\":0,\"ticks\":\"\"}},\"type\":\"scattercarpet\"}],\"scattergeo\":[{\"marker\":{\"colorbar\":{\"outlinewidth\":0,\"ticks\":\"\"}},\"type\":\"scattergeo\"}],\"scattergl\":[{\"marker\":{\"colorbar\":{\"outlinewidth\":0,\"ticks\":\"\"}},\"type\":\"scattergl\"}],\"scattermapbox\":[{\"marker\":{\"colorbar\":{\"outlinewidth\":0,\"ticks\":\"\"}},\"type\":\"scattermapbox\"}],\"scatterpolargl\":[{\"marker\":{\"colorbar\":{\"outlinewidth\":0,\"ticks\":\"\"}},\"type\":\"scatterpolargl\"}],\"scatterpolar\":[{\"marker\":{\"colorbar\":{\"outlinewidth\":0,\"ticks\":\"\"}},\"type\":\"scatterpolar\"}],\"scatter\":[{\"fillpattern\":{\"fillmode\":\"overlay\",\"size\":10,\"solidity\":0.2},\"type\":\"scatter\"}],\"scatterternary\":[{\"marker\":{\"colorbar\":{\"outlinewidth\":0,\"ticks\":\"\"}},\"type\":\"scatterternary\"}],\"surface\":[{\"colorbar\":{\"outlinewidth\":0,\"ticks\":\"\"},\"colorscale\":[[0.0,\"#0d0887\"],[0.1111111111111111,\"#46039f\"],[0.2222222222222222,\"#7201a8\"],[0.3333333333333333,\"#9c179e\"],[0.4444444444444444,\"#bd3786\"],[0.5555555555555556,\"#d8576b\"],[0.6666666666666666,\"#ed7953\"],[0.7777777777777778,\"#fb9f3a\"],[0.8888888888888888,\"#fdca26\"],[1.0,\"#f0f921\"]],\"type\":\"surface\"}],\"table\":[{\"cells\":{\"fill\":{\"color\":\"#EBF0F8\"},\"line\":{\"color\":\"white\"}},\"header\":{\"fill\":{\"color\":\"#C8D4E3\"},\"line\":{\"color\":\"white\"}},\"type\":\"table\"}]},\"layout\":{\"annotationdefaults\":{\"arrowcolor\":\"#2a3f5f\",\"arrowhead\":0,\"arrowwidth\":1},\"autotypenumbers\":\"strict\",\"coloraxis\":{\"colorbar\":{\"outlinewidth\":0,\"ticks\":\"\"}},\"colorscale\":{\"diverging\":[[0,\"#8e0152\"],[0.1,\"#c51b7d\"],[0.2,\"#de77ae\"],[0.3,\"#f1b6da\"],[0.4,\"#fde0ef\"],[0.5,\"#f7f7f7\"],[0.6,\"#e6f5d0\"],[0.7,\"#b8e186\"],[0.8,\"#7fbc41\"],[0.9,\"#4d9221\"],[1,\"#276419\"]],\"sequential\":[[0.0,\"#0d0887\"],[0.1111111111111111,\"#46039f\"],[0.2222222222222222,\"#7201a8\"],[0.3333333333333333,\"#9c179e\"],[0.4444444444444444,\"#bd3786\"],[0.5555555555555556,\"#d8576b\"],[0.6666666666666666,\"#ed7953\"],[0.7777777777777778,\"#fb9f3a\"],[0.8888888888888888,\"#fdca26\"],[1.0,\"#f0f921\"]],\"sequentialminus\":[[0.0,\"#0d0887\"],[0.1111111111111111,\"#46039f\"],[0.2222222222222222,\"#7201a8\"],[0.3333333333333333,\"#9c179e\"],[0.4444444444444444,\"#bd3786\"],[0.5555555555555556,\"#d8576b\"],[0.6666666666666666,\"#ed7953\"],[0.7777777777777778,\"#fb9f3a\"],[0.8888888888888888,\"#fdca26\"],[1.0,\"#f0f921\"]]},\"colorway\":[\"#636efa\",\"#EF553B\",\"#00cc96\",\"#ab63fa\",\"#FFA15A\",\"#19d3f3\",\"#FF6692\",\"#B6E880\",\"#FF97FF\",\"#FECB52\"],\"font\":{\"color\":\"#2a3f5f\"},\"geo\":{\"bgcolor\":\"white\",\"lakecolor\":\"white\",\"landcolor\":\"#E5ECF6\",\"showlakes\":true,\"showland\":true,\"subunitcolor\":\"white\"},\"hoverlabel\":{\"align\":\"left\"},\"hovermode\":\"closest\",\"mapbox\":{\"style\":\"light\"},\"paper_bgcolor\":\"white\",\"plot_bgcolor\":\"#E5ECF6\",\"polar\":{\"angularaxis\":{\"gridcolor\":\"white\",\"linecolor\":\"white\",\"ticks\":\"\"},\"bgcolor\":\"#E5ECF6\",\"radialaxis\":{\"gridcolor\":\"white\",\"linecolor\":\"white\",\"ticks\":\"\"}},\"scene\":{\"xaxis\":{\"backgroundcolor\":\"#E5ECF6\",\"gridcolor\":\"white\",\"gridwidth\":2,\"linecolor\":\"white\",\"showbackground\":true,\"ticks\":\"\",\"zerolinecolor\":\"white\"},\"yaxis\":{\"backgroundcolor\":\"#E5ECF6\",\"gridcolor\":\"white\",\"gridwidth\":2,\"linecolor\":\"white\",\"showbackground\":true,\"ticks\":\"\",\"zerolinecolor\":\"white\"},\"zaxis\":{\"backgroundcolor\":\"#E5ECF6\",\"gridcolor\":\"white\",\"gridwidth\":2,\"linecolor\":\"white\",\"showbackground\":true,\"ticks\":\"\",\"zerolinecolor\":\"white\"}},\"shapedefaults\":{\"line\":{\"color\":\"#2a3f5f\"}},\"ternary\":{\"aaxis\":{\"gridcolor\":\"white\",\"linecolor\":\"white\",\"ticks\":\"\"},\"baxis\":{\"gridcolor\":\"white\",\"linecolor\":\"white\",\"ticks\":\"\"},\"bgcolor\":\"#E5ECF6\",\"caxis\":{\"gridcolor\":\"white\",\"linecolor\":\"white\",\"ticks\":\"\"}},\"title\":{\"x\":0.05},\"xaxis\":{\"automargin\":true,\"gridcolor\":\"white\",\"linecolor\":\"white\",\"ticks\":\"\",\"title\":{\"standoff\":15},\"zerolinecolor\":\"white\",\"zerolinewidth\":2},\"yaxis\":{\"automargin\":true,\"gridcolor\":\"white\",\"linecolor\":\"white\",\"ticks\":\"\",\"title\":{\"standoff\":15},\"zerolinecolor\":\"white\",\"zerolinewidth\":2}}}},                        {\"responsive\": true}                    ).then(function(){\n",
              "                            \n",
              "var gd = document.getElementById('b1762cf2-05b7-46de-be13-65ded12296cc');\n",
              "var x = new MutationObserver(function (mutations, observer) {{\n",
              "        var display = window.getComputedStyle(gd).display;\n",
              "        if (!display || display === 'none') {{\n",
              "            console.log([gd, 'removed!']);\n",
              "            Plotly.purge(gd);\n",
              "            observer.disconnect();\n",
              "        }}\n",
              "}});\n",
              "\n",
              "// Listen for the removal of the full notebook cells\n",
              "var notebookContainer = gd.closest('#notebook-container');\n",
              "if (notebookContainer) {{\n",
              "    x.observe(notebookContainer, {childList: true});\n",
              "}}\n",
              "\n",
              "// Listen for the clearing of the current output cell\n",
              "var outputEl = gd.closest('.output');\n",
              "if (outputEl) {{\n",
              "    x.observe(outputEl, {childList: true});\n",
              "}}\n",
              "\n",
              "                        })                };                            </script>        </div>\n",
              "</body>\n",
              "</html>"
            ]
          },
          "metadata": {}
        }
      ]
    },
    {
      "cell_type": "markdown",
      "source": [
        "# 2. SIZE of dataset"
      ],
      "metadata": {
        "id": "utHGaeRJjVeY"
      }
    },
    {
      "cell_type": "code",
      "source": [
        "np.shape(df)\n",
        "df.shape"
      ],
      "metadata": {
        "colab": {
          "base_uri": "https://localhost:8080/"
        },
        "id": "CWbx_lkZjT_4",
        "outputId": "aa8047e6-73b7-41d2-d6f5-10da6b46252c"
      },
      "execution_count": 90,
      "outputs": [
        {
          "output_type": "execute_result",
          "data": {
            "text/plain": [
              "(200, 5)"
            ]
          },
          "metadata": {},
          "execution_count": 90
        }
      ]
    },
    {
      "cell_type": "markdown",
      "source": [
        "# 2. VALUE of number of clusters"
      ],
      "metadata": {
        "id": "jFBbeQTXk0K0"
      }
    },
    {
      "cell_type": "code",
      "source": [
        "# df.describe()\n",
        "num_clusters = 3"
      ],
      "metadata": {
        "id": "53x1HFPIk0ro"
      },
      "execution_count": 91,
      "outputs": []
    },
    {
      "cell_type": "markdown",
      "source": [
        "# 2. K MEAN OPERATION"
      ],
      "metadata": {
        "id": "kvUnOguOkuYO"
      }
    },
    {
      "cell_type": "code",
      "source": [
        "import time\n",
        "\n",
        "initial = time.time()\n",
        "\n",
        "km = KMeans(num_clusters)\n",
        "predicted = km.fit_predict(df)\n",
        "\n",
        "final = time.time()\n",
        "\n",
        "predicted"
      ],
      "metadata": {
        "id": "Dqo7GiKVe79m",
        "colab": {
          "base_uri": "https://localhost:8080/"
        },
        "outputId": "d650e6d1-009e-4f87-f5ee-858ad5ccdedc"
      },
      "execution_count": 92,
      "outputs": [
        {
          "output_type": "stream",
          "name": "stderr",
          "text": [
            "/usr/local/lib/python3.9/dist-packages/sklearn/cluster/_kmeans.py:870: FutureWarning:\n",
            "\n",
            "The default value of `n_init` will change from 10 to 'auto' in 1.4. Set the value of `n_init` explicitly to suppress the warning\n",
            "\n"
          ]
        },
        {
          "output_type": "execute_result",
          "data": {
            "text/plain": [
              "array([1, 1, 1, 1, 1, 1, 1, 1, 1, 1, 1, 1, 1, 1, 1, 1, 0, 1, 1, 1, 1, 1,\n",
              "       1, 1, 1, 0, 1, 1, 1, 1, 1, 1, 1, 1, 1, 1, 1, 1, 1, 1, 1, 0, 1, 1,\n",
              "       0, 1, 0, 1, 0, 1, 1, 0, 0, 1, 1, 1, 2, 2, 0, 0, 0, 1, 0, 0, 0, 0,\n",
              "       0, 0, 0, 1, 1, 0, 0, 1, 0, 0, 1, 0, 2, 0, 0, 1, 2, 0, 0, 2, 2, 0,\n",
              "       1, 0, 2, 2, 0, 0, 2, 0, 2, 0, 0, 0, 0, 0, 2, 0, 0, 2, 0, 2, 0, 2,\n",
              "       0, 2, 0, 2, 2, 0, 0, 2, 2, 2, 2, 0, 2, 0, 2, 2, 2, 2, 0, 2, 0, 2,\n",
              "       2, 0, 2, 2, 2, 0, 2, 2, 0, 0, 2, 0, 2, 2, 0, 2, 2, 2, 2, 2, 2, 2,\n",
              "       0, 0, 2, 2, 2, 2, 0, 0, 2, 2, 2, 2, 2, 2, 0, 2, 2, 2, 0, 2, 2, 2,\n",
              "       2, 2, 2, 2, 2, 2, 2, 2, 2, 2, 2, 2, 2, 2, 2, 2, 2, 2, 2, 0, 2, 2,\n",
              "       2, 2], dtype=int32)"
            ]
          },
          "metadata": {},
          "execution_count": 92
        }
      ]
    },
    {
      "cell_type": "markdown",
      "source": [
        "# 2. TIME REQUIRED"
      ],
      "metadata": {
        "id": "9xT4o5VJkcVj"
      }
    },
    {
      "cell_type": "code",
      "source": [
        "print(final - initial)"
      ],
      "metadata": {
        "colab": {
          "base_uri": "https://localhost:8080/"
        },
        "id": "CWWwLp4Rkb56",
        "outputId": "b45a64ab-fa2c-4c84-aaed-c9c2c19edb41"
      },
      "execution_count": 93,
      "outputs": [
        {
          "output_type": "stream",
          "name": "stdout",
          "text": [
            "0.03803110122680664\n"
          ]
        }
      ]
    },
    {
      "cell_type": "markdown",
      "source": [
        "# 3. Using Direct fuction Reducing the dimension of all the datapoints in the dataset"
      ],
      "metadata": {
        "id": "3FhktJ5ykBO3"
      }
    },
    {
      "cell_type": "code",
      "source": [
        "from sklearn.decomposition import PCA\n",
        "\n",
        "print(df.shape)\n",
        "\n",
        "pc = PCA(0.95) # as this (0.95) persentage decreses accurassy also decreases\n",
        "reduceddf = pc.fit_transform(df)\n",
        "\n",
        "print(reduceddf.shape)"
      ],
      "metadata": {
        "id": "MyxFMAzJZSZ7",
        "colab": {
          "base_uri": "https://localhost:8080/"
        },
        "outputId": "3ba7af29-aa7a-4fe5-abb9-339ef63dc443"
      },
      "execution_count": 94,
      "outputs": [
        {
          "output_type": "stream",
          "name": "stdout",
          "text": [
            "(200, 5)\n",
            "(200, 4)\n"
          ]
        }
      ]
    },
    {
      "cell_type": "markdown",
      "source": [
        "# 3. Using made 1 fuction Reducing the dimension of all the datapoints in the dataset"
      ],
      "metadata": {
        "id": "FGlM5_O63Eev"
      }
    },
    {
      "cell_type": "code",
      "source": [
        "print(df.shape)\n",
        "\n",
        "df4d = pca(df,4)\n",
        "\n",
        "print(df4d.shape)"
      ],
      "metadata": {
        "colab": {
          "base_uri": "https://localhost:8080/"
        },
        "id": "s3OZuleO2-PK",
        "outputId": "42b7923e-e519-4dbb-f599-e07ca6db22b8"
      },
      "execution_count": 95,
      "outputs": [
        {
          "output_type": "stream",
          "name": "stdout",
          "text": [
            "(200, 5)\n",
            "(200, 4)\n"
          ]
        }
      ]
    },
    {
      "cell_type": "markdown",
      "source": [
        "# 3. Using made 2 fuction Reducing the dimension of all the datapoints in the dataset"
      ],
      "metadata": {
        "id": "3IJCfjx2CsVz"
      }
    },
    {
      "cell_type": "code",
      "source": [
        "print(df.shape)\n",
        "\n",
        "dfm24d = pcam2(df,4)\n",
        "\n",
        "print(dfm24d.shape)"
      ],
      "metadata": {
        "colab": {
          "base_uri": "https://localhost:8080/"
        },
        "id": "3R4EXjb1B8Fz",
        "outputId": "7c8ace3d-3528-4de3-e48d-ba9e6932c7e6"
      },
      "execution_count": 96,
      "outputs": [
        {
          "output_type": "stream",
          "name": "stdout",
          "text": [
            "(200, 5)\n",
            "(200, 4)\n"
          ]
        }
      ]
    },
    {
      "cell_type": "markdown",
      "source": [
        "# 4. SIZE of reduced dataset"
      ],
      "metadata": {
        "id": "ROpPFko7g0fW"
      }
    },
    {
      "cell_type": "code",
      "source": [
        "print(df4d.shape)"
      ],
      "metadata": {
        "colab": {
          "base_uri": "https://localhost:8080/"
        },
        "id": "qZU2kiYCgMeq",
        "outputId": "b68b514a-b776-4340-f34a-0ffcdf4b5aae"
      },
      "execution_count": 97,
      "outputs": [
        {
          "output_type": "stream",
          "name": "stdout",
          "text": [
            "(200, 4)\n"
          ]
        }
      ]
    },
    {
      "cell_type": "markdown",
      "source": [
        "# 4. VALUE of number of clusters"
      ],
      "metadata": {
        "id": "EmlW9yUGhFKA"
      }
    },
    {
      "cell_type": "code",
      "source": [
        "# df.describe()\n",
        "new_clusters = num_clusters"
      ],
      "metadata": {
        "id": "EEp7VEjJhSdW"
      },
      "execution_count": 98,
      "outputs": []
    },
    {
      "cell_type": "markdown",
      "source": [
        "# 4. K MEAN OPERATION on reduced dataset\n"
      ],
      "metadata": {
        "id": "vkMn7mPShecv"
      }
    },
    {
      "cell_type": "code",
      "source": [
        "initial1 = time.time()\n",
        "\n",
        "km = KMeans(new_clusters)\n",
        "newpredicted = km.fit_predict(df4d)\n",
        "\n",
        "final1 = time.time()"
      ],
      "metadata": {
        "id": "no8fFcFzhiHb",
        "colab": {
          "base_uri": "https://localhost:8080/"
        },
        "outputId": "5274ef67-4c50-4714-f0d3-5efc2bda459e"
      },
      "execution_count": 99,
      "outputs": [
        {
          "output_type": "stream",
          "name": "stderr",
          "text": [
            "/usr/local/lib/python3.9/dist-packages/sklearn/cluster/_kmeans.py:870: FutureWarning:\n",
            "\n",
            "The default value of `n_init` will change from 10 to 'auto' in 1.4. Set the value of `n_init` explicitly to suppress the warning\n",
            "\n"
          ]
        }
      ]
    },
    {
      "cell_type": "markdown",
      "source": [
        "# 4. TIME REQUIRED for reduced dataset"
      ],
      "metadata": {
        "id": "wB7BuT1Rhojp"
      }
    },
    {
      "cell_type": "code",
      "source": [
        "print(f'TIME REQUIRED for orignal dataset\\n{final - initial}\\n\\nTIME REQUIRED for reduced dataset\\n{final1 - initial1}')"
      ],
      "metadata": {
        "id": "9muuFsL3hoNx",
        "colab": {
          "base_uri": "https://localhost:8080/"
        },
        "outputId": "92d632ed-3b6e-401f-9e8d-8bfd69ffe0e7"
      },
      "execution_count": 100,
      "outputs": [
        {
          "output_type": "stream",
          "name": "stdout",
          "text": [
            "TIME REQUIRED for orignal dataset\n",
            "0.03803110122680664\n",
            "\n",
            "TIME REQUIRED for reduced dataset\n",
            "0.029003143310546875\n"
          ]
        }
      ]
    },
    {
      "cell_type": "markdown",
      "source": [
        "# 5. \n",
        "Repeat the Step 4 for number of dimensions equal to 2 and 3 and visualize the clustering results using appropriate plots"
      ],
      "metadata": {
        "id": "_HGOJB-ih4X5"
      }
    },
    {
      "cell_type": "markdown",
      "source": [
        "# 5. For 3D"
      ],
      "metadata": {
        "id": "2ShEdyJV1VCq"
      }
    },
    {
      "cell_type": "markdown",
      "source": [
        "using m1 of pca"
      ],
      "metadata": {
        "id": "cLixvNlgCyEO"
      }
    },
    {
      "cell_type": "code",
      "source": [
        "df3d = pca(df,3) # as this n_components decreses accurassy also decreases\n",
        "\n",
        "# SHAPE\n",
        "\n",
        "print(f'SHAPE for 3D \\n{df3d.shape}\\n')\n",
        "\n",
        "# KMEAN\n",
        "\n",
        "initial3d = time.time()\n",
        "\n",
        "km = KMeans(new_clusters)\n",
        "predicted3d = km.fit_predict(df3d)\n",
        "\n",
        "final3d = time.time()\n",
        "\n",
        "# TIME\n",
        "\n",
        "print(f'TIME REQUIRED for 3D \\n{final3d - initial3d}')"
      ],
      "metadata": {
        "colab": {
          "base_uri": "https://localhost:8080/"
        },
        "id": "sDwWO-jT2X_M",
        "outputId": "45236b65-1d01-4ab5-ccab-65b8d0b14166"
      },
      "execution_count": 101,
      "outputs": [
        {
          "output_type": "stream",
          "name": "stdout",
          "text": [
            "SHAPE for 3D \n",
            "(200, 3)\n",
            "\n",
            "TIME REQUIRED for 3D \n",
            "0.025171756744384766\n"
          ]
        },
        {
          "output_type": "stream",
          "name": "stderr",
          "text": [
            "/usr/local/lib/python3.9/dist-packages/sklearn/cluster/_kmeans.py:870: FutureWarning:\n",
            "\n",
            "The default value of `n_init` will change from 10 to 'auto' in 1.4. Set the value of `n_init` explicitly to suppress the warning\n",
            "\n"
          ]
        }
      ]
    },
    {
      "cell_type": "code",
      "source": [
        "import plotly\n",
        "import plotly.graph_objs as go"
      ],
      "metadata": {
        "id": "f27SuL1Uix9K"
      },
      "execution_count": 102,
      "outputs": []
    },
    {
      "cell_type": "code",
      "source": [
        "# PLOT\n",
        "\n",
        "listx1 = df3d.values.tolist()\n",
        "\n",
        "count=0\n",
        "for i in predicted3d:\n",
        "  listx1[count].append(i)\n",
        "  count = count +1 \n",
        "\n",
        "lis1=[]\n",
        "lis2=[]\n",
        "lis3=[]\n",
        "j=0\n",
        "i=0\n",
        "\n",
        "for i in listx1:\n",
        "  if i[3]==0:\n",
        "    lis1.append(listx1[j])\n",
        "  elif i[3]==1:\n",
        "    lis2.append(listx1[j])\n",
        "  elif i[3]==2:\n",
        "    lis3.append(listx1[j])\n",
        "  j=j+1\n",
        "\n",
        "arr1 = np.array(lis1)\n",
        "arr2 = np.array(lis2)\n",
        "arr3 = np.array(lis3)\n",
        "\n",
        "fig = go.Figure()\n",
        "\n",
        "fig.add_trace(go.Scatter3d(x=arr1[:, 0], y=arr1[:, 1], z=arr1[:, 2], marker=dict(size=5), mode='markers', name='cluster 1'))\n",
        "fig.add_trace(go.Scatter3d(x=arr2[:, 0], y=arr2[:, 1], z=arr2[:, 2], marker=dict(size=5), mode='markers', name='cluster 2'))\n",
        "fig.add_trace(go.Scatter3d(x=arr3[:, 0], y=arr3[:, 1], z=arr3[:, 2], marker=dict(size=5), mode='markers', name='cluster 3'))\n",
        "\n",
        "# fig.update_layout(scene=dict(xaxis=dict(title='scores_overall_rank'),\n",
        "#                                 yaxis=dict(title='scores_citations_rank'),\n",
        "#                                 zaxis=dict(title='scores_research_rank')))\n",
        "\n",
        "fig.show()\n",
        "\n",
        "\n",
        "# Another way\n",
        "\n",
        "# from mpl_toolkits.mplot3d import Axes3D\n",
        "\n",
        "# fig = plt.figure()\n",
        "# ax = fig.add_subplot(111, projection='3d')\n",
        "\n",
        "# ax.scatter(arr1[:, 0], arr1[:, 1], arr1[:, 2], c='red', label='cluster 1')\n",
        "# ax.scatter(arr2[:, 0], arr2[:, 1], arr2[:, 2], c='green', label='cluster 2')\n",
        "# ax.scatter(arr3[:, 0], arr3[:, 1], arr3[:, 2], c='blue', label='cluster 3')\n",
        "\n",
        "# ax.set_xlabel('scores_overall_rank')\n",
        "# ax.set_ylabel('scores_citations_rank')\n",
        "# ax.set_zlabel('scores_research_rank')\n",
        "# ax.legend()\n",
        "\n",
        "# plt.show()"
      ],
      "metadata": {
        "colab": {
          "base_uri": "https://localhost:8080/",
          "height": 562
        },
        "id": "3S-1ntoaZjD1",
        "outputId": "9db8103c-788a-4d8f-da37-8d8925e6e44a"
      },
      "execution_count": 103,
      "outputs": [
        {
          "output_type": "display_data",
          "data": {
            "text/html": [
              "<html>\n",
              "<head><meta charset=\"utf-8\" /></head>\n",
              "<body>\n",
              "    <div>            <script src=\"https://cdnjs.cloudflare.com/ajax/libs/mathjax/2.7.5/MathJax.js?config=TeX-AMS-MML_SVG\"></script><script type=\"text/javascript\">if (window.MathJax && window.MathJax.Hub && window.MathJax.Hub.Config) {window.MathJax.Hub.Config({SVG: {font: \"STIX-Web\"}});}</script>                <script type=\"text/javascript\">window.PlotlyConfig = {MathJaxConfig: 'local'};</script>\n",
              "        <script src=\"https://cdn.plot.ly/plotly-2.18.2.min.js\"></script>                <div id=\"d64b030a-a34c-46d6-a409-da0f782ed5b2\" class=\"plotly-graph-div\" style=\"height:525px; width:100%;\"></div>            <script type=\"text/javascript\">                                    window.PLOTLYENV=window.PLOTLYENV || {};                                    if (document.getElementById(\"d64b030a-a34c-46d6-a409-da0f782ed5b2\")) {                    Plotly.newPlot(                        \"d64b030a-a34c-46d6-a409-da0f782ed5b2\",                        [{\"marker\":{\"size\":5},\"mode\":\"markers\",\"name\":\"cluster 1\",\"x\":[2.980630851679529,2.8896354370973545,2.953064392901425,2.670410717865151,2.952491228336144,2.7378756566957945,2.7540618324765376,2.6899531809294657,2.590419296823458,2.475426141685755,2.5061985139924836,2.643545589492762,2.431911573445545,2.315356872311865,2.324975548054332,2.176403978739383,2.4557328096922504,2.2378381354394015,2.282156532572362,2.477579546214975,2.1229752562733024,2.319067339409156,2.0789355109024275,2.1944484454739603,1.9653942595062026,1.9325009568873712,2.2690006381412235,1.7149488256471104,1.9641438658860273,1.8815056082226935,1.5893105448484952,1.8503640095195384,1.5147945367234925,1.8883071130508051,1.266570642819399,1.737675035019325,1.6824171416250309,1.6993913647878431,1.7796584095339165,0.6917770859998451,1.6508672782878726,1.4668026829571563,1.5212509243406294,1.5003227433721855,0.9246973170372178,1.0519934973143028,1.0513240627459437,0.7886555862350348,0.8287574146626687,0.9079686089025459,0.6560792303462719,0.37535881584412173,0.6533772886051343,0.3927163781269796,0.4089563959937129],\"y\":[0.10879654787504055,1.0563428801540287,1.244644969224711,0.7643514809699997,-0.7922551063252907,1.278377620137245,1.0816084262591812,-1.069151087319731,1.6531604802035096,-1.2172817600373735,-0.9793795208066038,-1.0361888665204524,1.5392251368802712,0.20045203219472085,-0.2254809344362195,1.0967388439176147,-0.4378869925063589,0.3630681779360214,0.5985917171891172,0.9093035944627891,0.7551573404774642,-0.21405725914147303,1.3475315244022157,-0.9469748111148988,1.5101577987918016,0.9376441848167925,1.038853866998346,0.5639423935066293,0.9725995200596622,0.6343089777780705,-0.6678988615446768,0.899553463518432,-0.06770858743022413,0.9669197125046878,1.6300517706393536,-1.3926951333002937,-0.7818047491785968,0.4827240414540473,0.6668045561048779,1.3831509257719092,-0.2537340771807579,-0.6159182379649939,0.285861407303294,-1.2240999852237924,0.9552858960414075,1.1605174801454172,-0.5031564420310018,1.0407768507133714,0.34763960546727846,0.020495519751863606,1.8934334676052604,0.06014810138920171,0.8651257079800179,1.157280558613201,0.30863504945446096],\"z\":[-0.36950613389564646,0.2801387843461765,-0.6715454360374279,1.305923080161833,-0.3241561090350131,-0.5086043327534225,-0.5108684888538058,0.9176214902552461,-0.8124394461270804,0.1842578183991106,0.5544849039998595,-0.09601766867576061,0.14237977538490063,0.04984033172028314,-0.9577538431990407,0.37356354543491355,-0.9959106736279866,1.0108138377505056,0.779777579998073,-1.1446008152581704,-0.8473468050912434,0.3930287302548795,0.3225835042551333,-0.08628007687693584,-0.4969375244491019,0.7845532804477235,-0.4381207170128451,1.6082330854266755,-1.001288390258054,1.0915958874562004,0.392165818402083,-1.1394401273978314,-0.5988767652132937,-0.9326725711340784,-0.4406021873746773,0.06668815575579363,-0.9102560225975227,-0.5254989480743314,-1.6883655572515641,2.0307608688612633,-1.201430734584802,0.32575988277405066,-1.4930965934044247,-0.6250492337701522,1.4195666350571854,0.1198502279737818,-0.1562611827968144,1.6264634562940932,0.5343342381681391,-0.6762325610227733,-0.93719189768485,-1.8251167585622121,-1.04598882954608,-0.7938193707247495,0.08873152539703363],\"type\":\"scatter3d\"},{\"marker\":{\"size\":5},\"mode\":\"markers\",\"name\":\"cluster 2\",\"x\":[0.2047080174068446,0.29397019414114,-0.14048807337517152,-0.0301567907409157,-0.0073670406922250265,0.12408289408742712,-0.22081719444078787,0.049587874624026536,-0.2202731384647517,-0.1491608998604007,-0.0548170303651333,-0.28432047521537335,-0.2566806210383618,-0.6167828038045003,-0.6313441395713378,-0.738508115703204,-0.3173182321918384,-0.339218419351718,-0.7054908502789239,-0.756564478856059,-0.37817933483764454,-0.7328072294182338,-0.608213238744543,-0.7271345828475393,-0.5947716420808563,-0.5757258263407435,-0.9545333394242443,-1.2646103439606478,-1.0064574940171185,-0.763728025672138,-0.7299355513642312,-0.9832215405502648,-1.0504513890036964,-0.7902893274801951,-0.8565202343863585,-0.9346684290873776,-1.0554285342998138,-0.8457272123890549,-1.0288184131740283,-1.077958304013234,-1.0088398378374699,-1.1655230239355645,-1.2381250574436913,-1.3584680890144603,-1.4349089810501763,-2.2015858367342207,-1.2357632587813598,-1.40264499593808,-2.088354104885984,-1.3812212783273659,-1.3611354734670142,-1.2044614439437575,-1.603095776219052,-1.2198457627489654,-1.8133360557165656,-1.5584378981801903,-1.3900867169918847,-1.8242263172643822,-1.7278324996648298,-1.768484173815713,-1.7628604709558795,-1.9625616156177215,-2.0032308962404786,-1.6345069646387582,-2.1202128455593936,-1.9329346189911372,-1.957174691066108,-1.9637568441373745,-2.0813408415805523,-2.176258747961563,-1.9649790291831966,-2.252567431798866,-2.0395765628381475,-2.233904733130024,-2.2276935668470954,-1.901893196342915,-1.6251451318670858,-2.1309320324900924,-2.2966109467193436,-2.6861158302054067,-1.9562182896508797,-2.337905092805513],\"y\":[1.7303723680747862,1.987503073716736,2.1802309632328396,0.13046166127533684,1.153080331557436,0.8954652246023715,0.6845846717665389,-0.033098912808567554,0.15220891347192136,0.9557610463337287,-0.16310633163569865,0.1593860030258819,0.7572199194271292,0.939811505082523,1.5926049441521126,1.676136746190921,0.31184518130002276,0.33899070917018126,1.96116948283241,0.35817849803072027,0.050624640625914076,1.2620596419582848,1.7417717524632312,1.719267137354452,1.4736798448013442,1.0501099611666327,1.7437532460770127,0.7592092140353434,1.7518963927216447,0.05978626441222724,0.9602389555361969,0.6359815882208497,1.2586237386233035,0.009038974265479482,1.2143542971447738,0.7240401769251049,0.6243648615402572,1.375210037982677,0.7327929524023773,1.0406766161858985,2.314176738111507,-0.7510765495807032,-0.2158506847397593,1.4430612933423603,0.7460332420029896,0.48784229778329197,1.360409602242881,0.13335660133687308,-0.7054681126602954,0.5526569181826071,0.2814917416319304,1.378216156058917,0.37314736153858585,0.47722280188656074,-0.3484335280407976,-0.0033192854385135236,1.1940760964537704,0.46604340511001247,-0.48986618756102274,-0.5056930689512785,0.40397033289299356,-0.8634639917105668,-0.28935108135211846,2.105582216020409,1.0732312389335794,-0.01753787378814098,-0.10362331432312581,1.2097772843212786,-0.8306655948987681,-0.04633506808564906,0.0296090965902139,-0.25844063423930624,0.48034879885805437,-0.6223456904502854,-0.5717720272784025,-0.2148741673677415,2.3735699054264328,-0.09500191227708052,-0.7006721028218488,0.9811114304839507,0.09649610283136845,1.5775155991989496],\"z\":[2.0659552685490694,0.9005572636555919,1.0724524324221125,-0.7059376869624384,-1.1917737418726466,-0.6938436635910664,-1.380678305732593,-0.9282757930321806,-1.9186447049223612,1.2665932159210576,-1.3244508639153971,0.17582058104938844,0.6962656130735955,0.5214898983805164,1.5168287164379597,0.4032886264279541,1.2295093114810443,-1.473880610578752,1.3348545329551091,-0.182130053796785,-1.7085291424371993,-0.7572038463598594,0.6106954782171148,1.4098698659885422,-0.42195830891135244,-0.1601883950921706,1.7999814868487507,-0.1990655471190159,1.7778544543726666,-1.125065583730959,-1.0232484972606846,-0.4436244176580339,0.9061981077837513,-0.6505478611559338,0.08582747782802867,-1.9954319975590298,-0.739788872697199,-0.5005209439851712,-1.4314892674086424,-1.2632184452139936,0.6626527321454656,-1.8319270986771727,-1.3313387548093143,-0.7523665585681243,1.143875614002907,1.1654900117943776,1.4447309906572139,1.3033477393835702,0.9280128340434431,-0.43647308732394186,0.42332506699267397,0.842900488456344,-0.03296012141800044,0.8552052696761552,0.29139240034456815,-0.6980930517398332,-1.3487670836821113,-1.1310677807019207,-0.8846780063140776,0.04047471688437612,-1.6437048773939786,-0.4061607002473634,0.03408766699464624,-0.0009894619748862781,-0.8047533479962267,0.47476502930607656,-0.753854028912722,-0.4026260313280263,-1.7369196003043768,-0.3722915089969173,-2.070172954615062,-0.6555743188441131,0.9115027658408613,0.9324824104281894,-0.8315555250903665,0.3139945963199914,-0.28790871707926,-0.6459212078851316,-0.039421121939765706,0.5725068440465507,-0.2890035847584809,1.57230098930264],\"type\":\"scatter3d\"},{\"marker\":{\"size\":5},\"mode\":\"markers\",\"name\":\"cluster 3\",\"x\":[1.806055334209089,0.9252435075837347,1.145626722287065,1.4800959522432449,1.3170062025619933,0.8065845568547605,1.0779303932317437,0.9147456104319719,1.0464323521000112,0.7312872550642894,0.4513814973602267,0.49973703718263374,0.7930631340824668,0.40016388232892924,0.5498376250959627,1.0103350695740188,0.9656830498468219,0.15623316297530038,0.38534160378213955,0.048512074328300875,0.08805910938884379,0.5287776261935389,0.27330340052749585,0.4312487626574364,0.31378108168113006,0.19312434972041162,0.4052557681243061,0.32464990213258904,-0.30130326726737683,0.07166428663412269,0.04840866957738714,-0.53002118168279,0.02777459509687352,0.0743561627288078,-0.350280545820194,-0.3068912365128314,-0.06222448596761633,-0.10697923608921649,-0.270297551143966,-0.11121641929200174,-0.26573265688530756,-0.04686865727543249,-0.13334972248154098,-0.21685072049316498,-0.17805120854424605,-0.557550609964903,-0.5960262748599693,-0.5642327117242948,-0.5756755239293996,-0.7090267737144519,-1.4412371485309796,-1.2702317739720308,-0.8727228566744056,-1.4329312611674119,-0.7479100919746938,-1.0781691216617502,-1.5274155411936112,-1.285549973573253,-1.4606278159341624,-1.4526012304435731,-1.8406069954761664,-1.8614970708717535,-2.0147064445885925],\"y\":[-1.3225646453706978,-0.5900864350370666,-1.058631592594472,-1.3250999408071489,-1.215206405399865,-1.2854181748881057,-1.1384309768377863,-1.4493306313225167,-0.8708817976890132,-1.2805429559126087,-1.0270211257132411,-2.0438802645958907,-0.051958045176484044,-0.4089586781641435,-0.537710890857278,-1.3175290904505956,-2.018815091436634,-1.731407174119211,-1.1546122327264596,-1.5538475243106542,-2.7431481847927053,-0.6470037487717168,-1.6652828739005094,-1.1045503496716749,-0.3577049602143212,-1.442742373886775,-0.7131325776373382,-1.0578630133195521,-2.140249948513252,-0.8067401431385292,-1.649580468261881,-1.2045798647738553,-1.639361244586251,-1.1525679283012538,-1.6601956624690086,-1.108975542812567,-0.6403879175035286,-0.6530129519652071,-0.3584475637585847,-1.5371428296585123,0.05700636915198821,-1.5804675978344835,-1.302674251731535,-1.6701960157649218,-0.5782943651222379,-0.7369561315032752,-0.7574973022343995,-0.7065856290090486,-1.1494614870975444,-0.5909317792482148,-1.0990865698440586,-1.2088126754798154,-1.6465764532681681,-1.2224771256588103,-1.5359013330294697,-0.769035167840105,-1.0621607908712425,-0.877806407235076,-1.5268829001592863,-1.009766149259687,-1.566394993440473,-1.454191747591471,-1.5552765701287983],\"z\":[2.083471136254097,2.1706611292596536,-0.05365909466539702,0.6257998668092485,0.5610458381468949,1.293388078595453,1.5484533737417687,0.9316565153685843,0.41055808379817404,0.6306648071736164,-0.17739791891019027,0.19004751501217945,1.1918919718891463,-0.013521068378291421,-0.36217676317231645,0.8456444192754392,1.1889487503202927,-0.2656602363740472,0.5998721815513672,0.7040092166259764,0.6073697546091182,-1.45053990470976,-0.4415519441474656,-1.3526142934531495,-0.9759581070398615,1.3057403476243892,-1.0747016294546048,-2.0708214337531023,0.6819508416353278,1.773313479885514,-1.787037901331257,0.11922172941108225,0.404942537369181,0.6506676370771515,-0.17065770035472852,-1.4212634908618962,1.0676414981276163,0.3000435920477083,1.4935349214515146,-1.5351124738948134,1.170947922118223,-1.6218735227581844,-0.6066337824449237,0.32587349672507426,-0.7769766795532218,0.9739076593847774,-1.3259794593779897,1.360908705882795,1.3450305818685824,1.1117852947766487,1.6495898547091283,0.3014370305583856,0.4150334552085493,1.1228261123084222,0.44495184161722495,-0.46039662805503084,0.19049835630910267,-0.5891456778006603,0.05136890813669867,0.8067147024682191,0.0355980249235776,0.8780290373343562,0.7377334449997045],\"type\":\"scatter3d\"}],                        {\"template\":{\"data\":{\"histogram2dcontour\":[{\"type\":\"histogram2dcontour\",\"colorbar\":{\"outlinewidth\":0,\"ticks\":\"\"},\"colorscale\":[[0.0,\"#0d0887\"],[0.1111111111111111,\"#46039f\"],[0.2222222222222222,\"#7201a8\"],[0.3333333333333333,\"#9c179e\"],[0.4444444444444444,\"#bd3786\"],[0.5555555555555556,\"#d8576b\"],[0.6666666666666666,\"#ed7953\"],[0.7777777777777778,\"#fb9f3a\"],[0.8888888888888888,\"#fdca26\"],[1.0,\"#f0f921\"]]}],\"choropleth\":[{\"type\":\"choropleth\",\"colorbar\":{\"outlinewidth\":0,\"ticks\":\"\"}}],\"histogram2d\":[{\"type\":\"histogram2d\",\"colorbar\":{\"outlinewidth\":0,\"ticks\":\"\"},\"colorscale\":[[0.0,\"#0d0887\"],[0.1111111111111111,\"#46039f\"],[0.2222222222222222,\"#7201a8\"],[0.3333333333333333,\"#9c179e\"],[0.4444444444444444,\"#bd3786\"],[0.5555555555555556,\"#d8576b\"],[0.6666666666666666,\"#ed7953\"],[0.7777777777777778,\"#fb9f3a\"],[0.8888888888888888,\"#fdca26\"],[1.0,\"#f0f921\"]]}],\"heatmap\":[{\"type\":\"heatmap\",\"colorbar\":{\"outlinewidth\":0,\"ticks\":\"\"},\"colorscale\":[[0.0,\"#0d0887\"],[0.1111111111111111,\"#46039f\"],[0.2222222222222222,\"#7201a8\"],[0.3333333333333333,\"#9c179e\"],[0.4444444444444444,\"#bd3786\"],[0.5555555555555556,\"#d8576b\"],[0.6666666666666666,\"#ed7953\"],[0.7777777777777778,\"#fb9f3a\"],[0.8888888888888888,\"#fdca26\"],[1.0,\"#f0f921\"]]}],\"heatmapgl\":[{\"type\":\"heatmapgl\",\"colorbar\":{\"outlinewidth\":0,\"ticks\":\"\"},\"colorscale\":[[0.0,\"#0d0887\"],[0.1111111111111111,\"#46039f\"],[0.2222222222222222,\"#7201a8\"],[0.3333333333333333,\"#9c179e\"],[0.4444444444444444,\"#bd3786\"],[0.5555555555555556,\"#d8576b\"],[0.6666666666666666,\"#ed7953\"],[0.7777777777777778,\"#fb9f3a\"],[0.8888888888888888,\"#fdca26\"],[1.0,\"#f0f921\"]]}],\"contourcarpet\":[{\"type\":\"contourcarpet\",\"colorbar\":{\"outlinewidth\":0,\"ticks\":\"\"}}],\"contour\":[{\"type\":\"contour\",\"colorbar\":{\"outlinewidth\":0,\"ticks\":\"\"},\"colorscale\":[[0.0,\"#0d0887\"],[0.1111111111111111,\"#46039f\"],[0.2222222222222222,\"#7201a8\"],[0.3333333333333333,\"#9c179e\"],[0.4444444444444444,\"#bd3786\"],[0.5555555555555556,\"#d8576b\"],[0.6666666666666666,\"#ed7953\"],[0.7777777777777778,\"#fb9f3a\"],[0.8888888888888888,\"#fdca26\"],[1.0,\"#f0f921\"]]}],\"surface\":[{\"type\":\"surface\",\"colorbar\":{\"outlinewidth\":0,\"ticks\":\"\"},\"colorscale\":[[0.0,\"#0d0887\"],[0.1111111111111111,\"#46039f\"],[0.2222222222222222,\"#7201a8\"],[0.3333333333333333,\"#9c179e\"],[0.4444444444444444,\"#bd3786\"],[0.5555555555555556,\"#d8576b\"],[0.6666666666666666,\"#ed7953\"],[0.7777777777777778,\"#fb9f3a\"],[0.8888888888888888,\"#fdca26\"],[1.0,\"#f0f921\"]]}],\"mesh3d\":[{\"type\":\"mesh3d\",\"colorbar\":{\"outlinewidth\":0,\"ticks\":\"\"}}],\"scatter\":[{\"fillpattern\":{\"fillmode\":\"overlay\",\"size\":10,\"solidity\":0.2},\"type\":\"scatter\"}],\"parcoords\":[{\"type\":\"parcoords\",\"line\":{\"colorbar\":{\"outlinewidth\":0,\"ticks\":\"\"}}}],\"scatterpolargl\":[{\"type\":\"scatterpolargl\",\"marker\":{\"colorbar\":{\"outlinewidth\":0,\"ticks\":\"\"}}}],\"bar\":[{\"error_x\":{\"color\":\"#2a3f5f\"},\"error_y\":{\"color\":\"#2a3f5f\"},\"marker\":{\"line\":{\"color\":\"#E5ECF6\",\"width\":0.5},\"pattern\":{\"fillmode\":\"overlay\",\"size\":10,\"solidity\":0.2}},\"type\":\"bar\"}],\"scattergeo\":[{\"type\":\"scattergeo\",\"marker\":{\"colorbar\":{\"outlinewidth\":0,\"ticks\":\"\"}}}],\"scatterpolar\":[{\"type\":\"scatterpolar\",\"marker\":{\"colorbar\":{\"outlinewidth\":0,\"ticks\":\"\"}}}],\"histogram\":[{\"marker\":{\"pattern\":{\"fillmode\":\"overlay\",\"size\":10,\"solidity\":0.2}},\"type\":\"histogram\"}],\"scattergl\":[{\"type\":\"scattergl\",\"marker\":{\"colorbar\":{\"outlinewidth\":0,\"ticks\":\"\"}}}],\"scatter3d\":[{\"type\":\"scatter3d\",\"line\":{\"colorbar\":{\"outlinewidth\":0,\"ticks\":\"\"}},\"marker\":{\"colorbar\":{\"outlinewidth\":0,\"ticks\":\"\"}}}],\"scattermapbox\":[{\"type\":\"scattermapbox\",\"marker\":{\"colorbar\":{\"outlinewidth\":0,\"ticks\":\"\"}}}],\"scatterternary\":[{\"type\":\"scatterternary\",\"marker\":{\"colorbar\":{\"outlinewidth\":0,\"ticks\":\"\"}}}],\"scattercarpet\":[{\"type\":\"scattercarpet\",\"marker\":{\"colorbar\":{\"outlinewidth\":0,\"ticks\":\"\"}}}],\"carpet\":[{\"aaxis\":{\"endlinecolor\":\"#2a3f5f\",\"gridcolor\":\"white\",\"linecolor\":\"white\",\"minorgridcolor\":\"white\",\"startlinecolor\":\"#2a3f5f\"},\"baxis\":{\"endlinecolor\":\"#2a3f5f\",\"gridcolor\":\"white\",\"linecolor\":\"white\",\"minorgridcolor\":\"white\",\"startlinecolor\":\"#2a3f5f\"},\"type\":\"carpet\"}],\"table\":[{\"cells\":{\"fill\":{\"color\":\"#EBF0F8\"},\"line\":{\"color\":\"white\"}},\"header\":{\"fill\":{\"color\":\"#C8D4E3\"},\"line\":{\"color\":\"white\"}},\"type\":\"table\"}],\"barpolar\":[{\"marker\":{\"line\":{\"color\":\"#E5ECF6\",\"width\":0.5},\"pattern\":{\"fillmode\":\"overlay\",\"size\":10,\"solidity\":0.2}},\"type\":\"barpolar\"}],\"pie\":[{\"automargin\":true,\"type\":\"pie\"}]},\"layout\":{\"autotypenumbers\":\"strict\",\"colorway\":[\"#636efa\",\"#EF553B\",\"#00cc96\",\"#ab63fa\",\"#FFA15A\",\"#19d3f3\",\"#FF6692\",\"#B6E880\",\"#FF97FF\",\"#FECB52\"],\"font\":{\"color\":\"#2a3f5f\"},\"hovermode\":\"closest\",\"hoverlabel\":{\"align\":\"left\"},\"paper_bgcolor\":\"white\",\"plot_bgcolor\":\"#E5ECF6\",\"polar\":{\"bgcolor\":\"#E5ECF6\",\"angularaxis\":{\"gridcolor\":\"white\",\"linecolor\":\"white\",\"ticks\":\"\"},\"radialaxis\":{\"gridcolor\":\"white\",\"linecolor\":\"white\",\"ticks\":\"\"}},\"ternary\":{\"bgcolor\":\"#E5ECF6\",\"aaxis\":{\"gridcolor\":\"white\",\"linecolor\":\"white\",\"ticks\":\"\"},\"baxis\":{\"gridcolor\":\"white\",\"linecolor\":\"white\",\"ticks\":\"\"},\"caxis\":{\"gridcolor\":\"white\",\"linecolor\":\"white\",\"ticks\":\"\"}},\"coloraxis\":{\"colorbar\":{\"outlinewidth\":0,\"ticks\":\"\"}},\"colorscale\":{\"sequential\":[[0.0,\"#0d0887\"],[0.1111111111111111,\"#46039f\"],[0.2222222222222222,\"#7201a8\"],[0.3333333333333333,\"#9c179e\"],[0.4444444444444444,\"#bd3786\"],[0.5555555555555556,\"#d8576b\"],[0.6666666666666666,\"#ed7953\"],[0.7777777777777778,\"#fb9f3a\"],[0.8888888888888888,\"#fdca26\"],[1.0,\"#f0f921\"]],\"sequentialminus\":[[0.0,\"#0d0887\"],[0.1111111111111111,\"#46039f\"],[0.2222222222222222,\"#7201a8\"],[0.3333333333333333,\"#9c179e\"],[0.4444444444444444,\"#bd3786\"],[0.5555555555555556,\"#d8576b\"],[0.6666666666666666,\"#ed7953\"],[0.7777777777777778,\"#fb9f3a\"],[0.8888888888888888,\"#fdca26\"],[1.0,\"#f0f921\"]],\"diverging\":[[0,\"#8e0152\"],[0.1,\"#c51b7d\"],[0.2,\"#de77ae\"],[0.3,\"#f1b6da\"],[0.4,\"#fde0ef\"],[0.5,\"#f7f7f7\"],[0.6,\"#e6f5d0\"],[0.7,\"#b8e186\"],[0.8,\"#7fbc41\"],[0.9,\"#4d9221\"],[1,\"#276419\"]]},\"xaxis\":{\"gridcolor\":\"white\",\"linecolor\":\"white\",\"ticks\":\"\",\"title\":{\"standoff\":15},\"zerolinecolor\":\"white\",\"automargin\":true,\"zerolinewidth\":2},\"yaxis\":{\"gridcolor\":\"white\",\"linecolor\":\"white\",\"ticks\":\"\",\"title\":{\"standoff\":15},\"zerolinecolor\":\"white\",\"automargin\":true,\"zerolinewidth\":2},\"scene\":{\"xaxis\":{\"backgroundcolor\":\"#E5ECF6\",\"gridcolor\":\"white\",\"linecolor\":\"white\",\"showbackground\":true,\"ticks\":\"\",\"zerolinecolor\":\"white\",\"gridwidth\":2},\"yaxis\":{\"backgroundcolor\":\"#E5ECF6\",\"gridcolor\":\"white\",\"linecolor\":\"white\",\"showbackground\":true,\"ticks\":\"\",\"zerolinecolor\":\"white\",\"gridwidth\":2},\"zaxis\":{\"backgroundcolor\":\"#E5ECF6\",\"gridcolor\":\"white\",\"linecolor\":\"white\",\"showbackground\":true,\"ticks\":\"\",\"zerolinecolor\":\"white\",\"gridwidth\":2}},\"shapedefaults\":{\"line\":{\"color\":\"#2a3f5f\"}},\"annotationdefaults\":{\"arrowcolor\":\"#2a3f5f\",\"arrowhead\":0,\"arrowwidth\":1},\"geo\":{\"bgcolor\":\"white\",\"landcolor\":\"#E5ECF6\",\"subunitcolor\":\"white\",\"showland\":true,\"showlakes\":true,\"lakecolor\":\"white\"},\"title\":{\"x\":0.05},\"mapbox\":{\"style\":\"light\"}}}},                        {\"responsive\": true}                    ).then(function(){\n",
              "                            \n",
              "var gd = document.getElementById('d64b030a-a34c-46d6-a409-da0f782ed5b2');\n",
              "var x = new MutationObserver(function (mutations, observer) {{\n",
              "        var display = window.getComputedStyle(gd).display;\n",
              "        if (!display || display === 'none') {{\n",
              "            console.log([gd, 'removed!']);\n",
              "            Plotly.purge(gd);\n",
              "            observer.disconnect();\n",
              "        }}\n",
              "}});\n",
              "\n",
              "// Listen for the removal of the full notebook cells\n",
              "var notebookContainer = gd.closest('#notebook-container');\n",
              "if (notebookContainer) {{\n",
              "    x.observe(notebookContainer, {childList: true});\n",
              "}}\n",
              "\n",
              "// Listen for the clearing of the current output cell\n",
              "var outputEl = gd.closest('.output');\n",
              "if (outputEl) {{\n",
              "    x.observe(outputEl, {childList: true});\n",
              "}}\n",
              "\n",
              "                        })                };                            </script>        </div>\n",
              "</body>\n",
              "</html>"
            ]
          },
          "metadata": {}
        }
      ]
    },
    {
      "cell_type": "markdown",
      "source": [
        "using m2 of pca"
      ],
      "metadata": {
        "id": "II4wvcaNDB3Y"
      }
    },
    {
      "cell_type": "code",
      "source": [
        "dfm23d = pcam2(df,3) # as this n_components decreses accurassy also decreases\n",
        "\n",
        "# SHAPE\n",
        "\n",
        "print(f'SHAPE for 3D \\n{dfm23d.shape}\\n')\n",
        "\n",
        "# KMEAN\n",
        "\n",
        "initial3d = time.time()\n",
        "\n",
        "km = KMeans(new_clusters)\n",
        "predicted3d = km.fit_predict(dfm23d)\n",
        "\n",
        "final3d = time.time()\n",
        "\n",
        "# TIME\n",
        "\n",
        "print(f'TIME REQUIRED for 3D \\n{final3d - initial3d}')"
      ],
      "metadata": {
        "colab": {
          "base_uri": "https://localhost:8080/"
        },
        "id": "NbcINj2lC2_N",
        "outputId": "585af4d1-4be5-44cf-950d-9ca9fc53c608"
      },
      "execution_count": 104,
      "outputs": [
        {
          "output_type": "stream",
          "name": "stdout",
          "text": [
            "SHAPE for 3D \n",
            "(200, 3)\n",
            "\n",
            "TIME REQUIRED for 3D \n",
            "0.021242141723632812\n"
          ]
        },
        {
          "output_type": "stream",
          "name": "stderr",
          "text": [
            "/usr/local/lib/python3.9/dist-packages/sklearn/cluster/_kmeans.py:870: FutureWarning:\n",
            "\n",
            "The default value of `n_init` will change from 10 to 'auto' in 1.4. Set the value of `n_init` explicitly to suppress the warning\n",
            "\n"
          ]
        }
      ]
    },
    {
      "cell_type": "code",
      "source": [
        "# PLOT\n",
        "\n",
        "listx1 = dfm23d.tolist()\n",
        "\n",
        "count=0\n",
        "for i in predicted3d:\n",
        "  listx1[count].append(i)\n",
        "  count = count +1 \n",
        "\n",
        "lis1=[]\n",
        "lis2=[]\n",
        "lis3=[]\n",
        "j=0\n",
        "i=0\n",
        "\n",
        "for i in listx1:\n",
        "  if i[3]==0:\n",
        "    lis1.append(listx1[j])\n",
        "  elif i[3]==1:\n",
        "    lis2.append(listx1[j])\n",
        "  elif i[3]==2:\n",
        "    lis3.append(listx1[j])\n",
        "  j=j+1\n",
        "\n",
        "arr1 = np.array(lis1)\n",
        "arr2 = np.array(lis2)\n",
        "arr3 = np.array(lis3)\n",
        "\n",
        "fig = go.Figure()\n",
        "\n",
        "fig.add_trace(go.Scatter3d(x=arr1[:, 0], y=arr1[:, 1], z=arr1[:, 2], marker=dict(size=5), mode='markers', name='cluster 1'))\n",
        "fig.add_trace(go.Scatter3d(x=arr2[:, 0], y=arr2[:, 1], z=arr2[:, 2], marker=dict(size=5), mode='markers', name='cluster 2'))\n",
        "fig.add_trace(go.Scatter3d(x=arr3[:, 0], y=arr3[:, 1], z=arr3[:, 2], marker=dict(size=5), mode='markers', name='cluster 3'))\n",
        "\n",
        "# fig.update_layout(scene=dict(xaxis=dict(title='scores_overall_rank'),\n",
        "#                                 yaxis=dict(title='scores_citations_rank'),\n",
        "#                                 zaxis=dict(title='scores_research_rank')))\n",
        "\n",
        "fig.show()\n",
        "\n",
        "\n",
        "# Another way\n",
        "\n",
        "# from mpl_toolkits.mplot3d import Axes3D\n",
        "\n",
        "# fig = plt.figure()\n",
        "# ax = fig.add_subplot(111, projection='3d')\n",
        "\n",
        "# ax.scatter(arr1[:, 0], arr1[:, 1], arr1[:, 2], c='red', label='cluster 1')\n",
        "# ax.scatter(arr2[:, 0], arr2[:, 1], arr2[:, 2], c='green', label='cluster 2')\n",
        "# ax.scatter(arr3[:, 0], arr3[:, 1], arr3[:, 2], c='blue', label='cluster 3')\n",
        "\n",
        "# ax.set_xlabel('scores_overall_rank')\n",
        "# ax.set_ylabel('scores_citations_rank')\n",
        "# ax.set_zlabel('scores_research_rank')\n",
        "# ax.legend()\n",
        "\n",
        "# plt.show()"
      ],
      "metadata": {
        "colab": {
          "base_uri": "https://localhost:8080/",
          "height": 562
        },
        "id": "9F1ZDugMCQEb",
        "outputId": "f8b4523c-7f55-4d45-df90-a25980b80f74"
      },
      "execution_count": 105,
      "outputs": [
        {
          "output_type": "display_data",
          "data": {
            "text/html": [
              "<html>\n",
              "<head><meta charset=\"utf-8\" /></head>\n",
              "<body>\n",
              "    <div>            <script src=\"https://cdnjs.cloudflare.com/ajax/libs/mathjax/2.7.5/MathJax.js?config=TeX-AMS-MML_SVG\"></script><script type=\"text/javascript\">if (window.MathJax && window.MathJax.Hub && window.MathJax.Hub.Config) {window.MathJax.Hub.Config({SVG: {font: \"STIX-Web\"}});}</script>                <script type=\"text/javascript\">window.PlotlyConfig = {MathJaxConfig: 'local'};</script>\n",
              "        <script src=\"https://cdn.plot.ly/plotly-2.18.2.min.js\"></script>                <div id=\"2d9efb4a-4bca-4d7f-b924-26c0d9a1c601\" class=\"plotly-graph-div\" style=\"height:525px; width:100%;\"></div>            <script type=\"text/javascript\">                                    window.PLOTLYENV=window.PLOTLYENV || {};                                    if (document.getElementById(\"2d9efb4a-4bca-4d7f-b924-26c0d9a1c601\")) {                    Plotly.newPlot(                        \"2d9efb4a-4bca-4d7f-b924-26c0d9a1c601\",                        [{\"marker\":{\"size\":5},\"mode\":\"markers\",\"name\":\"cluster 1\",\"x\":[-0.5252915071914249,-0.2691072346521325,-0.33320573087118627,-0.43048616441326093,-0.38305148243268167,-0.23459525825276467,-0.31351624182440196,-0.2660539194448189,-0.3043550310983136,-0.21269502496767254,-0.13128438679344775,-0.14534860393743157,-0.23066255009432896,-0.11638773457856855,-0.15992036862131617,-0.2938561302150265,-0.2808690825330613,-0.04544044254796783,-0.11207667229250406,-0.01410974523217207,-0.025612007238447476,-0.15379506428796424,-0.07949034144432761,-0.12542877741338113,-0.09126328202818731,-0.056170250611078054,-0.11786871044527475,-0.09442448034154902,0.08763410754183346,-0.020843570196769242,-0.01407966994243442,0.15415675261769154,-0.00807824580106636,-0.02162650282577901,0.10187915750338973,0.08925936936603417,0.018098002535705697,0.031114929370699974,0.0786160896298026,0.03234731484011433,0.0772883893429507,0.013631757097316347,0.03878478991152431,0.06307106966536263,0.05178622488575093,0.1621636916081639,0.17335434541599565,0.16410718206380637,0.1674353259782675,0.20622056010628248,0.4191840746139966,0.36944713176487765,0.25383159422613316,0.4167683058337553,0.21752977996607803,0.3135856760296739,0.44424907506643985,0.37390243277563484,0.4248238535912706,0.4224893198092262,0.5353408638634886,0.5414167459154061,0.5859777188331137],\"y\":[0.38466815648763325,0.171626741973317,0.30790318231192637,0.38540554760503887,0.35344299377223154,0.37386409910520085,0.3311128470592558,0.4215380654876243,0.2532961219009239,0.37244614082063454,0.29870927253709784,0.5944629294420543,0.015112006451024902,0.11894570247258307,0.15639330586477107,0.38320356446577014,0.5871727194814576,0.5035800768825353,0.33581916814090385,0.4519368219403142,0.7978451253101861,0.1881811525446043,0.4843478126955295,0.32125866077183957,0.10403854971758904,0.4196218696697917,0.20741473388935192,0.3076796408965157,0.6224920687234818,0.23464051055038346,0.4797807652921571,0.3503522625881218,0.47680850231370947,0.3352245818442746,0.48286819636836703,0.32254572896435996,0.18625693687282238,0.18992893033564898,0.10425453608723328,0.44707825860352735,-0.016580312354866004,0.45967927494162364,0.37888303204795315,0.4857768008589141,0.16819701639340806,0.21434381866314425,0.2203182217328893,0.2055105527453314,0.3343210728814041,0.1718726104837432,0.31966951946135636,0.351583376316076,0.47890704701022857,0.3555576840205573,0.4467171690936489,0.22367401194540076,0.3089296502428185,0.25531014578837913,0.4440941563292267,0.2936906596429313,0.4555862555129164,0.4229519219975465,0.4523524601643704],\"z\":[-0.6059779413303629,-0.6313371659179944,0.015606756989899686,-0.18201399979828373,-0.16318027933109813,-0.37618214698075875,-0.45036793231180844,-0.2709724590786081,-0.11941088987863692,-0.18342896854702076,0.05159621548238124,-0.055275352702551836,-0.34666198674205506,0.0039326050828790956,0.10533917438349828,-0.24595582601224197,-0.34580595023829064,0.07726732582469051,-0.17447292804421044,-0.20476120275686943,-0.17665359846841397,0.4218897828620365,0.1284254595367086,0.3934081018441329,0.28385758469973155,-0.379774806570164,0.31257715531983393,0.602298773164023,-0.19834552056510235,-0.5157685331827656,0.519760283540582,-0.03467566067666512,-0.1177776072258208,-0.1892467950936936,0.04963582174652197,0.413374732816774,-0.31052371489889197,-0.08726773078571815,-0.43439489093829947,0.4464877292775171,-0.34057040623371043,0.47172219538699905,0.17643954083681285,-0.09478036304098993,0.2259838020045125,-0.2832612116436268,0.38566135573390864,-0.39582053313785304,-0.391202378014466,-0.3233629458104275,-0.4797834953419666,-0.08767301261822276,-0.12071255242953954,-0.3265741695044295,-0.12941432030545644,0.13390643911958777,-0.05540647997195437,0.171353122567946,-0.014940655840825153,-0.23463311112701118,-0.010353691723034701,-0.25537489779136735,-0.21456990042839572],\"type\":\"scatter3d\"},{\"marker\":{\"size\":5},\"mode\":\"markers\",\"name\":\"cluster 2\",\"x\":[-0.059539362366713276,-0.0855012819512419,0.040860980506989934,-0.11422162668975913,0.008771107817296828,0.00214270506305049,-0.03608953126588582,0.06422471930096167,-0.014422641934767355,0.06406648052597232,0.04338347359440756,0.015943542788997084,0.08269465952806446,0.074655603146909,0.1793913854594611,0.18362655249271925,0.21479521353686473,0.0922920628676994,0.09866173610145189,0.20519213616179932,0.2200469098915131,0.10999352512779573,0.21313710977213696,0.17689892597549345,0.21148721953320385,0.1729894352545907,0.16744995644333102,0.277626187322883,0.36781213787110306,0.29272833669178694,0.2221304287253935,0.21230188171207526,0.28597015559598016,0.30552396867879983,0.22985578796297787,0.24911905872352103,0.2718484747060965,0.3069715722513964,0.24597990640369652,0.2992320139067839,0.3135243596800391,0.2934212418051226,0.3389925736564062,0.36010888769411936,0.3951106792984046,0.41734352600466706,0.6403316224504593,0.35942195814355704,0.4079595403390471,0.6073981536038348,0.4017284483563067,0.395886488529053,0.35031781986914934,0.4662606845493377,0.35479235166185324,0.5274091063046206,0.4532719329764092,0.4043069627294766,0.5305765407645764,0.502540382197498,0.5143639286747844,0.5127282737226438,0.5708113862830964,0.5826400536057805,0.47539663414906963,0.6166642738541782,0.5621943691758385,0.5692445983429676,0.5711590187053339,0.6053583447550909,0.6329652342882794,0.5715144914378835,0.6551596282171035,0.5932111970393937,0.6497315790724695,0.647925060281834,0.5531659660148736,0.4726737434637409,0.6197819512320751,0.6679696921704967,0.7812572550869532,0.5689664288254732,0.6799801017215894],\"y\":[-0.5032791033650404,-0.5780656136969645,-0.6341205537888587,-0.3365952511878487,-0.03794479680880317,-0.33537361442020486,-0.2604462158823484,-0.19911157051556883,0.009626824530945936,-0.04426998888195682,-0.2779832660904365,0.04743950484490593,-0.04635744662349823,-0.22023754489528644,-0.2733443392512837,-0.46320942422317046,-0.48750466333365816,-0.09070022506658555,-0.09859550655565869,-0.5704064842210408,-0.10417627827361789,-0.014724185506230095,-0.36707026575133006,-0.5065946162914942,-0.500049145083974,-0.4286200384509941,-0.3054246643331738,-0.5071709340527267,-0.2208161315771029,-0.5095393696666403,-0.017388845373443266,-0.27928566675860933,-0.18497535523673495,-0.366070932670438,-0.0026289872328070056,-0.3531951579384512,-0.21058721103398,-0.18159662826691503,-0.3999800780594828,-0.21313295729959916,-0.30268097430943686,-0.6730787056434644,0.21845074470996598,0.06278020909304115,-0.419714627448761,-0.2169838978262924,-0.14188901692014605,-0.39567536875762094,-0.038786790627790425,0.20518552292147788,-0.1607403605045363,-0.08187192187471339,-0.4008544080233292,-0.10852997482103442,-0.1388003346967687,0.10134195206191075,0.0009654147454781371,-0.34729723975048393,-0.13554880520538956,0.142477665613016,0.1470809168103379,-0.11749484138530597,0.25113865174557093,0.0841578121954298,-0.6124089527152731,-0.3121494919817741,0.0051008936329957726,0.03013885894299154,-0.3518639329649146,0.2415992323444057,0.013476562588923224,-0.008611810878575134,0.07516750329165486,-0.13970953145809112,0.18100935200519774,0.16629999330031411,0.062496188846025785,-0.6903532186579799,0.027631322662629767,0.20379060262816037,-0.28535642971722175,-0.028065908244492482,-0.4588206856264933],\"z\":[-0.6008834481704575,-0.26192723632412535,-0.31192297597284,0.2308825016528961,0.20532209868869764,0.3466275995212509,0.20180454989358396,0.4015705246829456,0.269989175400723,0.5580381451905356,-0.36838885652469194,0.38521676347849876,-0.05113744649199756,-0.20250897432063303,-0.15167542738958548,-0.4411698952501121,-0.11729656694171608,-0.35760299648659466,0.4286784312121737,-0.3882426724230795,0.052972557734874054,0.4969259973999262,0.2202328700408831,-0.1776208857566033,-0.41006089504628346,0.12272664733002508,0.046590822495142736,-0.5235249276332409,0.05789824890488481,-0.517089276399927,0.32722552015608175,0.2976120028973588,0.1290282388167009,-0.2635678768171314,0.1892119582462335,-0.024962936811937345,0.5803717425716638,0.21516772193069914,0.14557660336690853,0.41634890169892214,0.36740730387923204,-0.19273266207297102,0.5328163143740866,0.3872201077396093,0.21882594404769284,-0.33269642072303224,-0.3389829720694165,-0.42020025920237364,-0.3790789160483554,-0.26991269373324156,0.12694827314872528,-0.12312416915502358,-0.24515775325760947,0.009586457030928145,-0.24873660100949482,-0.08475153017842435,0.2030404851736532,0.39228914021497857,0.3289712601860889,0.25730875157229616,-0.011772078425631613,0.4780718486691834,0.11813191011021473,-0.00991440385745328,0.0002877851870049089,0.23406265083866085,-0.13808549111546675,0.21925857505540156,0.11710385104198348,0.5051833669945496,0.10828104996085351,0.6021101628942541,0.1906739043366144,-0.2651107375330653,-0.2712126707999351,0.2418580686949792,-0.09132538279793115,0.0837383002965097,0.1878662953399889,0.011465640153260192,-0.16651371488477482,0.08405674275090166,-0.45730401543374594],\"type\":\"scatter3d\"},{\"marker\":{\"size\":5},\"mode\":\"markers\",\"name\":\"cluster 3\",\"x\":[-0.866917000162486,-0.8404509680492943,-0.8588992908458324,-0.7766894204389433,-0.8587325858326126,-0.7963116095987489,-0.8010193616318587,-0.7823733492105843,-0.7534239017554999,-0.7199781226396379,-0.7289282724621159,-0.7688756931924285,-0.7073219029199392,-0.6734219478803177,-0.6762195413882478,-0.6330074746851965,-0.7142503136137759,-0.6508756098163491,-0.6637656233089179,-0.7206044407204414,-0.6174677214894229,-0.6745011378790966,-0.6046587539101852,-0.6382557109645254,-0.5716352612493458,-0.562068238477745,-0.6599392291319032,-0.49879316337493923,-0.5712715840480536,-0.5472362324741462,-0.4622512476143431,-0.53817869309023,-0.44057825372735765,-0.5492144513330348,-0.36838229113415927,-0.505403085312412,-0.4893313174349216,-0.49426827318578287,-0.517613957071449,-0.20120348544275632,-0.4801550342113974,-0.42661981473585825,-0.4424560951855778,-0.4363691301211862,-0.2689483750369483,-0.30597249114839853,-0.30577778598808647,-0.2293806140384719,-0.24104423779178755,-0.26408282737460287,-0.19082075793458766,-0.10917317668934723,-0.19003489771056117,-0.11894503870291749],\"y\":[-0.03164349481879572,-0.30723750990167614,-0.3620052051664223,-0.22231176080690634,0.2304275350810126,-0.37181635253482065,-0.3145859983683387,0.31096277917723736,-0.48082201238628614,0.3540466110284943,0.2848527034871885,0.30137571154090037,-0.447683898020125,-0.05830150832962149,0.06558116888749799,-0.31898668296846744,0.12735950771625484,-0.10559844252212551,-0.1741005047623705,-0.2644711081563354,-0.21963764345004888,0.06225859094673372,-0.3919297775841289,0.2754277880531823,-0.43922965769574346,-0.27271397377610257,-0.30215082739210497,-0.16402274295984617,-0.28288073909403755,-0.18448887619935994,0.19425849971860448,-0.2616352808801362,0.019693054397251143,-0.28122876608158476,-0.4741008402016476,0.40506562106517335,0.22738804689241854,-0.14040037117909035,-0.1939402207916458,-0.40228968665022413,0.07379860035488552,0.17913992633509324,-0.0831428398930909,0.3560296930064962,-0.2778450685455062,-0.33753671037689537,0.1463431384306308,-0.3027101275391364,-0.10111103954370734,-0.005961125474509771,-0.5507054524442972,-0.01749408572095227,-0.251621962210744,-0.08976655766254853],\"z\":[0.10747092312956205,-0.0814784140134995,0.19531910654227122,-0.37982795436037287,0.0942808605334775,0.14792765839211194,0.14858618858659675,-0.2668903695902018,0.2362981538130728,-0.053591418438493146,-0.16127203049652408,0.02792675558735588,-0.041411182364611415,-0.01449606912499896,0.2785628714043375,-0.10865102197946316,0.28966079215240015,-0.2939953800221941,-0.22679844438467747,0.33290734563390184,0.2464509652220255,-0.11431247436033222,-0.093823468160502,0.025094575323809487,0.14453436517334475,-0.22818745768874146,0.12742748652950217,-0.46775487182337455,0.2912249019669498,-0.317490853189687,-0.114061496298285,0.33140635867466867,0.17418341102964074,0.2712679790742237,0.12814922261461992,-0.019396261667761924,0.26474812204450904,0.15284146018834882,0.4910614151515733,-0.5906471509172502,0.3494363375264605,-0.0947473184036301,0.4342674031497817,0.1817956780486756,-0.41288120201167655,-0.034858459592631286,0.045448592117915125,-0.4730571783519826,-0.15541120584449872,0.19668235765717987,0.2725824259853337,0.5308355257704853,0.3042260324865795,-0.02580757955105134],\"type\":\"scatter3d\"}],                        {\"template\":{\"data\":{\"histogram2dcontour\":[{\"type\":\"histogram2dcontour\",\"colorbar\":{\"outlinewidth\":0,\"ticks\":\"\"},\"colorscale\":[[0.0,\"#0d0887\"],[0.1111111111111111,\"#46039f\"],[0.2222222222222222,\"#7201a8\"],[0.3333333333333333,\"#9c179e\"],[0.4444444444444444,\"#bd3786\"],[0.5555555555555556,\"#d8576b\"],[0.6666666666666666,\"#ed7953\"],[0.7777777777777778,\"#fb9f3a\"],[0.8888888888888888,\"#fdca26\"],[1.0,\"#f0f921\"]]}],\"choropleth\":[{\"type\":\"choropleth\",\"colorbar\":{\"outlinewidth\":0,\"ticks\":\"\"}}],\"histogram2d\":[{\"type\":\"histogram2d\",\"colorbar\":{\"outlinewidth\":0,\"ticks\":\"\"},\"colorscale\":[[0.0,\"#0d0887\"],[0.1111111111111111,\"#46039f\"],[0.2222222222222222,\"#7201a8\"],[0.3333333333333333,\"#9c179e\"],[0.4444444444444444,\"#bd3786\"],[0.5555555555555556,\"#d8576b\"],[0.6666666666666666,\"#ed7953\"],[0.7777777777777778,\"#fb9f3a\"],[0.8888888888888888,\"#fdca26\"],[1.0,\"#f0f921\"]]}],\"heatmap\":[{\"type\":\"heatmap\",\"colorbar\":{\"outlinewidth\":0,\"ticks\":\"\"},\"colorscale\":[[0.0,\"#0d0887\"],[0.1111111111111111,\"#46039f\"],[0.2222222222222222,\"#7201a8\"],[0.3333333333333333,\"#9c179e\"],[0.4444444444444444,\"#bd3786\"],[0.5555555555555556,\"#d8576b\"],[0.6666666666666666,\"#ed7953\"],[0.7777777777777778,\"#fb9f3a\"],[0.8888888888888888,\"#fdca26\"],[1.0,\"#f0f921\"]]}],\"heatmapgl\":[{\"type\":\"heatmapgl\",\"colorbar\":{\"outlinewidth\":0,\"ticks\":\"\"},\"colorscale\":[[0.0,\"#0d0887\"],[0.1111111111111111,\"#46039f\"],[0.2222222222222222,\"#7201a8\"],[0.3333333333333333,\"#9c179e\"],[0.4444444444444444,\"#bd3786\"],[0.5555555555555556,\"#d8576b\"],[0.6666666666666666,\"#ed7953\"],[0.7777777777777778,\"#fb9f3a\"],[0.8888888888888888,\"#fdca26\"],[1.0,\"#f0f921\"]]}],\"contourcarpet\":[{\"type\":\"contourcarpet\",\"colorbar\":{\"outlinewidth\":0,\"ticks\":\"\"}}],\"contour\":[{\"type\":\"contour\",\"colorbar\":{\"outlinewidth\":0,\"ticks\":\"\"},\"colorscale\":[[0.0,\"#0d0887\"],[0.1111111111111111,\"#46039f\"],[0.2222222222222222,\"#7201a8\"],[0.3333333333333333,\"#9c179e\"],[0.4444444444444444,\"#bd3786\"],[0.5555555555555556,\"#d8576b\"],[0.6666666666666666,\"#ed7953\"],[0.7777777777777778,\"#fb9f3a\"],[0.8888888888888888,\"#fdca26\"],[1.0,\"#f0f921\"]]}],\"surface\":[{\"type\":\"surface\",\"colorbar\":{\"outlinewidth\":0,\"ticks\":\"\"},\"colorscale\":[[0.0,\"#0d0887\"],[0.1111111111111111,\"#46039f\"],[0.2222222222222222,\"#7201a8\"],[0.3333333333333333,\"#9c179e\"],[0.4444444444444444,\"#bd3786\"],[0.5555555555555556,\"#d8576b\"],[0.6666666666666666,\"#ed7953\"],[0.7777777777777778,\"#fb9f3a\"],[0.8888888888888888,\"#fdca26\"],[1.0,\"#f0f921\"]]}],\"mesh3d\":[{\"type\":\"mesh3d\",\"colorbar\":{\"outlinewidth\":0,\"ticks\":\"\"}}],\"scatter\":[{\"fillpattern\":{\"fillmode\":\"overlay\",\"size\":10,\"solidity\":0.2},\"type\":\"scatter\"}],\"parcoords\":[{\"type\":\"parcoords\",\"line\":{\"colorbar\":{\"outlinewidth\":0,\"ticks\":\"\"}}}],\"scatterpolargl\":[{\"type\":\"scatterpolargl\",\"marker\":{\"colorbar\":{\"outlinewidth\":0,\"ticks\":\"\"}}}],\"bar\":[{\"error_x\":{\"color\":\"#2a3f5f\"},\"error_y\":{\"color\":\"#2a3f5f\"},\"marker\":{\"line\":{\"color\":\"#E5ECF6\",\"width\":0.5},\"pattern\":{\"fillmode\":\"overlay\",\"size\":10,\"solidity\":0.2}},\"type\":\"bar\"}],\"scattergeo\":[{\"type\":\"scattergeo\",\"marker\":{\"colorbar\":{\"outlinewidth\":0,\"ticks\":\"\"}}}],\"scatterpolar\":[{\"type\":\"scatterpolar\",\"marker\":{\"colorbar\":{\"outlinewidth\":0,\"ticks\":\"\"}}}],\"histogram\":[{\"marker\":{\"pattern\":{\"fillmode\":\"overlay\",\"size\":10,\"solidity\":0.2}},\"type\":\"histogram\"}],\"scattergl\":[{\"type\":\"scattergl\",\"marker\":{\"colorbar\":{\"outlinewidth\":0,\"ticks\":\"\"}}}],\"scatter3d\":[{\"type\":\"scatter3d\",\"line\":{\"colorbar\":{\"outlinewidth\":0,\"ticks\":\"\"}},\"marker\":{\"colorbar\":{\"outlinewidth\":0,\"ticks\":\"\"}}}],\"scattermapbox\":[{\"type\":\"scattermapbox\",\"marker\":{\"colorbar\":{\"outlinewidth\":0,\"ticks\":\"\"}}}],\"scatterternary\":[{\"type\":\"scatterternary\",\"marker\":{\"colorbar\":{\"outlinewidth\":0,\"ticks\":\"\"}}}],\"scattercarpet\":[{\"type\":\"scattercarpet\",\"marker\":{\"colorbar\":{\"outlinewidth\":0,\"ticks\":\"\"}}}],\"carpet\":[{\"aaxis\":{\"endlinecolor\":\"#2a3f5f\",\"gridcolor\":\"white\",\"linecolor\":\"white\",\"minorgridcolor\":\"white\",\"startlinecolor\":\"#2a3f5f\"},\"baxis\":{\"endlinecolor\":\"#2a3f5f\",\"gridcolor\":\"white\",\"linecolor\":\"white\",\"minorgridcolor\":\"white\",\"startlinecolor\":\"#2a3f5f\"},\"type\":\"carpet\"}],\"table\":[{\"cells\":{\"fill\":{\"color\":\"#EBF0F8\"},\"line\":{\"color\":\"white\"}},\"header\":{\"fill\":{\"color\":\"#C8D4E3\"},\"line\":{\"color\":\"white\"}},\"type\":\"table\"}],\"barpolar\":[{\"marker\":{\"line\":{\"color\":\"#E5ECF6\",\"width\":0.5},\"pattern\":{\"fillmode\":\"overlay\",\"size\":10,\"solidity\":0.2}},\"type\":\"barpolar\"}],\"pie\":[{\"automargin\":true,\"type\":\"pie\"}]},\"layout\":{\"autotypenumbers\":\"strict\",\"colorway\":[\"#636efa\",\"#EF553B\",\"#00cc96\",\"#ab63fa\",\"#FFA15A\",\"#19d3f3\",\"#FF6692\",\"#B6E880\",\"#FF97FF\",\"#FECB52\"],\"font\":{\"color\":\"#2a3f5f\"},\"hovermode\":\"closest\",\"hoverlabel\":{\"align\":\"left\"},\"paper_bgcolor\":\"white\",\"plot_bgcolor\":\"#E5ECF6\",\"polar\":{\"bgcolor\":\"#E5ECF6\",\"angularaxis\":{\"gridcolor\":\"white\",\"linecolor\":\"white\",\"ticks\":\"\"},\"radialaxis\":{\"gridcolor\":\"white\",\"linecolor\":\"white\",\"ticks\":\"\"}},\"ternary\":{\"bgcolor\":\"#E5ECF6\",\"aaxis\":{\"gridcolor\":\"white\",\"linecolor\":\"white\",\"ticks\":\"\"},\"baxis\":{\"gridcolor\":\"white\",\"linecolor\":\"white\",\"ticks\":\"\"},\"caxis\":{\"gridcolor\":\"white\",\"linecolor\":\"white\",\"ticks\":\"\"}},\"coloraxis\":{\"colorbar\":{\"outlinewidth\":0,\"ticks\":\"\"}},\"colorscale\":{\"sequential\":[[0.0,\"#0d0887\"],[0.1111111111111111,\"#46039f\"],[0.2222222222222222,\"#7201a8\"],[0.3333333333333333,\"#9c179e\"],[0.4444444444444444,\"#bd3786\"],[0.5555555555555556,\"#d8576b\"],[0.6666666666666666,\"#ed7953\"],[0.7777777777777778,\"#fb9f3a\"],[0.8888888888888888,\"#fdca26\"],[1.0,\"#f0f921\"]],\"sequentialminus\":[[0.0,\"#0d0887\"],[0.1111111111111111,\"#46039f\"],[0.2222222222222222,\"#7201a8\"],[0.3333333333333333,\"#9c179e\"],[0.4444444444444444,\"#bd3786\"],[0.5555555555555556,\"#d8576b\"],[0.6666666666666666,\"#ed7953\"],[0.7777777777777778,\"#fb9f3a\"],[0.8888888888888888,\"#fdca26\"],[1.0,\"#f0f921\"]],\"diverging\":[[0,\"#8e0152\"],[0.1,\"#c51b7d\"],[0.2,\"#de77ae\"],[0.3,\"#f1b6da\"],[0.4,\"#fde0ef\"],[0.5,\"#f7f7f7\"],[0.6,\"#e6f5d0\"],[0.7,\"#b8e186\"],[0.8,\"#7fbc41\"],[0.9,\"#4d9221\"],[1,\"#276419\"]]},\"xaxis\":{\"gridcolor\":\"white\",\"linecolor\":\"white\",\"ticks\":\"\",\"title\":{\"standoff\":15},\"zerolinecolor\":\"white\",\"automargin\":true,\"zerolinewidth\":2},\"yaxis\":{\"gridcolor\":\"white\",\"linecolor\":\"white\",\"ticks\":\"\",\"title\":{\"standoff\":15},\"zerolinecolor\":\"white\",\"automargin\":true,\"zerolinewidth\":2},\"scene\":{\"xaxis\":{\"backgroundcolor\":\"#E5ECF6\",\"gridcolor\":\"white\",\"linecolor\":\"white\",\"showbackground\":true,\"ticks\":\"\",\"zerolinecolor\":\"white\",\"gridwidth\":2},\"yaxis\":{\"backgroundcolor\":\"#E5ECF6\",\"gridcolor\":\"white\",\"linecolor\":\"white\",\"showbackground\":true,\"ticks\":\"\",\"zerolinecolor\":\"white\",\"gridwidth\":2},\"zaxis\":{\"backgroundcolor\":\"#E5ECF6\",\"gridcolor\":\"white\",\"linecolor\":\"white\",\"showbackground\":true,\"ticks\":\"\",\"zerolinecolor\":\"white\",\"gridwidth\":2}},\"shapedefaults\":{\"line\":{\"color\":\"#2a3f5f\"}},\"annotationdefaults\":{\"arrowcolor\":\"#2a3f5f\",\"arrowhead\":0,\"arrowwidth\":1},\"geo\":{\"bgcolor\":\"white\",\"landcolor\":\"#E5ECF6\",\"subunitcolor\":\"white\",\"showland\":true,\"showlakes\":true,\"lakecolor\":\"white\"},\"title\":{\"x\":0.05},\"mapbox\":{\"style\":\"light\"}}}},                        {\"responsive\": true}                    ).then(function(){\n",
              "                            \n",
              "var gd = document.getElementById('2d9efb4a-4bca-4d7f-b924-26c0d9a1c601');\n",
              "var x = new MutationObserver(function (mutations, observer) {{\n",
              "        var display = window.getComputedStyle(gd).display;\n",
              "        if (!display || display === 'none') {{\n",
              "            console.log([gd, 'removed!']);\n",
              "            Plotly.purge(gd);\n",
              "            observer.disconnect();\n",
              "        }}\n",
              "}});\n",
              "\n",
              "// Listen for the removal of the full notebook cells\n",
              "var notebookContainer = gd.closest('#notebook-container');\n",
              "if (notebookContainer) {{\n",
              "    x.observe(notebookContainer, {childList: true});\n",
              "}}\n",
              "\n",
              "// Listen for the clearing of the current output cell\n",
              "var outputEl = gd.closest('.output');\n",
              "if (outputEl) {{\n",
              "    x.observe(outputEl, {childList: true});\n",
              "}}\n",
              "\n",
              "                        })                };                            </script>        </div>\n",
              "</body>\n",
              "</html>"
            ]
          },
          "metadata": {}
        }
      ]
    },
    {
      "cell_type": "markdown",
      "source": [
        "# 5. For 2D"
      ],
      "metadata": {
        "id": "Zjwi13GN1bBL"
      }
    },
    {
      "cell_type": "markdown",
      "source": [
        "using m1 of pca"
      ],
      "metadata": {
        "id": "4v_wMa1wC_kQ"
      }
    },
    {
      "cell_type": "code",
      "source": [
        "# as this n_components decreses accurassy also decreases\n",
        "df2d = pca(df,2)\n",
        "\n",
        "# SHAPE\n",
        "\n",
        "print(f'SHAPE for 2D \\n{df2d.shape}\\n')\n",
        "\n",
        "# KMEAN\n",
        "\n",
        "initial2d = time.time()\n",
        "\n",
        "km = KMeans(new_clusters)\n",
        "predicted2d = km.fit_predict(df2d)\n",
        "\n",
        "final2d = time.time()\n",
        "\n",
        "# TIME\n",
        "\n",
        "print(f'TIME REQUIRED for 2D \\n{final2d - initial2d}')"
      ],
      "metadata": {
        "colab": {
          "base_uri": "https://localhost:8080/"
        },
        "id": "ZzHr4S-gzKpC",
        "outputId": "6b6c151c-a2ef-46c6-f51f-bb92bac03b73"
      },
      "execution_count": 106,
      "outputs": [
        {
          "output_type": "stream",
          "name": "stdout",
          "text": [
            "SHAPE for 2D \n",
            "(200, 2)\n",
            "\n",
            "TIME REQUIRED for 2D \n",
            "0.033339500427246094\n"
          ]
        },
        {
          "output_type": "stream",
          "name": "stderr",
          "text": [
            "/usr/local/lib/python3.9/dist-packages/sklearn/cluster/_kmeans.py:870: FutureWarning:\n",
            "\n",
            "The default value of `n_init` will change from 10 to 'auto' in 1.4. Set the value of `n_init` explicitly to suppress the warning\n",
            "\n"
          ]
        }
      ]
    },
    {
      "cell_type": "code",
      "source": [
        "# PLOT\n",
        "\n",
        "listx2 = df2d.values.tolist()\n",
        "\n",
        "count=0\n",
        "for i in predicted2d:\n",
        "  listx2[count].append(i)\n",
        "  count = count +1 \n",
        "\n",
        "lis1=[]\n",
        "lis2=[]\n",
        "lis3=[]\n",
        "j=0\n",
        "i=0\n",
        "\n",
        "for i in listx2:\n",
        "  if i[2]==0:\n",
        "    lis1.append(listx2[j])\n",
        "  elif i[2]==1:\n",
        "    lis2.append(listx2[j])\n",
        "  elif i[2]==2:\n",
        "    lis3.append(listx2[j])\n",
        "  j=j+1\n",
        "\n",
        "arr1 = np.array(lis1)\n",
        "arr2 = np.array(lis2)\n",
        "arr3 = np.array(lis3)\n",
        "\n",
        "plt.scatter(arr1[:,0],arr1[:,1],color='blue')\n",
        "plt.scatter(arr2[:,0],arr2[:,1],color='red')\n",
        "plt.scatter(arr3[:,0],arr3[:,1],color='green')"
      ],
      "metadata": {
        "colab": {
          "base_uri": "https://localhost:8080/",
          "height": 467
        },
        "id": "egZ_Yge5z0Cu",
        "outputId": "9667f5a7-2f21-428a-e4f5-8b880d62174f"
      },
      "execution_count": 107,
      "outputs": [
        {
          "output_type": "execute_result",
          "data": {
            "text/plain": [
              "<matplotlib.collections.PathCollection at 0x7ff345eae2b0>"
            ]
          },
          "metadata": {},
          "execution_count": 107
        },
        {
          "output_type": "display_data",
          "data": {
            "text/plain": [
              "<Figure size 640x480 with 1 Axes>"
            ],
            "image/png": "[encoded data removed]"
          },
          "metadata": {}
        }
      ]
    },
    {
      "cell_type": "markdown",
      "source": [
        "using m2 of pca"
      ],
      "metadata": {
        "id": "pZcqCcLNDQ1e"
      }
    },
    {
      "cell_type": "code",
      "source": [
        " # as this n_components decreses accurassy also decreases\n",
        "dfm22d = pcam2(df,2)\n",
        "\n",
        "# SHAPE\n",
        "\n",
        "print(f'SHAPE for 2D \\n{dfm22d.shape}\\n')\n",
        "\n",
        "# KMEAN\n",
        "\n",
        "initial2d = time.time()\n",
        "\n",
        "km = KMeans(new_clusters)\n",
        "predicted2d = km.fit_predict(dfm22d)\n",
        "\n",
        "final2d = time.time()\n",
        "\n",
        "# TIME\n",
        "\n",
        "print(f'TIME REQUIRED for 2D \\n{final2d - initial2d}')"
      ],
      "metadata": {
        "colab": {
          "base_uri": "https://localhost:8080/"
        },
        "id": "Ptfl4TZADQGs",
        "outputId": "e1dcef92-b989-4dda-bb7f-744e36f1c5e4"
      },
      "execution_count": 108,
      "outputs": [
        {
          "output_type": "stream",
          "name": "stdout",
          "text": [
            "SHAPE for 2D \n",
            "(200, 2)\n",
            "\n",
            "TIME REQUIRED for 2D \n",
            "0.020876407623291016\n"
          ]
        },
        {
          "output_type": "stream",
          "name": "stderr",
          "text": [
            "/usr/local/lib/python3.9/dist-packages/sklearn/cluster/_kmeans.py:870: FutureWarning:\n",
            "\n",
            "The default value of `n_init` will change from 10 to 'auto' in 1.4. Set the value of `n_init` explicitly to suppress the warning\n",
            "\n"
          ]
        }
      ]
    },
    {
      "cell_type": "code",
      "source": [
        "# PLOT\n",
        "\n",
        "listx2 = dfm22d.tolist() \n",
        "\n",
        "count=0\n",
        "for i in predicted2d:\n",
        "  listx2[count].append(i)\n",
        "  count = count +1 \n",
        "\n",
        "lis1=[]\n",
        "lis2=[]\n",
        "lis3=[]\n",
        "j=0\n",
        "i=0\n",
        "\n",
        "for i in listx2:\n",
        "  if i[2]==0:\n",
        "    lis1.append(listx2[j])\n",
        "  elif i[2]==1:\n",
        "    lis2.append(listx2[j])\n",
        "  elif i[2]==2:\n",
        "    lis3.append(listx2[j])\n",
        "  j=j+1\n",
        "\n",
        "arr1 = np.array(lis1)\n",
        "arr2 = np.array(lis2)\n",
        "arr3 = np.array(lis3)\n",
        "\n",
        "plt.scatter(arr1[:,0],arr1[:,1],color='blue')\n",
        "plt.scatter(arr2[:,0],arr2[:,1],color='red')\n",
        "plt.scatter(arr3[:,0],arr3[:,1],color='green')"
      ],
      "metadata": {
        "colab": {
          "base_uri": "https://localhost:8080/",
          "height": 467
        },
        "id": "PfUZtmalDUaZ",
        "outputId": "55a2e3dd-e9b8-4978-a627-31a1e3fd23a8"
      },
      "execution_count": 109,
      "outputs": [
        {
          "output_type": "execute_result",
          "data": {
            "text/plain": [
              "<matplotlib.collections.PathCollection at 0x7ff345e6fac0>"
            ]
          },
          "metadata": {},
          "execution_count": 109
        },
        {
          "output_type": "display_data",
          "data": {
            "text/plain": [
              "<Figure size 640x480 with 1 Axes>"
            ],
            "image/png": "[encoded data removed]"
          },
          "metadata": {}
        }
      ]
    },
    {
      "cell_type": "markdown",
      "source": [
        "# TIME REQUERED BY ALL"
      ],
      "metadata": {
        "id": "Vd2Rh6wI4i_7"
      }
    },
    {
      "cell_type": "code",
      "source": [
        "print(f'TIME REQUIRED for orignal dataset\\n{final - initial}\\n\\nTIME REQUIRED for reduced dataset\\n{final1 - initial1}\\n\\nTIME REQUIRED for 3D\\n{final3d - initial3d}\\n\\nTIME REQUIRED for 2D\\n{final2d - initial2d}')"
      ],
      "metadata": {
        "id": "VKBcIoQ04hTo",
        "colab": {
          "base_uri": "https://localhost:8080/"
        },
        "outputId": "4aef40a4-216b-4238-9a91-3d43298c4621"
      },
      "execution_count": 110,
      "outputs": [
        {
          "output_type": "stream",
          "name": "stdout",
          "text": [
            "TIME REQUIRED for orignal dataset\n",
            "0.03803110122680664\n",
            "\n",
            "TIME REQUIRED for reduced dataset\n",
            "0.029003143310546875\n",
            "\n",
            "TIME REQUIRED for 3D\n",
            "0.021242141723632812\n",
            "\n",
            "TIME REQUIRED for 2D\n",
            "0.020876407623291016\n"
          ]
        }
      ]
    }
  ]
}