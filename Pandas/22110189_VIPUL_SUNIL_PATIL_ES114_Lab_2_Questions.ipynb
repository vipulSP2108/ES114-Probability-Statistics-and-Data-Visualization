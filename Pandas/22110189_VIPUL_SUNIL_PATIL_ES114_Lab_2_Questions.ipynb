{
  "cells": [
    {
      "cell_type": "markdown",
      "metadata": {
        "id": "DVJZGhYJpCKL"
      },
      "source": [
        "**Question 1. Create a 3x3 matrix with values ranging from 0 to 8 using numpy.**"
      ]
    },
    {
      "cell_type": "code",
      "execution_count": null,
      "metadata": {
        "colab": {
          "base_uri": "https://localhost:8080/"
        },
        "id": "OeAyR5Llo6AB",
        "outputId": "34627ca4-6faa-4d1d-9953-dcbaa674e3ab"
      },
      "outputs": [
        {
          "name": "stdout",
          "output_type": "stream",
          "text": [
            "[[0 1 2]\n",
            " [3 4 5]\n",
            " [6 7 8]]\n"
          ]
        }
      ],
      "source": [
        "from numpy.lib.shape_base import array_split\n",
        "import numpy as np\n",
        "a=np.arange(0,9).reshape(3,3)\n",
        "print(a)\n",
        "# a=[0,1,2,3,4,5,6,7,8]\n",
        "# arr=np.array(a).reshape(3,3)\n",
        "# print(arr)"
      ]
    },
    {
      "cell_type": "markdown",
      "metadata": {
        "id": "FKfVe8FzpMgW"
      },
      "source": [
        "**Question 2. Create a random vector of size 30 and find the mean, median and mode value using numpy.**"
      ]
    },
    {
      "cell_type": "code",
      "execution_count": null,
      "metadata": {
        "colab": {
          "base_uri": "https://localhost:8080/"
        },
        "id": "AcjUMnOipTbe",
        "outputId": "87810ba3-7314-480d-e488-96200b14763a"
      },
      "outputs": [
        {
          "name": "stdout",
          "output_type": "stream",
          "text": [
            "your vector [2 9 4 2 9 3 9 6 2 8 4 2 2 7 3 4 8 3 2 5 6 8 5 7 8 6 0 8 2 0]\n",
            "mean: 4.8\n",
            "median: 4.5\n",
            "mode: 9\n"
          ]
        }
      ],
      "source": [
        "import numpy as np\n",
        "a=np.random.randint(10,size=30)\n",
        "#a=np.random.random(30)\n",
        "print('your vector',a)\n",
        "print('mean:',np.mean(a))\n",
        "print('median:',np.median(a))\n",
        "print('mode:',np.max(a))"
      ]
    },
    {
      "cell_type": "markdown",
      "metadata": {
        "id": "sQTL3ed7pYRs"
      },
      "source": [
        "\n",
        "**Question 3.Create a 2d array with 0 on the border and 1 inside.**\n",
        " Ex- [[0,0,0,0],[0,1,1,0],[0,1,1,0],[0,0,0,0]]"
      ]
    },
    {
      "cell_type": "code",
      "execution_count": null,
      "metadata": {
        "colab": {
          "base_uri": "https://localhost:8080/"
        },
        "id": "Qhg91OQspVK2",
        "outputId": "944eae42-53f2-41d6-8fed-7b242bf73eba"
      },
      "outputs": [
        {
          "name": "stdout",
          "output_type": "stream",
          "text": [
            "[[0 0 0 0]\n",
            " [0 1 1 0]\n",
            " [0 1 1 0]\n",
            " [0 0 0 0]]\n"
          ]
        }
      ],
      "source": [
        "import numpy as np\n",
        "# listx=[0,0,0,0,0,1,1,0,0,1,1,0,0,0,0,0]\n",
        "# matx=np.array(listx).reshape(4,4)\n",
        "# print(matx)\n",
        "zero=np.zeros((4,4))\n",
        "zero[1:-1,1:-1]=1\n",
        "print(zero.astype('int64'))"
      ]
    },
    {
      "cell_type": "markdown",
      "metadata": {
        "id": "aCLjqFyxpo5_"
      },
      "source": [
        "**Question 4. Create random vector of size 10 and replace the maximum value by 0.**\n",
        "Ex:- [1,2,3,4,5] max value in this array is 5 then result would be [1,2,3,4,0]"
      ]
    },
    {
      "cell_type": "code",
      "execution_count": null,
      "metadata": {
        "id": "EIIuKcl3pofu"
      },
      "outputs": [],
      "source": [
        "import numpy as np\n",
        "a=np.random.randint(10,size=10)\n",
        "#a=np.random.random(10)\n",
        "print('old\\n',a)\n",
        "z=max(a)\n",
        "a[a==z]=0\n",
        "print('new\\n',a)"
      ]
    },
    {
      "cell_type": "markdown",
      "metadata": {
        "id": "rTzpxtl-pz79"
      },
      "source": [
        "**Question 5. Write a program to randomly place -1 in a 2D array p times. Here p means number of time element randomly placed**\n",
        "\n",
        "Ex- if p=3 then in result array ,3 diffrent place should replace with -1 element."
      ]
    },
    {
      "cell_type": "code",
      "execution_count": null,
      "metadata": {
        "colab": {
          "background_save": true,
          "base_uri": "https://localhost:8080/"
        },
        "id": "lbVay_XgpxAl",
        "outputId": "1dd53ea9-c80a-49b4-c72e-26871af3d20d"
      },
      "outputs": [
        {
          "name": "stdout",
          "output_type": "stream",
          "text": [
            "main\n",
            " [[4 2 7 8]\n",
            " [6 0 5 3]\n",
            " [3 3 8 0]]\n"
          ]
        }
      ],
      "source": [
        "import numpy as np\n",
        "a=3\n",
        "b=3\n",
        "matx=np.random.randint(9,size=(a,b))\n",
        "print(f'main\\n {matx}')\n",
        "p=int(input('p='))\n",
        "\n",
        "# M1\n",
        "# a=np.random.randint(a,size=p)\n",
        "# b=np.random.randint(b,size=p)\n",
        "# count=0\n",
        "# while count<p:\n",
        "#   if matx[(a[count],b[count])]==-1:\n",
        "#     continue\n",
        "#   else:\n",
        "#     matx[(a[count],b[count])]=-1\n",
        "#     count=count+1\n",
        "# print(f'after replacing\\n {matx}')\n",
        "\n",
        "# M2\n",
        "i=0\n",
        "while i<p:\n",
        "  a=np.random.choice(a,size=1)\n",
        "  b=np.random.choice(b,size=1)\n",
        "  a1=a[0]\n",
        "  b1=b[0]\n",
        "  if matx[a1,b1]==-1:\n",
        "    continue\n",
        "  else:\n",
        "    matx[a1,b1]=-1\n",
        "    i=i+1\n",
        "print(matx)\n",
        "\n",
        "# M3\n",
        "# listx1=[]\n",
        "# for i in range(a):\n",
        "#   for ii in range(b):\n",
        "#     listx1.append([i,ii])\n",
        "# listx2=[]\n",
        "# for i in range(len(listx1)):\n",
        "#   listx2.append(i)\n",
        "# listx=list(np.random.choice(listx2,size=p,replace=False))\n",
        "# for i in listx:\n",
        "#   matx[tuple(listx1[i])]=-1\n",
        "# print(f'after replacing\\n {matx}')"
      ]
    },
    {
      "cell_type": "markdown",
      "metadata": {
        "id": "qWsYME0LKmxA"
      },
      "source": [
        "**Question 6. Create a 7*7 matrix with values 1,2,3,4,5,6 just below the diagonal**\n",
        "\n",
        "Example:-1,2,3,4,5,6 should be below principal diagonal such as [[0 0 0 0 0 0 0] [1 0 0 0 0 0 0] [0 2 0 0 0 0 0] [0 0 3 0 0 0 0] [0 0 0 4 0 0 0] [0 0 0 0 5 0 0] [0 0 0 0 0 6 0]] "
      ]
    },
    {
      "cell_type": "code",
      "execution_count": null,
      "metadata": {
        "colab": {
          "base_uri": "https://localhost:8080/"
        },
        "id": "HfbkHA3ELxGf",
        "outputId": "7c4a4537-ab3c-4b88-8007-ce19876836bf"
      },
      "outputs": [
        {
          "name": "stdout",
          "output_type": "stream",
          "text": [
            "[[0 0 0 0 0 0 0]\n",
            " [0 1 0 0 0 0 0]\n",
            " [0 0 2 0 0 0 0]\n",
            " [0 0 0 3 0 0 0]\n",
            " [0 0 0 0 4 0 0]\n",
            " [0 0 0 0 0 5 0]\n",
            " [0 0 0 0 0 0 6]]\n"
          ]
        }
      ],
      "source": [
        "import numpy as np\n",
        "matx=np.zeros((7,7))\n",
        "\n",
        "for i in range(7):\n",
        " matx[i,i]=i\n",
        "print(matx.astype('int64'))"
      ]
    },
    {
      "cell_type": "markdown",
      "metadata": {
        "id": "Vtu7OW3RLyF1"
      },
      "source": [
        "**Question 7.create an array of interger of size 5*3. values in the array should be between 0 to 20. print subarray of array containing element (0,0),(0,1),(1,0),(1,1).**\n",
        "Example:- if random generated array is [[1 2 3],[4 5 6],[7 8 9],[10 11 12],[13 14 15]] then program should print [[1 2],[4 5]]"
      ]
    },
    {
      "cell_type": "code",
      "execution_count": null,
      "metadata": {
        "colab": {
          "base_uri": "https://localhost:8080/"
        },
        "id": "Kqmymc2IO7KU",
        "outputId": "c23c367d-edf8-4044-d4cc-362c79716894"
      },
      "outputs": [
        {
          "name": "stdout",
          "output_type": "stream",
          "text": [
            "main\n",
            " [[ 3 17  6]\n",
            " [ 0 17 10]\n",
            " [ 0  9  0]\n",
            " [ 6 19  1]\n",
            " [ 6  0  9]]\n",
            "[[ 3 17]\n",
            " [ 0 17]]\n"
          ]
        }
      ],
      "source": [
        "import numpy as np\n",
        "a=np.random.randint(20,size=5*3).reshape(5,3)\n",
        "#print('your matrix is\\n',a)\n",
        "#print('solution for your matrix is')\n",
        "print('main\\n',a)\n",
        "print(a[0:2,0:2])"
      ]
    },
    {
      "cell_type": "markdown",
      "metadata": {
        "id": "PztIFLGjO7pN"
      },
      "source": [
        "**Question 8. Create an 1-D array of size=8. Split array into three array of size 3,2,3 respectively.**\n",
        "suppose 1-D array is [0 1 2 3 4 5 6 7] then print [0 1 2] [3 4] [5 6 7]"
      ]
    },
    {
      "cell_type": "code",
      "execution_count": null,
      "metadata": {
        "colab": {
          "base_uri": "https://localhost:8080/"
        },
        "id": "hjYkgYzfQnds",
        "outputId": "7f335649-cbe6-4668-b17e-20bac73df600"
      },
      "outputs": [
        {
          "name": "stdout",
          "output_type": "stream",
          "text": [
            "[8 7 7]\n",
            "[4 8]\n",
            "[5 9 2]\n"
          ]
        }
      ],
      "source": [
        "import numpy as np\n",
        "a=np.random.randint(10,size=8)\n",
        "# print('your array is',a)\n",
        "print(a[0:3])\n",
        "print(a[3:5])\n",
        "print(a[5:8])"
      ]
    },
    {
      "cell_type": "markdown",
      "metadata": {
        "id": "-0UBbdBRQoTP"
      },
      "source": [
        "**Question 9.Create a checkerboard 8x8 matrix using the tile function**\n",
        "Example:- [[0 1 0 1 0 1 0 1] [1 0 1 0 1 0 1 0] [0 1 0 1 0 1 0 1] [1 0 1 0 1 0 1 0] [0 1 0 1 0 1 0 1] [1 0 1 0 1 0 1 0] [0 1 0 1 0 1 0 1] [1 0 1 0 1 0 1 0]]"
      ]
    },
    {
      "cell_type": "code",
      "execution_count": null,
      "metadata": {
        "colab": {
          "base_uri": "https://localhost:8080/"
        },
        "id": "zIle5ZsnRVO1",
        "outputId": "54922810-9959-4b7f-a62a-f97c7652faf6"
      },
      "outputs": [
        {
          "name": "stdout",
          "output_type": "stream",
          "text": [
            "[[0 1 0 1 0 1 0 1]\n",
            " [1 0 1 0 1 0 1 0]\n",
            " [0 1 0 1 0 1 0 1]\n",
            " [1 0 1 0 1 0 1 0]\n",
            " [0 1 0 1 0 1 0 1]\n",
            " [1 0 1 0 1 0 1 0]\n",
            " [0 1 0 1 0 1 0 1]\n",
            " [1 0 1 0 1 0 1 0]]\n"
          ]
        }
      ],
      "source": [
        "import numpy as np\n",
        "a=np.array([[0,1],\n",
        "           [1,0]])\n",
        "b=np.tile(a,(4,4))\n",
        "print(b)\n",
        "\n",
        "# a=np.array([0,1,0,1,0,1,0,1])\n",
        "# b=np.tile(a,9)\n",
        "# i=0\n",
        "# while i in range(len(b)-9):\n",
        "#   print(b[i:i+9])\n",
        "#   i=i+9"
      ]
    },
    {
      "cell_type": "markdown",
      "metadata": {
        "id": "Z2eEG8i4RWWd"
      },
      "source": [
        "**Question 10. Create a matrix of ones of size(3*1) and a vector of size 3 . add created vector to every row of matrix.**\n",
        "Hint:- broadcasting concept in numpy."
      ]
    },
    {
      "cell_type": "code",
      "execution_count": null,
      "metadata": {
        "colab": {
          "base_uri": "https://localhost:8080/"
        },
        "id": "9kT4CYX_Uusw",
        "outputId": "fb427a6b-809c-415d-88e5-b63e3693ed0c"
      },
      "outputs": [
        {
          "name": "stdout",
          "output_type": "stream",
          "text": [
            "another vector[0 6 9] \n",
            "and after adding vector to every row \n",
            "[[ 1  7 10]\n",
            " [ 1  7 10]\n",
            " [ 1  7 10]]\n"
          ]
        }
      ],
      "source": [
        "import numpy as np\n",
        "a=np.ones((3,1)).astype('int64')\n",
        "b=np.random.randint(10,size=3)\n",
        "print(f'another vector{b} \\nand after adding vector to every row \\n{a+b}')"
      ]
    },
    {
      "cell_type": "markdown",
      "metadata": {
        "id": "GYxtQEHeCBnv"
      },
      "source": [
        "**Question 11. Create a list. Sort it with and without using numpy. Calculate time taken by both.**"
      ]
    },
    {
      "cell_type": "code",
      "execution_count": null,
      "metadata": {
        "colab": {
          "base_uri": "https://localhost:8080/"
        },
        "id": "g0NKhJShCLF9",
        "outputId": "8d58fd34-e35a-4e54-b511-c9329530b1c7"
      },
      "outputs": [
        {
          "name": "stdout",
          "output_type": "stream",
          "text": [
            "without numpy\n",
            " [1, 1, 2, 3, 4, 5, 5, 7, 8, 10] 6.866455078125e-05\n",
            "with numpy\n",
            " [ 1  1  2  3  4  5  5  7  8 10] 0.00012135505676269531\n"
          ]
        }
      ],
      "source": [
        "import time\n",
        "a=[4,2,5,1,7,3,8,1,10,5]\n",
        "b=np.array(a)\n",
        "\n",
        "start1=time.time()\n",
        "a.sort()\n",
        "end1=time.time()\n",
        "\n",
        "import numpy as np\n",
        "start2=time.time()\n",
        "b=np.sort(b)\n",
        "end2=time.time()\n",
        "\n",
        "print('without numpy\\n',a,end1-start1)\n",
        "print('with numpy\\n',b,end2-start2)"
      ]
    },
    {
      "cell_type": "markdown",
      "metadata": {
        "id": "f2FX8pWRBTJo"
      },
      "source": [
        "**Question 12. Create two matrices. Multipy two maritces with and without using numpy. Calculate time taken by both.**"
      ]
    },
    {
      "cell_type": "code",
      "execution_count": null,
      "metadata": {
        "id": "Hr89Lz0oB33r"
      },
      "outputs": [],
      "source": [
        "import time as t\n",
        "\n",
        "mat1=[1,2,3,4,5]\n",
        "mat2=[1,2,3,4,5]\n",
        "matx1=np.array(mat1)\n",
        "matx2=np.array(mat2)\n",
        "start1=t.time()\n",
        "a=[]\n",
        "count=0\n",
        "while count<len(mat1):\n",
        "  a.append(mat1[count]*mat2[count])\n",
        "  count=count+1\n",
        "end1=t.time()\n",
        "\n",
        "import numpy as np\n",
        "start2=t.time()\n",
        "# b=np.matmul(matx1,matx2)\n",
        "b=matx1*matx2\n",
        "end2=t.time()\n",
        "\n",
        "print('without numpy\\n',a,end1-start1)\n",
        "print('with numpy\\n',b,end2-start2)"
      ]
    },
    {
      "cell_type": "markdown",
      "metadata": {
        "id": "UkZ51Vo8B4nj"
      },
      "source": [
        "**Question 13. Create a matrix. Find transpose, determinant and inverse(if possible) of the matrix.**"
      ]
    },
    {
      "cell_type": "code",
      "execution_count": null,
      "metadata": {
        "colab": {
          "base_uri": "https://localhost:8080/"
        },
        "id": "kXdG05BzEOy3",
        "outputId": "61d92299-4b36-4eb8-a912-aeb82a3132dd"
      },
      "outputs": [
        {
          "name": "stdout",
          "output_type": "stream",
          "text": [
            "your matrix is \n",
            "[[0 5 6]\n",
            " [5 8 5]\n",
            " [5 5 4]]\n",
            "\n",
            "transpose\n",
            " [[0 5 5]\n",
            " [5 8 5]\n",
            " [6 5 4]]\n",
            "\n",
            "determinant\n",
            " -64.99999999999999\n",
            "\n",
            "inverse\n",
            " [[-0.10769231 -0.15384615  0.35384615]\n",
            " [-0.07692308  0.46153846 -0.46153846]\n",
            " [ 0.23076923 -0.38461538  0.38461538]]\n"
          ]
        }
      ],
      "source": [
        "import numpy as np\n",
        "\n",
        "matx=np.random.randint(10,size=9).reshape(3,3)\n",
        "print(f'your matrix is \\n{matx}')\n",
        "\n",
        "print('\\ntranspose\\n',matx.transpose())\n",
        "print('\\ndeterminant\\n',np.linalg.det(matx))\n",
        "print('\\ninverse\\n',np.linalg.inv(matx))"
      ]
    },
    {
      "cell_type": "markdown",
      "metadata": {
        "id": "t-owBQr6EWZC"
      },
      "source": [
        "**Question 14. Create two matrix and check if they are equal.**"
      ]
    },
    {
      "cell_type": "code",
      "execution_count": null,
      "metadata": {
        "colab": {
          "base_uri": "https://localhost:8080/"
        },
        "id": "AzFZ0hISEXIL",
        "outputId": "f3cd30bb-60bd-42bb-e720-551db079575f"
      },
      "outputs": [
        {
          "name": "stdout",
          "output_type": "stream",
          "text": [
            "matrix1\n",
            " [[7 0 2]\n",
            " [2 0 0]\n",
            " [3 7 4]] \n",
            "and matrix2\n",
            " [[3 9 6]\n",
            " [0 6 9]\n",
            " [0 6 0]]\n",
            "False\n"
          ]
        }
      ],
      "source": [
        "import numpy as np\n",
        "\n",
        "arr1=np.random.randint(10,size=9).reshape(3,3)\n",
        "arr2=np.random.randint(10,size=9).reshape(3,3)\n",
        "print(f'matrix1\\n {arr1} \\nand matrix2\\n {arr2}')\n",
        "# # for inputing our values\n",
        "# arr1=np.array(list(map(int,input().split(' ')))).reshape(3,3)\n",
        "# arr2=np.array(list(map(int,input().split(' ')))).reshape(3,3)\n",
        "i=0\n",
        "ii=0\n",
        "count=0\n",
        "while i<3:\n",
        "  ii=0\n",
        "  while ii<3:\n",
        "    a=arr1[i,ii]==arr2[i,ii]\n",
        "    if a==True:\n",
        "      count=count+1\n",
        "    ii=ii+1\n",
        "  i=i+1\n",
        "if count==9:\n",
        "  print('True')\n",
        "else:\n",
        "  print('False')"
      ]
    },
    {
      "cell_type": "markdown",
      "metadata": {
        "id": "Lckq4WYaKnpE"
      },
      "source": [
        "**Question 15. Show example of reshape and resize on numpy array. Explain difference if any.**"
      ]
    },
    {
      "cell_type": "code",
      "execution_count": null,
      "metadata": {
        "colab": {
          "base_uri": "https://localhost:8080/"
        },
        "id": "I0rYQMbuMam_",
        "outputId": "fc08b223-1e97-4d63-e74a-98e190dd44a0"
      },
      "outputs": [
        {
          "name": "stdout",
          "output_type": "stream",
          "text": [
            "1\n",
            "reshape is perticular it only shape and so cannot take more or less inputs\n",
            "on the other hand resize can accept all inputs it will remove(last eliment) or\n",
            "add (first eliment) accordingly;\n",
            "\n",
            "For example\n",
            "now both will print the respective 3*3 matrix of size 9\n",
            "for resize  3*3 matrix of size 9\n",
            "[[5 1 7]\n",
            " [3 0 4]\n",
            " [2 3 7]]\n",
            " for reshape  3*3 matrix of size 9\n",
            "[[1 6 1]\n",
            " [7 9 2]\n",
            " [7 3 3]]\n",
            "\n",
            "now both will print the respective 3*3 matrix of size 10\n",
            "for resize 3*3 matrix of size 10\n",
            "[[5 8 5]\n",
            " [6 7 3]\n",
            " [5 8 3]]\n",
            "for reshape 3*3 matrix of size 10\n",
            "cannot reshape array of size 10 into shape (3,3)\n",
            "\n",
            "2\n",
            "secoundly, we need to define array which we need to resize and then shape or size\n",
            "and in reshape we have to write(.reshape) at the end of array that we are sorting\n",
            "which means we need to find the matrix and then reshape but\n",
            "in resize we can resize we only need name(variable) that we have asigned \n"
          ]
        }
      ],
      "source": [
        "\n",
        "import numpy as np\n",
        "\n",
        "print('1\\nreshape is perticular it only shape and so cannot take more or less inputs')\n",
        "print('on the other hand resize can accept all inputs it will remove(last eliment) or')\n",
        "print('add (first eliment) accordingly;')\n",
        "\n",
        "print('\\nFor example')\n",
        "print('now both will print the respective 3*3 matrix of size 9')\n",
        "a=np.random.randint(10,size=9)\n",
        "a=np.resize(a,(3,3))\n",
        "b=np.random.randint(10,size=9).reshape(3,3)\n",
        "print(f'for resize  3*3 matrix of size 9\\n{a}\\n for reshape  3*3 matrix of size 9\\n{b}')\n",
        "\n",
        "print('\\nnow both will print the respective 3*3 matrix of size 10')\n",
        "a=np.random.randint(10,size=10)\n",
        "a=np.resize(a,(3,3))\n",
        "print(f'for resize 3*3 matrix of size 10\\n{a}')\n",
        "try:\n",
        "  b=np.random.randint(10,size=10).reshape(3,3)\n",
        "  print(f'for reshape 3*3 matrix of size 10\\n{b}')\n",
        "except Exception as e:\n",
        "  print(f'for reshape 3*3 matrix of size 10\\n{e}')\n",
        "\n",
        "print('\\n2\\nsecoundly, we need to define array which we need to resize and then shape or size')\n",
        "print('and in reshape we have to write(.reshape) at the end of array that we are sorting')\n",
        "print('which means we need to find the matrix and then reshape but')\n",
        "print('in resize we can resize we only need name(variable) that we have asigned ')"
      ]
    },
    {
      "cell_type": "markdown",
      "metadata": {
        "id": "WP6KfqKHP58i"
      },
      "source": [
        "**Question 16. Create matrix and print eigen values and eigen vector of it.**"
      ]
    },
    {
      "cell_type": "code",
      "execution_count": null,
      "metadata": {
        "colab": {
          "base_uri": "https://localhost:8080/"
        },
        "id": "3S32UCLmP8Po",
        "outputId": "7a5890a3-37c9-4b2a-a9d7-d6a48d555399"
      },
      "outputs": [
        {
          "name": "stdout",
          "output_type": "stream",
          "text": [
            "eigen values is \n",
            "[-0.37228132  5.37228132]\n",
            " eigen vector is \n",
            "[[-0.82456484 -0.41597356]\n",
            " [ 0.56576746 -0.90937671]]\n"
          ]
        }
      ],
      "source": [
        "import numpy as np\n",
        "\n",
        "mat=np.array([[1,2],[3,4]])\n",
        "val,vector = np.linalg.eig(mat)\n",
        "print(f'eigen values is \\n{val}\\n eigen vector is \\n{vector}')"
      ]
    },
    {
      "cell_type": "markdown",
      "metadata": {
        "id": "7oeUTgI_jwRj"
      },
      "source": [
        "**Question 17. Create matrix and print singular values and singular vector.** \n",
        "\n",
        "STEPS:\n",
        "\n",
        "- Create a text file and write the following data in it.\n",
        "\n",
        "```\n",
        " 1  2  3\n",
        " 4  5  6\n",
        " 7  8  9\n",
        " 10 11 12\n",
        "```\n",
        "\n",
        "- Read the text file to a numpy array\n",
        "- Print the singular values \n",
        "- Print the singular vector\n",
        "\n",
        "Hint- np.linalg.svd()\n",
        "\n",
        "\n",
        "\n"
      ]
    },
    {
      "cell_type": "code",
      "execution_count": null,
      "metadata": {
        "colab": {
          "base_uri": "https://localhost:8080/"
        },
        "id": "t-DpsKiawM2M",
        "outputId": "390d93ab-29ed-42ec-8cd0-aedf31aa6616"
      },
      "outputs": [
        {
          "name": "stdout",
          "output_type": "stream",
          "text": [
            "read text file[[ 1  2  3]\n",
            " [ 4  5  6]\n",
            " [ 7  8  9]\n",
            " [10 11 12]]\n",
            "singular values[2.54624074e+01 1.29066168e+00 2.31173375e-15]\n",
            " and [[-0.50453315 -0.5745157  -0.64449826]\n",
            " [ 0.76077568  0.05714052 -0.64649464]\n",
            " [-0.40824829  0.81649658 -0.40824829]]\n",
            "singular vector[[-0.14087668 -0.82471435  0.5377697  -0.1039411 ]\n",
            " [-0.34394629 -0.42626394 -0.63955314  0.539418  ]\n",
            " [-0.54701591 -0.02781353 -0.33420281 -0.7670127 ]\n",
            " [-0.75008553  0.37063688  0.43598625  0.3315358 ]]\n"
          ]
        }
      ],
      "source": [
        "import numpy as np\n",
        "read = np.loadtxt('que 17.txt',dtype=int)\n",
        "matx=np.array(read)\n",
        "a,b,c=np.linalg.svd(matx)\n",
        "print(f'read text file{read}\\nsingular values{b}\\n and {c}\\nsingular vector{a}')"
      ]
    },
    {
      "cell_type": "markdown",
      "metadata": {
        "id": "MS5A87J1uLqp"
      },
      "source": [
        "from google.colab import drive\n",
        "0ppiujoij\n",
        "drive.mount('/content/drive')"
      ]
    }
  ],
  "metadata": {
    "colab": {
      "provenance": []
    },
    "kernelspec": {
      "display_name": "Python 3",
      "name": "python3"
    },
    "language_info": {
      "name": "python"
    }
  },
  "nbformat": 4,
  "nbformat_minor": 0
}