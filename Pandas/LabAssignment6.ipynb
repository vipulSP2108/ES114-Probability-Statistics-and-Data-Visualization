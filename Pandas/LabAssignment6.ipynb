{
  "nbformat": 4,
  "nbformat_minor": 0,
  "metadata": {
    "colab": {
      "provenance": [],
      "toc_visible": true
    },
    "kernelspec": {
      "name": "python3",
      "display_name": "Python 3"
    },
    "language_info": {
      "name": "python"
    }
  },
  "cells": [
    {
      "cell_type": "markdown",
      "source": [
        "# Question 1\n",
        "Plot the PMF and CDF of Bernoulli, Geometric, Binomial, and Poission random variables. Choose various values of parameters.\n"
      ],
      "metadata": {
        "id": "E-WV2dx9Z4hq"
      }
    },
    {
      "cell_type": "markdown",
      "source": [
        "# Question 2\n",
        "Show the equivalence and the difference between various choices of parameters for Binomial and Poission distributions. Use both PMF and CDF."
      ],
      "metadata": {
        "id": "bXMGT_D0aN9i"
      }
    },
    {
      "cell_type": "markdown",
      "source": [
        "# Question 3\n",
        "Read an image and add different amounts of Gaussian Noise and display the corrupted images."
      ],
      "metadata": {
        "id": "NEA-Q-tkafZS"
      }
    },
    {
      "cell_type": "markdown",
      "source": [
        "# Question 4\n",
        "Plot the PDF and CDF of the following random variables for different parameter values.\n",
        "- Uniform\n",
        "- Exponential\n",
        "- Rayleigh\n",
        "- Laplacian\n",
        "- Gaussian (Normal)\n",
        "- Chi-square\n",
        "- Erlang\n",
        "- Log-normal\n",
        "- Cauchy\n",
        "- Beta\n",
        "- Weibull"
      ],
      "metadata": {
        "id": "txa6NkV3apLy"
      }
    },
    {
      "cell_type": "markdown",
      "source": [
        "# Question 5\n",
        "Find the Expectation and variance for all the random variables in Question 1 & 4. Further, find and/or plot their characteristic functions."
      ],
      "metadata": {
        "id": "oZmHLys3bD0S"
      }
    }
  ]
}