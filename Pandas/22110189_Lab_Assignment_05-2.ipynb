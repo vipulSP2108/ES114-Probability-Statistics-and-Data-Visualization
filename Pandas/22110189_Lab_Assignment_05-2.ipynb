{
  "nbformat": 4,
  "nbformat_minor": 0,
  "metadata": {
    "colab": {
      "provenance": []
    },
    "kernelspec": {
      "name": "python3",
      "display_name": "Python 3"
    },
    "language_info": {
      "name": "python"
    }
  },
  "cells": [
    {
      "cell_type": "code",
      "source": [
        "# Install all the require library using given command.\n",
        "\n",
        "%pip install pandas\n",
        "%pip install numpy\n",
        "%pip install matplotlib\n",
        "\n",
        "# Import require installed library using the given command. \n",
        "import numpy as np\n",
        "import pandas as pd\n",
        "from matplotlib import pyplot as plt\n",
        "plt.rcParams['figure.figsize'] = [25, 8]   # set inline plots, width and height in inches\n",
        "seed=325   # Use this seed to report final submissions. "
      ],
      "metadata": {
        "colab": {
          "base_uri": "https://localhost:8080/"
        },
        "id": "J8cP5haH0S7x",
        "outputId": "19052c97-1dda-4125-ede5-89da485e9b6d"
      },
      "execution_count": null,
      "outputs": [
        {
          "output_type": "stream",
          "name": "stdout",
          "text": [
            "Looking in indexes: https://pypi.org/simple, https://us-python.pkg.dev/colab-wheels/public/simple/\n",
            "Requirement already satisfied: pandas in /usr/local/lib/python3.8/dist-packages (1.3.5)\n",
            "Requirement already satisfied: pytz>=2017.3 in /usr/local/lib/python3.8/dist-packages (from pandas) (2022.7.1)\n",
            "Requirement already satisfied: numpy>=1.17.3 in /usr/local/lib/python3.8/dist-packages (from pandas) (1.21.6)\n",
            "Requirement already satisfied: python-dateutil>=2.7.3 in /usr/local/lib/python3.8/dist-packages (from pandas) (2.8.2)\n",
            "Requirement already satisfied: six>=1.5 in /usr/local/lib/python3.8/dist-packages (from python-dateutil>=2.7.3->pandas) (1.15.0)\n",
            "Looking in indexes: https://pypi.org/simple, https://us-python.pkg.dev/colab-wheels/public/simple/\n",
            "Requirement already satisfied: numpy in /usr/local/lib/python3.8/dist-packages (1.21.6)\n",
            "Looking in indexes: https://pypi.org/simple, https://us-python.pkg.dev/colab-wheels/public/simple/\n",
            "Requirement already satisfied: matplotlib in /usr/local/lib/python3.8/dist-packages (3.2.2)\n",
            "Requirement already satisfied: python-dateutil>=2.1 in /usr/local/lib/python3.8/dist-packages (from matplotlib) (2.8.2)\n",
            "Requirement already satisfied: cycler>=0.10 in /usr/local/lib/python3.8/dist-packages (from matplotlib) (0.11.0)\n",
            "Requirement already satisfied: pyparsing!=2.0.4,!=2.1.2,!=2.1.6,>=2.0.1 in /usr/local/lib/python3.8/dist-packages (from matplotlib) (3.0.9)\n",
            "Requirement already satisfied: kiwisolver>=1.0.1 in /usr/local/lib/python3.8/dist-packages (from matplotlib) (1.4.4)\n",
            "Requirement already satisfied: numpy>=1.11 in /usr/local/lib/python3.8/dist-packages (from matplotlib) (1.21.6)\n",
            "Requirement already satisfied: six>=1.5 in /usr/local/lib/python3.8/dist-packages (from python-dateutil>=2.1->matplotlib) (1.15.0)\n"
          ]
        }
      ]
    },
    {
      "cell_type": "markdown",
      "source": [
        "# **Question 1**\n",
        "\n",
        "\n",
        "Create a program to convert a dictionary to Pandas series.\n",
        "For example :\n",
        "Original dictionary:\n",
        "{'A': 10, 'B': 20, 'C': 30, 'D': 40, 'E': 50}\n",
        "\n",
        "\n",
        "\n",
        "Converted series:\n",
        "\n",
        "A 10\n",
        "\n",
        "B 20\n",
        "\n",
        "C 30\n",
        "\n",
        "D 40\n",
        "\n",
        "E 50\n",
        "\n",
        "dtype: int64"
      ],
      "metadata": {
        "id": "xWvhFWRmw_2O"
      }
    },
    {
      "cell_type": "code",
      "source": [
        "import pandas as pd\n",
        "\n",
        "Original_dictionary={'A': 10, 'B': 20, 'C': 30, 'D': 40, 'E': 50}\n",
        "ser=pd.Series(Original_dictionary)\n",
        "print(f'Converted series:\\n{ser}')\n",
        "\n",
        "# M2\n",
        "# For infinite input looping\n",
        "# Original_dictionary={}\n",
        "# while True:\n",
        "#   i,j=input('import_key import_value:').split(' ')\n",
        "#   if i and j == 'end':\n",
        "#     break\n",
        "#   else:\n",
        "#     Original_dictionary[i]=j\n",
        "# ser=pd.Series(Original_dictionary)\n",
        "# print(f'Converted series:\\n{ser}')\n",
        "\n",
        "# For DataFrame\n",
        "# Original_dictionary={'A': [10], 'B': [20], 'C': [30], 'D': [40], 'E': [50]}\n",
        "# df=pd.DataFrame(Original_dictionary)\n",
        "# print(f'Converted DataFrame:\\n{df}')"
      ],
      "metadata": {
        "colab": {
          "base_uri": "https://localhost:8080/"
        },
        "id": "ut1LETYdFv55",
        "outputId": "17ea2b26-9f75-47bf-f367-5f5fc57833ae"
      },
      "execution_count": null,
      "outputs": [
        {
          "output_type": "stream",
          "name": "stdout",
          "text": [
            "Converted series:\n",
            "A    10\n",
            "B    20\n",
            "C    30\n",
            "D    40\n",
            "E    50\n",
            "dtype: int64\n"
          ]
        }
      ]
    },
    {
      "cell_type": "markdown",
      "source": [
        "# **Question 2**\n",
        "\n",
        "Implement a code to convert each word first and last character in upper case using the Pandas library.\n",
        "\n",
        "Sample Output:\n",
        "\n",
        "Original Series:\n",
        "\n",
        "0 iit\n",
        "\n",
        "1 nit\n",
        "\n",
        "2 iiit\n",
        "\n",
        "3 ncert\n",
        "\n",
        "dtype: object\n",
        "\n",
        "First and last character of each word to upper case:\n",
        "\n",
        "0 IiT\n",
        "\n",
        "1 NiT\n",
        "\n",
        "2 IiiT\n",
        "\n",
        "3 NcerT\n",
        "\n",
        "dtype: object\n"
      ],
      "metadata": {
        "id": "PahzLKtBxVjZ"
      }
    },
    {
      "cell_type": "code",
      "source": [
        "import pandas as pd\n",
        "\n",
        "Original_dictionary={0:'iit',1:'nit',2:'iiit',3:'ncert'}\n",
        "ser=pd.Series(Original_dictionary)\n",
        "print(f'Original Series:\\n{ser}')\n",
        "\n",
        "# M1\n",
        "# def uppers(x):\n",
        "#   return x[0].upper()+x[1:-1]+x[-1].upper()\n",
        "\n",
        "# count=0\n",
        "# while count<=4:\n",
        "#   sers=ser.apply(uppers)\n",
        "#   count=count+1\n",
        "# print(f'\\nFirst and last character of each word to upper case: \\n{sers}')\n",
        "\n",
        "# M2\n",
        "ser=ser.map(lambda i: i[0].upper()+i[1:-1]+i[-1].upper())\n",
        "print(ser)\n",
        "\n",
        "# M3 (not working)\n",
        "# for i in ser:\n",
        "#   i=i.apply(i[0].upper()+i[1:-1]+i[-1].upper())"
      ],
      "metadata": {
        "colab": {
          "base_uri": "https://localhost:8080/"
        },
        "id": "ozrjtsNexX7N",
        "outputId": "119ee785-e7ef-406d-bde9-8654910d4950"
      },
      "execution_count": null,
      "outputs": [
        {
          "output_type": "stream",
          "name": "stdout",
          "text": [
            "Original Series:\n",
            "0      iit\n",
            "1      nit\n",
            "2     iiit\n",
            "3    ncert\n",
            "dtype: object\n",
            "0      IiT\n",
            "1      NiT\n",
            "2     IiiT\n",
            "3    NcerT\n",
            "dtype: object\n"
          ]
        }
      ]
    },
    {
      "cell_type": "markdown",
      "source": [
        "# **Question 3**\n",
        "\n",
        "\n",
        "Create a DataFrame with random numeric values.\n",
        "\n",
        "a) Subtract the mean of row from each element in the row.\n",
        "\n",
        "b) Find the smallest sum of column numbers.\n",
        "\n",
        "c) Count unique row of the DataFrame. (Do not Consider the duplicate row of the DataFrame).\n",
        "\n"
      ],
      "metadata": {
        "id": "R-Dr4P3d04fR"
      }
    },
    {
      "cell_type": "code",
      "source": [
        "from pandas.core.dtypes.cast import convert_dtypes\n",
        "from matplotlib.cbook import index_of\n",
        "\n",
        "import pandas as pd\n",
        "import numpy as np\n",
        "dp=pd.DataFrame(np.random.randint(10,size=(5,5)))\n",
        "print(f'orignal dataframe\\n{dp}\\n')\n",
        "\n",
        "# a\n",
        "means=dp.mean(axis=0)\n",
        "\n",
        "# for knowing mean values of repective row\n",
        "# print(f'mean values of respective rows \\n{means}')\n",
        "dp_a=dp.copy()\n",
        "i=0\n",
        "while i<=5-1:\n",
        "  j=0\n",
        "  while j<=5-1:\n",
        "    convert_dict={i:float}\n",
        "    dp_a=dp_a.astype(convert_dict)\n",
        "    dp_a.loc[:][i][j]=dp_a[:][i][j]-means[j]\n",
        "    j=j+1\n",
        "  i=i+1\n",
        "print(f'\\na)\\nResultant after subtract the mean of row from each element in the row\\n{dp_a}')\n",
        "\n",
        "# b\n",
        "sums=dp.sum(axis=0)\n",
        "# for knowing sum of repective column\n",
        "# print(f'\\nb)\\nsum of repective column numbers is : \\n{sums}')\n",
        "min=sums.min()\n",
        "\n",
        "i=0\n",
        "while True:\n",
        "  if sums[i]==min:\n",
        "    indx=i\n",
        "    break\n",
        "  else:\n",
        "    i=i+1\n",
        "print(f'\\nb)\\nsmallest sum of column numbers is : {min} of column {indx}')\n",
        "\n",
        "# c\n",
        "s=dp.drop_duplicates()\n",
        "print(f'\\nc)\\nCount of unique row in the DataFrame is : {s.shape[0]}')"
      ],
      "metadata": {
        "colab": {
          "base_uri": "https://localhost:8080/"
        },
        "id": "1c9LK75M4D9y",
        "outputId": "1149047a-6f32-4e51-e1b4-b9661688a8b6"
      },
      "execution_count": null,
      "outputs": [
        {
          "output_type": "stream",
          "name": "stdout",
          "text": [
            "orignal dataframe\n",
            "   0  1  2  3  4\n",
            "0  6  7  8  3  3\n",
            "1  0  8  6  5  1\n",
            "2  4  9  3  9  5\n",
            "3  3  9  0  7  6\n",
            "4  0  3  5  4  5\n",
            "\n",
            "\n",
            "a)\n",
            "Resultant after subtract the mean of row from each element in the row\n",
            "     0    1    2    3    4\n",
            "0  3.4  4.4  5.4  0.4  0.4\n",
            "1 -7.2  0.8 -1.2 -2.2 -6.2\n",
            "2 -0.4  4.6 -1.4  4.6  0.6\n",
            "3 -2.6  3.4 -5.6  1.4  0.4\n",
            "4 -4.0 -1.0  1.0  0.0  1.0\n",
            "\n",
            "b)\n",
            "smallest sum of column numbers is : 13 of column 0\n",
            "\n",
            "c)\n",
            "Count of unique row in the DataFrame is : 5\n"
          ]
        }
      ]
    },
    {
      "cell_type": "markdown",
      "source": [
        "# **Question 4**\n",
        "Consider following numpy arrays,\n",
        "```\n",
        "size=20000\n",
        "np.random.seed(seed)\n",
        "normal=np.random.normal(loc=5,scale=1,size=size)\n",
        "uniform=np.random.uniform(low=0,high=8,size=size)\n",
        "gamma = np.random.gamma(shape=2, scale=2, size=size)\n",
        "``` \n",
        "Create pandas Series for each and then Create a pandas Dataframe with variable name `df` having column names `Normal Dist`, `Uniform Dist` and `Gamma Dist` corresponding to variable `normal`, `gamma` and `uniform`. \n",
        "Now, Print the following \n",
        "- all Column names of created DataFrame on console \n",
        "- top 5 values using `head()` method.\n",
        "- last 10 values using `tail()` method.\n",
        "\n",
        "What is difference between a pandas series and Dataframe?\n"
      ],
      "metadata": {
        "id": "lQXR8POMy0jZ"
      }
    },
    {
      "cell_type": "code",
      "source": [
        "import numpy as np\n",
        "import pandas as pd\n",
        "\n",
        "size=20000\n",
        "seed=10\n",
        "np.random.seed(seed)\n",
        "normal=np.random.normal(loc=5,scale=1,size=size)\n",
        "uniform=np.random.uniform(low=0,high=8,size=size)\n",
        "gamma = np.random.gamma(shape=2, scale=2, size=size)\n",
        "\n",
        "ser1=pd.Series(normal)\n",
        "ser2=pd.Series(uniform)\n",
        "ser3=pd.Series(gamma)\n",
        "\n",
        "df=df=pd.DataFrame({'Normal_Dist':ser1, 'Uniform_Dist':ser2, 'Gamma_Dist':ser3})\n",
        "print(df)\n",
        "\n",
        "# df=pd.DataFrame({'Normal_Dist':normal, 'Uniform_Dist':uniform, 'Gamma_Dist':gamma})\n",
        "# # print(f' DataFrame {df}')\n",
        "\n",
        "# print(f'all Column names of created DataFrame on console \\n{df.columns}')\n",
        "# print(f'\\ntop 5 values \\n{df.head(5)}')\n",
        "# print(f'\\nlast 10 values \\n{df.tail(10)}')\n",
        "\n",
        "print('What is difference between a pandas series and Dataframe? \\nSeries is like a list in pandas. here, we can store only one list under single var \\nDataframe is a list of many series in pandas. here, we can store many list under a single var')"
      ],
      "metadata": {
        "colab": {
          "base_uri": "https://localhost:8080/"
        },
        "id": "_dYJtF7cD70D",
        "outputId": "0faef10b-1340-4efa-a288-0df2c91edc59"
      },
      "execution_count": null,
      "outputs": [
        {
          "output_type": "stream",
          "name": "stdout",
          "text": [
            "       Normal_Dist  Uniform_Dist  Gamma_Dist\n",
            "0         6.331587      0.940939    6.948179\n",
            "1         5.715279      5.971306    4.837740\n",
            "2         3.454600      1.679785    4.287444\n",
            "3         4.991616      0.797551    4.576412\n",
            "4         5.621336      6.492946    9.870914\n",
            "...            ...           ...         ...\n",
            "19995     4.309366      0.831301   10.826652\n",
            "19996     4.439403      3.392284    0.620057\n",
            "19997     5.827151      0.996537    5.792482\n",
            "19998     4.614155      5.983053    5.423738\n",
            "19999     4.596840      5.590072    6.523711\n",
            "\n",
            "[20000 rows x 3 columns]\n",
            "What is difference between a pandas series and Dataframe? \n",
            "Series is like a list in pandas. here, we can store only one list under single var \n",
            "Dataframe is a list of many series in pandas. here, we can store many list under a single var\n"
          ]
        }
      ]
    },
    {
      "cell_type": "markdown",
      "source": [
        "# **Question 5**\n",
        "(.. continued from 4)\n",
        "\n",
        "View histogram by calling `df.plot()` method defined by pandas on any DataFrame object. Investigate arguments `kind`, `bins`, `sharey` and `sharex` with `layout=[1,3]`. \n",
        "Write a Note how `sharey=True`, in this context, is of significance for visualization? \n",
        "\n",
        "Tip: set large binsize for better visualization, e.g., `bins=100`"
      ],
      "metadata": {
        "id": "Oxr_zzcR-5cg"
      }
    },
    {
      "cell_type": "code",
      "source": [
        "import numpy as np\n",
        "import pandas as pd\n",
        "\n",
        "size=20000\n",
        "seed=325\n",
        "np.random.seed(seed)\n",
        "normal=np.random.normal(loc=5,scale=1,size=size)\n",
        "uniform=np.random.uniform(low=0,high=8,size=size)\n",
        "gamma = np.random.gamma(shape=2, scale=2, size=size)\n",
        "\n",
        "df=pd.DataFrame({'Normal_Dist':normal, 'Uniform_Dist':uniform, 'Gamma_Dist':gamma})\n",
        "\n",
        "print('Note on how sharey=True, in this context, is of significance for visualization: \\nsharey=True make same y axis values for all plots in layout which help use in visualization how an \\ngraph has different picks from different plots and how they vary in terms of each other otherwise,\\nif sharey=False it will deffer y axis values acorrding to picks of each graph and hence \\nit will be defficult for us to visualization the pick values as it has different axis for different plots\\n')\n",
        "\n",
        "# we can see the difference as follows\n",
        "df.plot(kind= 'hist',subplots=True ,sharex=False ,sharey=True, layout=[1,3], bins=100, figsize=(15,5))\n",
        "# df.plot(kind= 'hist',subplots=True ,sharex=False ,sharey=False, layout=[1,3], bins=100)\n",
        "\n",
        "# for printing all graphs in single plots\n",
        "# df.plot(kind= 'hist',sharex=False ,sharey=True, bins=100, figsize=(15,5))\n",
        "\n",
        "# df.hist(sharex=False ,sharey=True, layout=[1,3], bins=100)"
      ],
      "metadata": {
        "id": "Lpy-hBNWHQ84",
        "colab": {
          "base_uri": "https://localhost:8080/",
          "height": 506
        },
        "outputId": "871d3bbb-c00f-4b4c-88a1-bdd4ea3229eb"
      },
      "execution_count": null,
      "outputs": [
        {
          "output_type": "stream",
          "name": "stdout",
          "text": [
            "Note on how sharey=True, in this context, is of significance for visualization: \n",
            "sharey=True make same y axis values for all plots in layout which help use in visualization how an \n",
            "graph has different picks from different plots and how they vary in terms of each other otherwise,\n",
            "if sharey=False it will deffer y axis values acorrding to picks of each graph and hence \n",
            "it will be defficult for us to visualization the pick values as it has different axis for different plots\n",
            "\n"
          ]
        },
        {
          "output_type": "execute_result",
          "data": {
            "text/plain": [
              "array([[<matplotlib.axes._subplots.AxesSubplot object at 0x7f4083258cd0>,\n",
              "        <matplotlib.axes._subplots.AxesSubplot object at 0x7f40831142b0>,\n",
              "        <matplotlib.axes._subplots.AxesSubplot object at 0x7f4083130970>]],\n",
              "      dtype=object)"
            ]
          },
          "metadata": {},
          "execution_count": 51
        },
        {
          "output_type": "display_data",
          "data": {
            "text/plain": [
              "<Figure size 1080x360 with 3 Axes>"
            ],
            "image/png": "[encoded data removed]"
          },
          "metadata": {
            "needs_background": "light"
          }
        }
      ]
    },
    {
      "cell_type": "markdown",
      "source": [
        "# **Question 6**\n",
        "\n",
        "(.. continued from 5)\n",
        "\n",
        "Find statistical parameters of these distributions namely: 'mean' and 'standard deviation' using pandas. \n",
        "\n",
        "Use kernel density estimation utility provided by `df.plot()` method to plot probabilty density function of distributions.\n",
        "\n",
        "Analyze these ditributions and provide atleast one real life example for each, where we see the events follow these distributions. Provide your intuition behind it."
      ],
      "metadata": {
        "id": "Ach4Hx_HC9of"
      }
    },
    {
      "cell_type": "code",
      "source": [
        "print(f'Mean:\\n {df.mean()}')\n",
        "print(f'\\nStandard Deviation:\\n {df.std()}')\n",
        "\n",
        "df.plot(kind='density', sharey=True, figsize=(15,5))\n",
        "\n",
        "# for printing seperaty\n",
        "# df.plot(kind='density',subplots=True, layout=[1,3], sharey=True)\n",
        "\n",
        "print('\\nOne real life example for each Graph')\n",
        "print(' 1. Uniform: Inside ourbody there are many uniform activities which are ongoing for example, \\nin ideal cases pumping of blood in body(heart bits), breathing, purification of blood in kidney are uniform activites.')\n",
        "print(' 2. Normal: marks of students in many national level examinations like JEE many students lie in between in terms of \\npersentage of marks they got and is decrising on the other side as students with less OR high marks are also less\\nand so we can say that marks are equally distubuted across center.')\n",
        "print(' 3. Gamma: prices of certain things when they are becoming popular there prices increase exponentially there prices \\nare at there picks during they are most popular eventually decrese will time and interest of people in that thing.\\nfor example, spinners and crocs')"
      ],
      "metadata": {
        "id": "hU2wUnsQGPw0",
        "colab": {
          "base_uri": "https://localhost:8080/",
          "height": 687
        },
        "outputId": "9aa1d720-33ee-4913-cb0c-1704bbc9384d"
      },
      "execution_count": null,
      "outputs": [
        {
          "output_type": "stream",
          "name": "stdout",
          "text": [
            "Mean:\n",
            " Normal_Dist     5.005569\n",
            "Uniform_Dist    3.990856\n",
            "Gamma_Dist      4.009655\n",
            "dtype: float64\n",
            "\n",
            "Standard Deviation:\n",
            " Normal_Dist     1.003189\n",
            "Uniform_Dist    2.317424\n",
            "Gamma_Dist      2.826669\n",
            "dtype: float64\n",
            "\n",
            "One real life example for each Graph\n",
            " 1. Uniform: Inside ourbody there are many uniform activities which are ongoing for example, \n",
            "in ideal cases pumping of blood in body(heart bits), breathing, purification of blood in kidney are uniform activites.\n",
            " 2. Normal: marks of students in many national level examinations like JEE many students lie in between in terms of \n",
            "persentage of marks they got and is decrising on the other side as students with less OR high marks are also less\n",
            "and so we can say that marks are equally distubuted across center.\n",
            " 3. Gamma: prices of certain things when they are becoming popular there prices increase exponentially there prices \n",
            "are at there picks during they are most popular eventually decrese will time and interest of people in that thing.\n",
            "for example, spinners and crocs\n"
          ]
        },
        {
          "output_type": "display_data",
          "data": {
            "text/plain": [
              "<Figure size 1080x360 with 1 Axes>"
            ],
            "image/png": "[encoded data removed]"
          },
          "metadata": {
            "needs_background": "light"
          }
        }
      ]
    },
    {
      "cell_type": "markdown",
      "source": [
        "# **Question 7**\n",
        "\n",
        "Consider Following python dictionary.\n",
        "```\n",
        "size= 200\n",
        "np.random.seed(seed)\n",
        "answers = { 'SAns 1' : np.random.randint(low=0, high=4, size=size), \n",
        "            'SAns 2' : np.random.randint(low=0, high=4, size=size),\n",
        "            'CAns 1' : np.array([np.ones((size//4))* x for x in range(0,4)]).flatten().astype(int),\n",
        "            'CAns 2' : np.flip(np.array([np.ones((size//4))* x for x in range(0,4)]).flatten().astype(int))}\n",
        "```\n",
        "\n",
        "where,\n",
        "\n",
        "200 students attempt two MCQ questions with choices as `0,1,2,3`. Key `SAns` represents students answer and Key `CAns` represents the correct solutions for that question.\n",
        "\n",
        "Convert this dictionary to a Pandas DataFrame with name `df`.\n",
        "\n",
        "Find the following and store in mentioned variable name:\n",
        "- how many students attempted Question 1 correctly. `q1c`\n",
        "- how many students attempted Question 2 correctly. `q2c`\n",
        "- how many students attempted both Question 1 and 2 correctly. `q12c`\n",
        "- how many students attempted both Question 1 and 2 wrong. `q12w`\n",
        "\n",
        "Print the values of variables using\n",
        "```\n",
        "print('First Correct:\\t{}\\nSecond Correct:\\t{}\\nBoth Correct:\\t{}\\nBoth Wrong:\\t{}'.format(q1c,q2c,q12c,q12w))\n",
        "```\n"
      ],
      "metadata": {
        "id": "13ZiPQMXO49G"
      }
    },
    {
      "cell_type": "code",
      "source": [
        "import numpy as np\n",
        "import pandas as pd\n",
        "\n",
        "size= 200\n",
        "seed= 325\n",
        "np.random.seed(seed)\n",
        "answers = { 'SAns 1' : np.random.randint(low=0, high=4, size=size), \n",
        "            'SAns 2' : np.random.randint(low=0, high=4, size=size),\n",
        "            'CAns 1' : np.array([np.ones((size//4))* x for x in range(0,4)]).flatten().astype(int),\n",
        "            'CAns 2' : np.flip(np.array([np.ones((size//4))* x for x in range(0,4)]).flatten().astype(int))}\n",
        "df=pd.DataFrame(answers)\n",
        "# a=np.random.randint(1,size=200)\n",
        "# df['Total Marks']=a\n",
        "# df['Final Marks']=a\n",
        "\n",
        "count=0\n",
        "q1c=0\n",
        "q2c=0\n",
        "q12c=0\n",
        "q12w=0\n",
        "while count<200:\n",
        "  a1=df['SAns 1'][count]==df['CAns 1'][count]\n",
        "  a2=df['SAns 2'][count]==df['CAns 2'][count]\n",
        "  w1=df['SAns 1'][count]!=df['CAns 1'][count]\n",
        "  w2=df['SAns 2'][count]!=df['CAns 2'][count]\n",
        "  if a1:\n",
        "    q1c=q1c+1\n",
        "  if a2:\n",
        "    q2c=q2c+1\n",
        "  if a1 and a2:\n",
        "    q12c=q12c+1\n",
        "  if w1 and w2:\n",
        "    q12w=q12w+1\n",
        "  count=count+1\n",
        "  \n",
        "# print(f'Our DataFrame\\n{df}')\n",
        "print('First Correct:\\t{}\\nSecond Correct:\\t{}\\nBoth Correct:\\t{}\\nBoth Wrong:\\t{}'.format(q1c,q2c,q12c,q12w))"
      ],
      "metadata": {
        "colab": {
          "base_uri": "https://localhost:8080/"
        },
        "id": "EarwL23BGRaK",
        "outputId": "c51620ef-3236-48b5-9d07-cac5017e3966"
      },
      "execution_count": null,
      "outputs": [
        {
          "output_type": "stream",
          "name": "stdout",
          "text": [
            "First Correct:\t45\n",
            "Second Correct:\t56\n",
            "Both Correct:\t13\n",
            "Both Wrong:\t112\n"
          ]
        }
      ]
    },
    {
      "cell_type": "markdown",
      "source": [
        "# **Question 8**\n",
        "\n",
        "(..continued from 7.)\n",
        "\n",
        "Award Marks to students if each question was of 10 marks. Save the result in `df` by adding a column of name `Total Marks`. Print how many students got 20 Marks.\n"
      ],
      "metadata": {
        "id": "_6oDxwZiZAjF"
      }
    },
    {
      "cell_type": "code",
      "source": [
        "import numpy as np\n",
        "import pandas as pd\n",
        "\n",
        "a=np.random.randint(1,size=200)\n",
        "df['Total Marks']=a\n",
        "\n",
        "count=0\n",
        "while count<200:\n",
        "  a1=df['SAns 1'][count]==df['CAns 1'][count]\n",
        "  a2=df['SAns 2'][count]==df['CAns 2'][count]\n",
        "  if a1:\n",
        "    df.loc[count]['Total Marks']=df.loc[count]['Total Marks']+10\n",
        "  if a2:\n",
        "    df.loc[count]['Total Marks']=df.loc[count]['Total Marks']+10\n",
        "  count=count+1\n",
        "\n",
        "# print(f'Our DataFrame after adding a column for Total Marks \\n{df}')\n",
        "count=0\n",
        "for i in df['Total Marks']:\n",
        "  if i == 20:\n",
        "    count=count+1\n",
        "print(f'Number of students got 20 Marks : {count}')"
      ],
      "metadata": {
        "colab": {
          "base_uri": "https://localhost:8080/"
        },
        "id": "Xz45tby1GSDU",
        "outputId": "ee2940e9-1f7a-4f31-9a2f-cdb21e73eb54"
      },
      "execution_count": null,
      "outputs": [
        {
          "output_type": "stream",
          "name": "stdout",
          "text": [
            "Number of students got 20 Marks : 13\n"
          ]
        }
      ]
    },
    {
      "cell_type": "markdown",
      "source": [
        "# **Question 9**\n",
        "\n",
        "(...continued from 7)\n",
        "\n",
        "For each correct answer award 10 marks with negative marking of 5 marks for incorrect attempt. Also award 10 Bonus marks if student received full marks.\n",
        "\n",
        "Save the result in `df` by adding a column of name `Final Marks`.\n",
        "\n",
        "Students who secured Final marks -10 failed. Print how many students failed in test. Verify this with total students who attempted both answers wrong.\n",
        "\n",
        "Print Number of students and indexes of students securing maximum marks. What is maximum marks? Write the case, when maximum marks obtained may not be 30."
      ],
      "metadata": {
        "id": "rQifAr2cdZZU"
      }
    },
    {
      "cell_type": "code",
      "source": [
        "import numpy as np\n",
        "import pandas as pd\n",
        "\n",
        "a=np.random.randint(1,size=200)\n",
        "df['Final Marks']=a\n",
        "\n",
        "count=0\n",
        "while count<200:\n",
        "  a1=df['SAns 1'][count]==df['CAns 1'][count]\n",
        "  a2=df['SAns 2'][count]==df['CAns 2'][count]\n",
        "  w1=df['SAns 1'][count]!=df['CAns 1'][count]\n",
        "  w2=df['SAns 2'][count]!=df['CAns 2'][count]\n",
        "  if a1:\n",
        "    df.loc[count]['Final Marks']=df.loc[count]['Final Marks']+10\n",
        "  if a2:\n",
        "    df.loc[count]['Final Marks']=df.loc[count]['Final Marks']+10\n",
        "  if a1 and a2:\n",
        "    df.loc[count]['Final Marks']=df.loc[count]['Final Marks']+10\n",
        "  if w1:\n",
        "    df.loc[count]['Final Marks']=df.loc[count]['Final Marks']-5\n",
        "  if w2:\n",
        "    df.loc[count]['Final Marks']=df.loc[count]['Final Marks']-5\n",
        "  count=count+1\n",
        "\n",
        "# print(f'Our DataFrame after adding a column for Final Marks \\n{df}')\n",
        "max_of_seed325=df['Final Marks'].max()\n",
        "\n",
        "count1=0\n",
        "count2=0\n",
        "listx=[]\n",
        "i=0\n",
        "while i <200:\n",
        "  a=df['Final Marks'][i]\n",
        "  if a==-10:\n",
        "    count1=count1+1\n",
        "  if a==max_of_seed325:\n",
        "    count2=count2+1\n",
        "    listx.append(i)\n",
        "  i=i+1\n",
        "\n",
        "print(f'students failed in test ie.marks -10 : {count1}')\n",
        "# Verify this with total students who attempted both answers wrong.\n",
        "# if count1 and q12w are equal then it will be proved therefore;\n",
        "print(f'\\nVerification of total students who attempted \\nboth answers wrong (q12w) and students failed (secured Final marks -10) in test: \\n{count1==q12w}')\n",
        "print(f'\\nNumber of students securing maximum marks : {count2}\\nindexes of students securing maximum marks : {listx}')\n",
        "\n",
        "# maximum marks are the marks which are highest in whole system. the case, when no one in the class attempt both que correct will be the case when maximum marks obtained may not be 30."
      ],
      "metadata": {
        "colab": {
          "base_uri": "https://localhost:8080/"
        },
        "id": "Y3DPkq5iGS3H",
        "outputId": "dbc6dedd-aa94-402b-ca90-fe571f7e96b2"
      },
      "execution_count": null,
      "outputs": [
        {
          "output_type": "stream",
          "name": "stdout",
          "text": [
            "students failed in test ie.marks -10 : 112\n",
            "\n",
            "Verification of total students who attempted \n",
            "both answers wrong (q12w) and students failed (secured Final marks -10) in test: \n",
            "True\n",
            "\n",
            "Number of students securing maximum marks : 13\n",
            "indexes of students securing maximum marks : [34, 45, 47, 58, 62, 85, 87, 117, 127, 129, 134, 165, 191]\n"
          ]
        }
      ]
    },
    {
      "cell_type": "markdown",
      "source": [
        "# **Question 10**\n",
        "\n",
        "(..continued from 9)\n",
        "\n",
        "Plot appropriate graph showing Final Marks vs Number of students \n",
        "\n",
        "Change the random seed in top most block `seed=325` to other numbers, evaluate and observe. Why seed has significance in random generation? See if you land a case where `Maximum Marks!=30`, i.e. none of students attempted both questions correct.\n",
        "\n",
        "Also, write a note on why none of student could have scored 10 Marks, in this context.\n",
        "\n",
        "Note: Final results to be reported on seed=325 for consistency. \n"
      ],
      "metadata": {
        "id": "C4gwCd4tfWJn"
      }
    },
    {
      "cell_type": "code",
      "source": [
        "import numpy as np\n",
        "import pandas as pd\n",
        "import pylab as pl\n",
        "\n",
        "x=df['Final Marks']\n",
        "y=np.arange(0,200)\n",
        "\n",
        "# we get mimimum no of students geting highest marks on (2**(n))+1 where n is (0,1,2,3,...) ie, (1,3,5,9,...) \n",
        "\n",
        "# for sorting number of students in different groups according to their marks\n",
        "dp=pd.DataFrame(x,y)\n",
        "histo=dp.hist()\n",
        "pl.xlabel('Marks')\n",
        "pl.ylabel('No of Students')\n",
        "\n",
        "# for which student number got how many marks\n",
        "# plots=dp.plot()\n",
        "# plots.set_xlabel('Student')\n",
        "# plots.set_ylabel('Marks')\n",
        "\n",
        "print('Note on why none of student could have scored 10 Marks\\n as all students attempt all quetion therefore there is no probability of getting zero \\nand for getting a score zero a student should atempt 1 que correct and leave other so he get zero \\nwe can see this from grap also')"
      ],
      "metadata": {
        "colab": {
          "base_uri": "https://localhost:8080/",
          "height": 443
        },
        "id": "KvTmkHhaGTdH",
        "outputId": "c3a76a8e-b3df-4a2e-cfa7-8cd45ad2ac2a"
      },
      "execution_count": null,
      "outputs": [
        {
          "output_type": "stream",
          "name": "stdout",
          "text": [
            "Note on why none of student could have scored 10 Marks\n",
            " as all students attempt all quetion therefore there is no probability of getting zero \n",
            "and for getting a score zero a student should atempt 1 que correct and leave other so he get zero \n",
            "we can see this from grap also\n"
          ]
        },
        {
          "output_type": "display_data",
          "data": {
            "text/plain": [
              "<Figure size 1800x576 with 1 Axes>"
            ],
            "image/png": "[encoded data removed]"
          },
          "metadata": {
            "needs_background": "light"
          }
        }
      ]
    }
  ]
}